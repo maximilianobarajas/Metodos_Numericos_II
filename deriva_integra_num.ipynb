{
 "cells": [
  {
   "cell_type": "markdown",
   "metadata": {},
   "source": [
    "# Métodos numéricos II\n",
    "A lo largo de esta UEA se analizaron diversos problemas de distintas ramas de las matématicas con el fin de su resolución numérica computacionalmente."
   ]
  },
  {
   "cell_type": "markdown",
   "metadata": {},
   "source": [
    "Inicialmente importamos las bibliotecas a utilizar:"
   ]
  },
  {
   "cell_type": "code",
   "execution_count": 14,
   "metadata": {},
   "outputs": [
    {
     "name": "stderr",
     "output_type": "stream",
     "text": [
      "WARNING: using DataFrames.order in module Main conflicts with an existing identifier.\n"
     ]
    }
   ],
   "source": [
    "using DataFrames #Utilizaremos los Dataframes para realizar tablas con el fin de comparar resultados\n",
    "using Printf #Utilizaremos esta biblioteca para dar formato apropiado"
   ]
  },
  {
   "cell_type": "markdown",
   "metadata": {},
   "source": [
    "## Derivación numérica "
   ]
  },
  {
   "cell_type": "markdown",
   "metadata": {},
   "source": [
    "Comenzamos implementando las diversas formas de aproximar la derivada numericamente, existen los siguientes métodos de derivación numérica:\n",
    "\n",
    "Inicialmente existen las aproximaciones derivadas de la aproximación a la derivada como límite:\n",
    "$$\n",
    "f'(x) \\approx \\frac{f(x + h) - f(x)}{h}\n",
    "$$\n",
    "\n",
    "$$\n",
    "f'(x) \\approx \\frac{f(x) - f(x - h)}{h}\n",
    "$$\n",
    "Después plantearemos las fórmulas de 3 puntos:\n",
    "$$\n",
    "f'(x) \\approx \\frac{-3.0 \\cdot f(x) + 4.0 \\cdot f(x + h) - f(x + 2.0 \\cdot h)}{2.0 \\cdot h}\n",
    "$$\n",
    "\n",
    "$$\n",
    "f'(x) \\approx \\frac{f(x + h) - f(x - h)}{2.0 \\cdot h}\n",
    "$$\n",
    "Finalmente las aproximaciones de 5 puntos:\n",
    "$$\n",
    "f'(x) \\approx \\frac{f(x - 2.0 \\cdot h) - 8.0 \\cdot f(x - h) + 8.0 \\cdot f(x + h) - f(x + 2.0 \\cdot h)}{12.0 \\cdot h}\n",
    "$$\n",
    "\n",
    "$$\n",
    "f'(x) \\approx \\frac{-25.0 \\cdot f(x) + 48.0 \\cdot f(x + h) - 36.0 \\cdot f(x + 2.0 \\cdot h) + 16.0 \\cdot f(x + 3.0 \\cdot h) - 3.0 \\cdot f(x + 4.0 \\cdot h)}{12.0 \\cdot h}\n",
    "$$\n",
    "\n",
    "\n"
   ]
  },
  {
   "cell_type": "code",
   "execution_count": 15,
   "metadata": {},
   "outputs": [
    {
     "data": {
      "text/plain": [
       "tabulate_derivative (generic function with 2 methods)"
      ]
     },
     "execution_count": 15,
     "metadata": {},
     "output_type": "execute_result"
    }
   ],
   "source": [
    "function diff_forwards(f, x, h)\n",
    "    #Derivada aproximada por la definición hacía adelante\n",
    "    return (f(x + h) - f(x)) / h\n",
    "end\n",
    "\n",
    "function diff_backwards(f, x, h)\n",
    "    #Derivada aproximada por la definición hacía atrás\n",
    "    return (f(x) - f(x - h)) / h\n",
    "end\n",
    "\n",
    "function diff_final_three_points(f, x, h)\n",
    "    #Derivada aproximada por tres puntos recorridos \n",
    "    return (-3.0 * f(x) + 4.0 * f(x + h) - f(x + 2.0 * h)) / (2.0 * h)\n",
    "end\n",
    "\n",
    "function diff_medium_three_points(f, x, h)\n",
    "    #Derivada aproximada por tres puntos medios \n",
    "    return (f(x + h) - f(x - h)) / (2.0 * h)\n",
    "end\n",
    "\n",
    "function diff_medium_five_points(f, x, h)\n",
    "    #Derivada aproximada por cinco puntos medios \n",
    "    return (f(x - 2.0 * h) - 8.0 * f(x - h) + 8.0 * f(x + h) - f(x + 2.0 * h)) / (12.0 * h)\n",
    "end\n",
    "\n",
    "function diff_final_five_points(f, x, h)\n",
    "    #Derivada aproximada por cinco puntos finales \n",
    "    return (-25.0 * f(x) + 48.0 * f(x + h) - 36.0 * f(x + 2.0 * h)\n",
    "        + 16.0 * f(x + 3.0 * h) - 3.0 * f(x + 4.0 * h)) / (12.0 * h)\n",
    "end\n",
    "\n",
    "\n",
    "function tabulate_derivative(f, x_0, h_values, method, derivative_func=nothing)\n",
    "    #Utilizarémos esta función para tabular distintos resultados\n",
    "    data = DataFrame(\n",
    "        h = Float64[],\n",
    "        Approximation = Float64[],\n",
    "        cota = Float64[],\n",
    "        Error = Float64[]\n",
    "    )\n",
    "    #Para cada valor de h calculamos la derivada numérica con el método especificado\n",
    "    for h in h_values\n",
    "        approximation, cota, error = 0.0, 0.0, 0.0\n",
    "        #Para los primeros dos métodos agregamos un valor que representa una cota para el error de las aproximaciones numéricas\n",
    "        if method == \"diff_forwards\"\n",
    "            approximation = diff_forwards(f, x_0, h)\n",
    "            cota = abs(h) / (2.0 * (x_0 * x_0))\n",
    "            if derivative_func !== nothing\n",
    "                error = abs(derivative_func(x_0) - approximation)\n",
    "            end\n",
    "        elseif method == \"diff_backwards\"\n",
    "            approximation = diff_backwards(f, x_0, h)\n",
    "            cota = abs(h) / (2.0 * (x_0 - h) * (x_0 - h))\n",
    "            if derivative_func !== nothing\n",
    "                error = abs(derivative_func(x_0) - approximation)\n",
    "            end\n",
    "        elseif method == \"diff_final_three_points\"\n",
    "            approximation = diff_final_three_points(f, x_0, h)\n",
    "            cota = abs(h) / (3.0 * (x_0 * x_0))\n",
    "            if derivative_func !== nothing\n",
    "                error = abs(derivative_func(x_0) - approximation)\n",
    "            end\n",
    "        elseif method == \"diff_medium_three_points\"\n",
    "            approximation = diff_medium_three_points(f, x_0, h)\n",
    "            cota = (2.0 * h * h) / (6.0 * (x_0 - h)^3)\n",
    "            if derivative_func !== nothing\n",
    "                error = abs(derivative_func(x_0) - approximation)\n",
    "            end\n",
    "        elseif method == \"diff_medium_five_points\"\n",
    "            approximation = diff_medium_five_points(f, x_0, h)\n",
    "            if derivative_func !== nothing\n",
    "                error = abs(derivative_func(x_0) - approximation)\n",
    "            end\n",
    "        elseif method == \"diff_final_five_points\"\n",
    "            approximation = diff_final_five_points(f, x_0, h)\n",
    "            if derivative_func !== nothing\n",
    "                error = abs(derivative_func(x_0) - approximation)\n",
    "            end\n",
    "        else\n",
    "            error(\"Invalid method: $method\")\n",
    "        end\n",
    "\n",
    "        push!(data, (h, approximation, cota, error))\n",
    "    end\n",
    "\n",
    "    println(\"Derivative table created.\")\n",
    "    return data\n",
    "end"
   ]
  },
  {
   "cell_type": "markdown",
   "metadata": {},
   "source": [
    "Consideremos la función logaritmo natural, sabemos lo siguiente:\n",
    "  $$f(x) = ln(x)$$\n",
    "\n",
    "La derivada respecto a $x$ es la siguiente:\n",
    "\n",
    "$$f(x) = \\frac{1}{x}$$"
   ]
  },
  {
   "cell_type": "code",
   "execution_count": 16,
   "metadata": {},
   "outputs": [
    {
     "data": {
      "text/plain": [
       "f_prima (generic function with 1 method)"
      ]
     },
     "execution_count": 16,
     "metadata": {},
     "output_type": "execute_result"
    }
   ],
   "source": [
    "#Implementamos la función de la cuál queremos aproximar la derivada y la derivada para comparar resultados\n",
    "function f(x)\n",
    "    return log(x)\n",
    "end\n",
    "\n",
    "function f_prima(x)\n",
    "    return 1/x\n",
    "end"
   ]
  },
  {
   "cell_type": "code",
   "execution_count": 17,
   "metadata": {},
   "outputs": [
    {
     "name": "stdout",
     "output_type": "stream",
     "text": [
      "Derivative table created.\n",
      "Resultados del método: diff_forwards\n"
     ]
    },
    {
     "data": {
      "text/html": [
       "<div><div style = \"float: left;\"><span>6×4 DataFrame</span></div><div style = \"clear: both;\"></div></div><div class = \"data-frame\" style = \"overflow-x: scroll;\"><table class = \"data-frame\" style = \"margin-bottom: 6px;\"><thead><tr class = \"header\"><th class = \"rowNumber\" style = \"font-weight: bold; text-align: right;\">Row</th><th style = \"text-align: left;\">h</th><th style = \"text-align: left;\">Approximation</th><th style = \"text-align: left;\">cota</th><th style = \"text-align: left;\">Error</th></tr><tr class = \"subheader headerLastRow\"><th class = \"rowNumber\" style = \"font-weight: bold; text-align: right;\"></th><th title = \"Float64\" style = \"text-align: left;\">Float64</th><th title = \"Float64\" style = \"text-align: left;\">Float64</th><th title = \"Float64\" style = \"text-align: left;\">Float64</th><th title = \"Float64\" style = \"text-align: left;\">Float64</th></tr></thead><tbody><tr><td class = \"rowNumber\" style = \"font-weight: bold; text-align: right;\">1</td><td style = \"text-align: right;\">0.1</td><td style = \"text-align: right;\">0.540672</td><td style = \"text-align: right;\">0.0154321</td><td style = \"text-align: right;\">0.0148833</td></tr><tr><td class = \"rowNumber\" style = \"font-weight: bold; text-align: right;\">2</td><td style = \"text-align: right;\">0.01</td><td style = \"text-align: right;\">0.554018</td><td style = \"text-align: right;\">0.00154321</td><td style = \"text-align: right;\">0.00153752</td></tr><tr><td class = \"rowNumber\" style = \"font-weight: bold; text-align: right;\">3</td><td style = \"text-align: right;\">0.001</td><td style = \"text-align: right;\">0.555401</td><td style = \"text-align: right;\">0.000154321</td><td style = \"text-align: right;\">0.000154264</td></tr><tr><td class = \"rowNumber\" style = \"font-weight: bold; text-align: right;\">4</td><td style = \"text-align: right;\">0.0001</td><td style = \"text-align: right;\">0.55554</td><td style = \"text-align: right;\">1.54321e-5</td><td style = \"text-align: right;\">1.54315e-5</td></tr><tr><td class = \"rowNumber\" style = \"font-weight: bold; text-align: right;\">5</td><td style = \"text-align: right;\">1.0e-5</td><td style = \"text-align: right;\">0.555554</td><td style = \"text-align: right;\">1.54321e-6</td><td style = \"text-align: right;\">1.54321e-6</td></tr><tr><td class = \"rowNumber\" style = \"font-weight: bold; text-align: right;\">6</td><td style = \"text-align: right;\">1.0e-6</td><td style = \"text-align: right;\">0.555555</td><td style = \"text-align: right;\">1.54321e-7</td><td style = \"text-align: right;\">1.54428e-7</td></tr></tbody></table></div>"
      ],
      "text/latex": [
       "\\begin{tabular}{r|cccc}\n",
       "\t& h & Approximation & cota & Error\\\\\n",
       "\t\\hline\n",
       "\t& Float64 & Float64 & Float64 & Float64\\\\\n",
       "\t\\hline\n",
       "\t1 & 0.1 & 0.540672 & 0.0154321 & 0.0148833 \\\\\n",
       "\t2 & 0.01 & 0.554018 & 0.00154321 & 0.00153752 \\\\\n",
       "\t3 & 0.001 & 0.555401 & 0.000154321 & 0.000154264 \\\\\n",
       "\t4 & 0.0001 & 0.55554 & 1.54321e-5 & 1.54315e-5 \\\\\n",
       "\t5 & 1.0e-5 & 0.555554 & 1.54321e-6 & 1.54321e-6 \\\\\n",
       "\t6 & 1.0e-6 & 0.555555 & 1.54321e-7 & 1.54428e-7 \\\\\n",
       "\\end{tabular}\n"
      ],
      "text/plain": [
       "\u001b[1m6×4 DataFrame\u001b[0m\n",
       "\u001b[1m Row \u001b[0m│\u001b[1m h       \u001b[0m\u001b[1m Approximation \u001b[0m\u001b[1m cota        \u001b[0m\u001b[1m Error       \u001b[0m\n",
       "     │\u001b[90m Float64 \u001b[0m\u001b[90m Float64       \u001b[0m\u001b[90m Float64     \u001b[0m\u001b[90m Float64     \u001b[0m\n",
       "─────┼──────────────────────────────────────────────────\n",
       "   1 │  0.1          0.540672  0.0154321    0.0148833\n",
       "   2 │  0.01         0.554018  0.00154321   0.00153752\n",
       "   3 │  0.001        0.555401  0.000154321  0.000154264\n",
       "   4 │  0.0001       0.55554   1.54321e-5   1.54315e-5\n",
       "   5 │  1.0e-5       0.555554  1.54321e-6   1.54321e-6\n",
       "   6 │  1.0e-6       0.555555  1.54321e-7   1.54428e-7"
      ]
     },
     "metadata": {},
     "output_type": "display_data"
    },
    {
     "name": "stdout",
     "output_type": "stream",
     "text": [
      "Derivative table created.\n",
      "Resultados del método: diff_backwards\n"
     ]
    },
    {
     "data": {
      "text/html": [
       "<div><div style = \"float: left;\"><span>6×4 DataFrame</span></div><div style = \"clear: both;\"></div></div><div class = \"data-frame\" style = \"overflow-x: scroll;\"><table class = \"data-frame\" style = \"margin-bottom: 6px;\"><thead><tr class = \"header\"><th class = \"rowNumber\" style = \"font-weight: bold; text-align: right;\">Row</th><th style = \"text-align: left;\">h</th><th style = \"text-align: left;\">Approximation</th><th style = \"text-align: left;\">cota</th><th style = \"text-align: left;\">Error</th></tr><tr class = \"subheader headerLastRow\"><th class = \"rowNumber\" style = \"font-weight: bold; text-align: right;\"></th><th title = \"Float64\" style = \"text-align: left;\">Float64</th><th title = \"Float64\" style = \"text-align: left;\">Float64</th><th title = \"Float64\" style = \"text-align: left;\">Float64</th><th title = \"Float64\" style = \"text-align: left;\">Float64</th></tr></thead><tbody><tr><td class = \"rowNumber\" style = \"font-weight: bold; text-align: right;\">1</td><td style = \"text-align: right;\">0.1</td><td style = \"text-align: right;\">0.571584</td><td style = \"text-align: right;\">0.017301</td><td style = \"text-align: right;\">0.0160286</td></tr><tr><td class = \"rowNumber\" style = \"font-weight: bold; text-align: right;\">2</td><td style = \"text-align: right;\">0.01</td><td style = \"text-align: right;\">0.557105</td><td style = \"text-align: right;\">0.0015605</td><td style = \"text-align: right;\">0.00154895</td></tr><tr><td class = \"rowNumber\" style = \"font-weight: bold; text-align: right;\">3</td><td style = \"text-align: right;\">0.001</td><td style = \"text-align: right;\">0.55571</td><td style = \"text-align: right;\">0.000154493</td><td style = \"text-align: right;\">0.000154378</td></tr><tr><td class = \"rowNumber\" style = \"font-weight: bold; text-align: right;\">4</td><td style = \"text-align: right;\">0.0001</td><td style = \"text-align: right;\">0.555571</td><td style = \"text-align: right;\">1.54338e-5</td><td style = \"text-align: right;\">1.54327e-5</td></tr><tr><td class = \"rowNumber\" style = \"font-weight: bold; text-align: right;\">5</td><td style = \"text-align: right;\">1.0e-5</td><td style = \"text-align: right;\">0.555557</td><td style = \"text-align: right;\">1.54323e-6</td><td style = \"text-align: right;\">1.54322e-6</td></tr><tr><td class = \"rowNumber\" style = \"font-weight: bold; text-align: right;\">6</td><td style = \"text-align: right;\">1.0e-6</td><td style = \"text-align: right;\">0.555556</td><td style = \"text-align: right;\">1.54321e-7</td><td style = \"text-align: right;\">1.54325e-7</td></tr></tbody></table></div>"
      ],
      "text/latex": [
       "\\begin{tabular}{r|cccc}\n",
       "\t& h & Approximation & cota & Error\\\\\n",
       "\t\\hline\n",
       "\t& Float64 & Float64 & Float64 & Float64\\\\\n",
       "\t\\hline\n",
       "\t1 & 0.1 & 0.571584 & 0.017301 & 0.0160286 \\\\\n",
       "\t2 & 0.01 & 0.557105 & 0.0015605 & 0.00154895 \\\\\n",
       "\t3 & 0.001 & 0.55571 & 0.000154493 & 0.000154378 \\\\\n",
       "\t4 & 0.0001 & 0.555571 & 1.54338e-5 & 1.54327e-5 \\\\\n",
       "\t5 & 1.0e-5 & 0.555557 & 1.54323e-6 & 1.54322e-6 \\\\\n",
       "\t6 & 1.0e-6 & 0.555556 & 1.54321e-7 & 1.54325e-7 \\\\\n",
       "\\end{tabular}\n"
      ],
      "text/plain": [
       "\u001b[1m6×4 DataFrame\u001b[0m\n",
       "\u001b[1m Row \u001b[0m│\u001b[1m h       \u001b[0m\u001b[1m Approximation \u001b[0m\u001b[1m cota        \u001b[0m\u001b[1m Error       \u001b[0m\n",
       "     │\u001b[90m Float64 \u001b[0m\u001b[90m Float64       \u001b[0m\u001b[90m Float64     \u001b[0m\u001b[90m Float64     \u001b[0m\n",
       "─────┼──────────────────────────────────────────────────\n",
       "   1 │  0.1          0.571584  0.017301     0.0160286\n",
       "   2 │  0.01         0.557105  0.0015605    0.00154895\n",
       "   3 │  0.001        0.55571   0.000154493  0.000154378\n",
       "   4 │  0.0001       0.555571  1.54338e-5   1.54327e-5\n",
       "   5 │  1.0e-5       0.555557  1.54323e-6   1.54322e-6\n",
       "   6 │  1.0e-6       0.555556  1.54321e-7   1.54325e-7"
      ]
     },
     "metadata": {},
     "output_type": "display_data"
    },
    {
     "name": "stdout",
     "output_type": "stream",
     "text": [
      "Derivative table created.\n",
      "Resultados del método: diff_final_three_points\n"
     ]
    },
    {
     "data": {
      "text/html": [
       "<div><div style = \"float: left;\"><span>6×4 DataFrame</span></div><div style = \"clear: both;\"></div></div><div class = \"data-frame\" style = \"overflow-x: scroll;\"><table class = \"data-frame\" style = \"margin-bottom: 6px;\"><thead><tr class = \"header\"><th class = \"rowNumber\" style = \"font-weight: bold; text-align: right;\">Row</th><th style = \"text-align: left;\">h</th><th style = \"text-align: left;\">Approximation</th><th style = \"text-align: left;\">cota</th><th style = \"text-align: left;\">Error</th></tr><tr class = \"subheader headerLastRow\"><th class = \"rowNumber\" style = \"font-weight: bold; text-align: right;\"></th><th title = \"Float64\" style = \"text-align: left;\">Float64</th><th title = \"Float64\" style = \"text-align: left;\">Float64</th><th title = \"Float64\" style = \"text-align: left;\">Float64</th><th title = \"Float64\" style = \"text-align: left;\">Float64</th></tr></thead><tbody><tr><td class = \"rowNumber\" style = \"font-weight: bold; text-align: right;\">1</td><td style = \"text-align: right;\">0.1</td><td style = \"text-align: right;\">0.554542</td><td style = \"text-align: right;\">0.0102881</td><td style = \"text-align: right;\">0.00101371</td></tr><tr><td class = \"rowNumber\" style = \"font-weight: bold; text-align: right;\">2</td><td style = \"text-align: right;\">0.01</td><td style = \"text-align: right;\">0.555544</td><td style = \"text-align: right;\">0.00102881</td><td style = \"text-align: right;\">1.12898e-5</td></tr><tr><td class = \"rowNumber\" style = \"font-weight: bold; text-align: right;\">3</td><td style = \"text-align: right;\">0.001</td><td style = \"text-align: right;\">0.555555</td><td style = \"text-align: right;\">0.000102881</td><td style = \"text-align: right;\">1.14169e-7</td></tr><tr><td class = \"rowNumber\" style = \"font-weight: bold; text-align: right;\">4</td><td style = \"text-align: right;\">0.0001</td><td style = \"text-align: right;\">0.555556</td><td style = \"text-align: right;\">1.02881e-5</td><td style = \"text-align: right;\">1.14433e-9</td></tr><tr><td class = \"rowNumber\" style = \"font-weight: bold; text-align: right;\">5</td><td style = \"text-align: right;\">1.0e-5</td><td style = \"text-align: right;\">0.555556</td><td style = \"text-align: right;\">1.02881e-6</td><td style = \"text-align: right;\">1.30138e-11</td></tr><tr><td class = \"rowNumber\" style = \"font-weight: bold; text-align: right;\">6</td><td style = \"text-align: right;\">1.0e-6</td><td style = \"text-align: right;\">0.555556</td><td style = \"text-align: right;\">1.02881e-7</td><td style = \"text-align: right;\">2.18405e-10</td></tr></tbody></table></div>"
      ],
      "text/latex": [
       "\\begin{tabular}{r|cccc}\n",
       "\t& h & Approximation & cota & Error\\\\\n",
       "\t\\hline\n",
       "\t& Float64 & Float64 & Float64 & Float64\\\\\n",
       "\t\\hline\n",
       "\t1 & 0.1 & 0.554542 & 0.0102881 & 0.00101371 \\\\\n",
       "\t2 & 0.01 & 0.555544 & 0.00102881 & 1.12898e-5 \\\\\n",
       "\t3 & 0.001 & 0.555555 & 0.000102881 & 1.14169e-7 \\\\\n",
       "\t4 & 0.0001 & 0.555556 & 1.02881e-5 & 1.14433e-9 \\\\\n",
       "\t5 & 1.0e-5 & 0.555556 & 1.02881e-6 & 1.30138e-11 \\\\\n",
       "\t6 & 1.0e-6 & 0.555556 & 1.02881e-7 & 2.18405e-10 \\\\\n",
       "\\end{tabular}\n"
      ],
      "text/plain": [
       "\u001b[1m6×4 DataFrame\u001b[0m\n",
       "\u001b[1m Row \u001b[0m│\u001b[1m h       \u001b[0m\u001b[1m Approximation \u001b[0m\u001b[1m cota        \u001b[0m\u001b[1m Error       \u001b[0m\n",
       "     │\u001b[90m Float64 \u001b[0m\u001b[90m Float64       \u001b[0m\u001b[90m Float64     \u001b[0m\u001b[90m Float64     \u001b[0m\n",
       "─────┼──────────────────────────────────────────────────\n",
       "   1 │  0.1          0.554542  0.0102881    0.00101371\n",
       "   2 │  0.01         0.555544  0.00102881   1.12898e-5\n",
       "   3 │  0.001        0.555555  0.000102881  1.14169e-7\n",
       "   4 │  0.0001       0.555556  1.02881e-5   1.14433e-9\n",
       "   5 │  1.0e-5       0.555556  1.02881e-6   1.30138e-11\n",
       "   6 │  1.0e-6       0.555556  1.02881e-7   2.18405e-10"
      ]
     },
     "metadata": {},
     "output_type": "display_data"
    },
    {
     "name": "stdout",
     "output_type": "stream",
     "text": [
      "Derivative table created.\n",
      "Resultados del método: diff_medium_three_points\n"
     ]
    },
    {
     "data": {
      "text/html": [
       "<div><div style = \"float: left;\"><span>6×4 DataFrame</span></div><div style = \"clear: both;\"></div></div><div class = \"data-frame\" style = \"overflow-x: scroll;\"><table class = \"data-frame\" style = \"margin-bottom: 6px;\"><thead><tr class = \"header\"><th class = \"rowNumber\" style = \"font-weight: bold; text-align: right;\">Row</th><th style = \"text-align: left;\">h</th><th style = \"text-align: left;\">Approximation</th><th style = \"text-align: left;\">cota</th><th style = \"text-align: left;\">Error</th></tr><tr class = \"subheader headerLastRow\"><th class = \"rowNumber\" style = \"font-weight: bold; text-align: right;\"></th><th title = \"Float64\" style = \"text-align: left;\">Float64</th><th title = \"Float64\" style = \"text-align: left;\">Float64</th><th title = \"Float64\" style = \"text-align: left;\">Float64</th><th title = \"Float64\" style = \"text-align: left;\">Float64</th></tr></thead><tbody><tr><td class = \"rowNumber\" style = \"font-weight: bold; text-align: right;\">1</td><td style = \"text-align: right;\">0.1</td><td style = \"text-align: right;\">0.556128</td><td style = \"text-align: right;\">0.000678472</td><td style = \"text-align: right;\">0.00057262</td></tr><tr><td class = \"rowNumber\" style = \"font-weight: bold; text-align: right;\">2</td><td style = \"text-align: right;\">0.01</td><td style = \"text-align: right;\">0.555561</td><td style = \"text-align: right;\">5.81192e-6</td><td style = \"text-align: right;\">5.7157e-6</td></tr><tr><td class = \"rowNumber\" style = \"font-weight: bold; text-align: right;\">3</td><td style = \"text-align: right;\">0.001</td><td style = \"text-align: right;\">0.555556</td><td style = \"text-align: right;\">5.72513e-8</td><td style = \"text-align: right;\">5.71559e-8</td></tr><tr><td class = \"rowNumber\" style = \"font-weight: bold; text-align: right;\">4</td><td style = \"text-align: right;\">0.0001</td><td style = \"text-align: right;\">0.555556</td><td style = \"text-align: right;\">5.71654e-10</td><td style = \"text-align: right;\">5.71519e-10</td></tr><tr><td class = \"rowNumber\" style = \"font-weight: bold; text-align: right;\">5</td><td style = \"text-align: right;\">1.0e-5</td><td style = \"text-align: right;\">0.555556</td><td style = \"text-align: right;\">5.71569e-12</td><td style = \"text-align: right;\">9.19065e-12</td></tr><tr><td class = \"rowNumber\" style = \"font-weight: bold; text-align: right;\">6</td><td style = \"text-align: right;\">1.0e-6</td><td style = \"text-align: right;\">0.555556</td><td style = \"text-align: right;\">5.7156e-14</td><td style = \"text-align: right;\">5.18716e-11</td></tr></tbody></table></div>"
      ],
      "text/latex": [
       "\\begin{tabular}{r|cccc}\n",
       "\t& h & Approximation & cota & Error\\\\\n",
       "\t\\hline\n",
       "\t& Float64 & Float64 & Float64 & Float64\\\\\n",
       "\t\\hline\n",
       "\t1 & 0.1 & 0.556128 & 0.000678472 & 0.00057262 \\\\\n",
       "\t2 & 0.01 & 0.555561 & 5.81192e-6 & 5.7157e-6 \\\\\n",
       "\t3 & 0.001 & 0.555556 & 5.72513e-8 & 5.71559e-8 \\\\\n",
       "\t4 & 0.0001 & 0.555556 & 5.71654e-10 & 5.71519e-10 \\\\\n",
       "\t5 & 1.0e-5 & 0.555556 & 5.71569e-12 & 9.19065e-12 \\\\\n",
       "\t6 & 1.0e-6 & 0.555556 & 5.7156e-14 & 5.18716e-11 \\\\\n",
       "\\end{tabular}\n"
      ],
      "text/plain": [
       "\u001b[1m6×4 DataFrame\u001b[0m\n",
       "\u001b[1m Row \u001b[0m│\u001b[1m h       \u001b[0m\u001b[1m Approximation \u001b[0m\u001b[1m cota        \u001b[0m\u001b[1m Error       \u001b[0m\n",
       "     │\u001b[90m Float64 \u001b[0m\u001b[90m Float64       \u001b[0m\u001b[90m Float64     \u001b[0m\u001b[90m Float64     \u001b[0m\n",
       "─────┼──────────────────────────────────────────────────\n",
       "   1 │  0.1          0.556128  0.000678472  0.00057262\n",
       "   2 │  0.01         0.555561  5.81192e-6   5.7157e-6\n",
       "   3 │  0.001        0.555556  5.72513e-8   5.71559e-8\n",
       "   4 │  0.0001       0.555556  5.71654e-10  5.71519e-10\n",
       "   5 │  1.0e-5       0.555556  5.71569e-12  9.19065e-12\n",
       "   6 │  1.0e-6       0.555556  5.7156e-14   5.18716e-11"
      ]
     },
     "metadata": {},
     "output_type": "display_data"
    },
    {
     "name": "stdout",
     "output_type": "stream",
     "text": [
      "Derivative table created.\n",
      "Resultados del método: diff_medium_five_points\n"
     ]
    },
    {
     "data": {
      "text/html": [
       "<div><div style = \"float: left;\"><span>6×4 DataFrame</span></div><div style = \"clear: both;\"></div></div><div class = \"data-frame\" style = \"overflow-x: scroll;\"><table class = \"data-frame\" style = \"margin-bottom: 6px;\"><thead><tr class = \"header\"><th class = \"rowNumber\" style = \"font-weight: bold; text-align: right;\">Row</th><th style = \"text-align: left;\">h</th><th style = \"text-align: left;\">Approximation</th><th style = \"text-align: left;\">cota</th><th style = \"text-align: left;\">Error</th></tr><tr class = \"subheader headerLastRow\"><th class = \"rowNumber\" style = \"font-weight: bold; text-align: right;\"></th><th title = \"Float64\" style = \"text-align: left;\">Float64</th><th title = \"Float64\" style = \"text-align: left;\">Float64</th><th title = \"Float64\" style = \"text-align: left;\">Float64</th><th title = \"Float64\" style = \"text-align: left;\">Float64</th></tr></thead><tbody><tr><td class = \"rowNumber\" style = \"font-weight: bold; text-align: right;\">1</td><td style = \"text-align: right;\">0.1</td><td style = \"text-align: right;\">0.555551</td><td style = \"text-align: right;\">0.0</td><td style = \"text-align: right;\">4.28092e-6</td></tr><tr><td class = \"rowNumber\" style = \"font-weight: bold; text-align: right;\">2</td><td style = \"text-align: right;\">0.01</td><td style = \"text-align: right;\">0.555556</td><td style = \"text-align: right;\">0.0</td><td style = \"text-align: right;\">4.23424e-10</td></tr><tr><td class = \"rowNumber\" style = \"font-weight: bold; text-align: right;\">3</td><td style = \"text-align: right;\">0.001</td><td style = \"text-align: right;\">0.555556</td><td style = \"text-align: right;\">0.0</td><td style = \"text-align: right;\">1.2601e-13</td></tr><tr><td class = \"rowNumber\" style = \"font-weight: bold; text-align: right;\">4</td><td style = \"text-align: right;\">0.0001</td><td style = \"text-align: right;\">0.555556</td><td style = \"text-align: right;\">0.0</td><td style = \"text-align: right;\">6.12843e-14</td></tr><tr><td class = \"rowNumber\" style = \"font-weight: bold; text-align: right;\">5</td><td style = \"text-align: right;\">1.0e-5</td><td style = \"text-align: right;\">0.555556</td><td style = \"text-align: right;\">0.0</td><td style = \"text-align: right;\">4.56468e-12</td></tr><tr><td class = \"rowNumber\" style = \"font-weight: bold; text-align: right;\">6</td><td style = \"text-align: right;\">1.0e-6</td><td style = \"text-align: right;\">0.555556</td><td style = \"text-align: right;\">0.0</td><td style = \"text-align: right;\">7.03754e-11</td></tr></tbody></table></div>"
      ],
      "text/latex": [
       "\\begin{tabular}{r|cccc}\n",
       "\t& h & Approximation & cota & Error\\\\\n",
       "\t\\hline\n",
       "\t& Float64 & Float64 & Float64 & Float64\\\\\n",
       "\t\\hline\n",
       "\t1 & 0.1 & 0.555551 & 0.0 & 4.28092e-6 \\\\\n",
       "\t2 & 0.01 & 0.555556 & 0.0 & 4.23424e-10 \\\\\n",
       "\t3 & 0.001 & 0.555556 & 0.0 & 1.2601e-13 \\\\\n",
       "\t4 & 0.0001 & 0.555556 & 0.0 & 6.12843e-14 \\\\\n",
       "\t5 & 1.0e-5 & 0.555556 & 0.0 & 4.56468e-12 \\\\\n",
       "\t6 & 1.0e-6 & 0.555556 & 0.0 & 7.03754e-11 \\\\\n",
       "\\end{tabular}\n"
      ],
      "text/plain": [
       "\u001b[1m6×4 DataFrame\u001b[0m\n",
       "\u001b[1m Row \u001b[0m│\u001b[1m h       \u001b[0m\u001b[1m Approximation \u001b[0m\u001b[1m cota    \u001b[0m\u001b[1m Error       \u001b[0m\n",
       "     │\u001b[90m Float64 \u001b[0m\u001b[90m Float64       \u001b[0m\u001b[90m Float64 \u001b[0m\u001b[90m Float64     \u001b[0m\n",
       "─────┼──────────────────────────────────────────────\n",
       "   1 │  0.1          0.555551      0.0  4.28092e-6\n",
       "   2 │  0.01         0.555556      0.0  4.23424e-10\n",
       "   3 │  0.001        0.555556      0.0  1.2601e-13\n",
       "   4 │  0.0001       0.555556      0.0  6.12843e-14\n",
       "   5 │  1.0e-5       0.555556      0.0  4.56468e-12\n",
       "   6 │  1.0e-6       0.555556      0.0  7.03754e-11"
      ]
     },
     "metadata": {},
     "output_type": "display_data"
    },
    {
     "name": "stdout",
     "output_type": "stream",
     "text": [
      "Derivative table created.\n",
      "Resultados del método: diff_final_five_points\n"
     ]
    },
    {
     "data": {
      "text/html": [
       "<div><div style = \"float: left;\"><span>6×4 DataFrame</span></div><div style = \"clear: both;\"></div></div><div class = \"data-frame\" style = \"overflow-x: scroll;\"><table class = \"data-frame\" style = \"margin-bottom: 6px;\"><thead><tr class = \"header\"><th class = \"rowNumber\" style = \"font-weight: bold; text-align: right;\">Row</th><th style = \"text-align: left;\">h</th><th style = \"text-align: left;\">Approximation</th><th style = \"text-align: left;\">cota</th><th style = \"text-align: left;\">Error</th></tr><tr class = \"subheader headerLastRow\"><th class = \"rowNumber\" style = \"font-weight: bold; text-align: right;\"></th><th title = \"Float64\" style = \"text-align: left;\">Float64</th><th title = \"Float64\" style = \"text-align: left;\">Float64</th><th title = \"Float64\" style = \"text-align: left;\">Float64</th><th title = \"Float64\" style = \"text-align: left;\">Float64</th></tr></thead><tbody><tr><td class = \"rowNumber\" style = \"font-weight: bold; text-align: right;\">1</td><td style = \"text-align: right;\">0.1</td><td style = \"text-align: right;\">0.555539</td><td style = \"text-align: right;\">0.0</td><td style = \"text-align: right;\">1.65154e-5</td></tr><tr><td class = \"rowNumber\" style = \"font-weight: bold; text-align: right;\">2</td><td style = \"text-align: right;\">0.01</td><td style = \"text-align: right;\">0.555556</td><td style = \"text-align: right;\">0.0</td><td style = \"text-align: right;\">2.42621e-9</td></tr><tr><td class = \"rowNumber\" style = \"font-weight: bold; text-align: right;\">3</td><td style = \"text-align: right;\">0.001</td><td style = \"text-align: right;\">0.555556</td><td style = \"text-align: right;\">0.0</td><td style = \"text-align: right;\">4.12781e-13</td></tr><tr><td class = \"rowNumber\" style = \"font-weight: bold; text-align: right;\">4</td><td style = \"text-align: right;\">0.0001</td><td style = \"text-align: right;\">0.555556</td><td style = \"text-align: right;\">0.0</td><td style = \"text-align: right;\">2.65177e-12</td></tr><tr><td class = \"rowNumber\" style = \"font-weight: bold; text-align: right;\">5</td><td style = \"text-align: right;\">1.0e-5</td><td style = \"text-align: right;\">0.555556</td><td style = \"text-align: right;\">0.0</td><td style = \"text-align: right;\">7.34024e-12</td></tr><tr><td class = \"rowNumber\" style = \"font-weight: bold; text-align: right;\">6</td><td style = \"text-align: right;\">1.0e-6</td><td style = \"text-align: right;\">0.555556</td><td style = \"text-align: right;\">0.0</td><td style = \"text-align: right;\">5.14465e-10</td></tr></tbody></table></div>"
      ],
      "text/latex": [
       "\\begin{tabular}{r|cccc}\n",
       "\t& h & Approximation & cota & Error\\\\\n",
       "\t\\hline\n",
       "\t& Float64 & Float64 & Float64 & Float64\\\\\n",
       "\t\\hline\n",
       "\t1 & 0.1 & 0.555539 & 0.0 & 1.65154e-5 \\\\\n",
       "\t2 & 0.01 & 0.555556 & 0.0 & 2.42621e-9 \\\\\n",
       "\t3 & 0.001 & 0.555556 & 0.0 & 4.12781e-13 \\\\\n",
       "\t4 & 0.0001 & 0.555556 & 0.0 & 2.65177e-12 \\\\\n",
       "\t5 & 1.0e-5 & 0.555556 & 0.0 & 7.34024e-12 \\\\\n",
       "\t6 & 1.0e-6 & 0.555556 & 0.0 & 5.14465e-10 \\\\\n",
       "\\end{tabular}\n"
      ],
      "text/plain": [
       "\u001b[1m6×4 DataFrame\u001b[0m\n",
       "\u001b[1m Row \u001b[0m│\u001b[1m h       \u001b[0m\u001b[1m Approximation \u001b[0m\u001b[1m cota    \u001b[0m\u001b[1m Error       \u001b[0m\n",
       "     │\u001b[90m Float64 \u001b[0m\u001b[90m Float64       \u001b[0m\u001b[90m Float64 \u001b[0m\u001b[90m Float64     \u001b[0m\n",
       "─────┼──────────────────────────────────────────────\n",
       "   1 │  0.1          0.555539      0.0  1.65154e-5\n",
       "   2 │  0.01         0.555556      0.0  2.42621e-9\n",
       "   3 │  0.001        0.555556      0.0  4.12781e-13\n",
       "   4 │  0.0001       0.555556      0.0  2.65177e-12\n",
       "   5 │  1.0e-5       0.555556      0.0  7.34024e-12\n",
       "   6 │  1.0e-6       0.555556      0.0  5.14465e-10"
      ]
     },
     "metadata": {},
     "output_type": "display_data"
    }
   ],
   "source": [
    "#Generamos una lista de valores para h\n",
    "h_s = [0.1, 0.01, 0.001, 0.0001, 0.00001, 0.000001]\n",
    "#Métodos de diferenciación a utilizar\n",
    "methods = [\n",
    "    \"diff_forwards\",\n",
    "    \"diff_backwards\",\n",
    "    \"diff_final_three_points\",\n",
    "    \"diff_medium_three_points\",\n",
    "    \"diff_medium_five_points\",\n",
    "    \"diff_final_five_points\"\n",
    "]\n",
    "#A través de un ciclo aplicamos todos los métodos\n",
    "for method in methods\n",
    "    resultados = tabulate_derivative(f, 1.8, h_s, method, f_prima)\n",
    "    println(\"Resultados del método: $method\")\n",
    "    display(resultados)\n",
    "end"
   ]
  },
  {
   "cell_type": "markdown",
   "metadata": {},
   "source": [
    "Notemos que la aproximación numérica es bastante competente con un error mínimo a partir del tercer valor de $h$"
   ]
  },
  {
   "cell_type": "markdown",
   "metadata": {},
   "source": [
    "## Integración numérica "
   ]
  },
  {
   "cell_type": "markdown",
   "metadata": {},
   "source": [
    "Para la integración numérica poseemos las siguientes aproximaciones, comenzaremos con las aproximaciones cerradas:\n",
    "$$\n",
    "\\int_a^b f(x) \\, dx \\approx \\frac{b - a}{2} \\left[ f(a) + f(b) \\right]\n",
    "$$\n",
    "\n",
    "$$\n",
    "\\int_a^b f(x) \\, dx \\approx \\frac{b - a}{6} \\left[ f(a) + 4f\\left(\\frac{a + b}{2}\\right) + f(b) \\right]\n",
    "$$\n",
    "\n",
    "$$\n",
    "\\int_a^b f(x) \\, dx \\approx \\frac{3(b - a)}{8} \\left[ f(a) + 3f\\left(a + \\frac{b - a}{3}\\right) + 3f\\left(a + \\frac{2(b - a)}{3}\\right) + f(b) \\right]\n",
    "$$\n",
    "\n",
    "$$\n",
    "\\int_a^b f(x) \\, dx \\approx \\frac{2(b - a)}{45} \\left[ 7f(a) + 32f\\left(a + \\frac{b - a}{4}\\right) + 12f\\left(a + \\frac{b - a}{2}\\right) + 32f\\left(a + \\frac{3(b - a)}{4}\\right) + 7f(b) \\right]\n",
    "$$\n",
    "\n",
    "Ahora a continuación se encuentran las aproximaciones abiertas:\n",
    "\n",
    "\n",
    "\n",
    "$$\n",
    "\\int_a^b f(x) \\, dx \\approx (b - a) \\cdot f\\left(\\frac{a + b}{2}\\right)\n",
    "$$\n",
    "\n",
    "$$\n",
    "\\int_a^b f(x) \\, dx \\approx \\frac{b - a}{2} \\left[ f\\left(a + \\frac{b - a}{3}\\right) + f\\left(a + \\frac{2(b - a)}{3}\\right) \\right]\n",
    "$$\n",
    "\n",
    "$$\n",
    "\\int_a^b f(x) \\, dx \\approx \\frac{b - a}{3} \\left[ 2f\\left(a + \\frac{b - a}{4}\\right) - f\\left(a + \\frac{b - a}{2}\\right) + 2f\\left(a + \\frac{3(b - a)}{4}\\right) \\right]\n",
    "$$\n",
    "\n",
    "$$\n",
    "\\int_a^b f(x) \\, dx \\approx \\frac{b - a}{24} \\left[ 11f\\left(a + \\frac{b - a}{5}\\right) + f\\left(a + \\frac{2(b - a)}{5}\\right) + f\\left(a + \\frac{3(b - a)}{5}\\right) + 11f\\left(a + \\frac{4(b - a)}{5}\\right) \\right]\n",
    "$$\n"
   ]
  },
  {
   "cell_type": "code",
   "execution_count": 18,
   "metadata": {},
   "outputs": [
    {
     "data": {
      "text/plain": [
       "integrate_i_3_a (generic function with 1 method)"
      ]
     },
     "execution_count": 18,
     "metadata": {},
     "output_type": "execute_result"
    }
   ],
   "source": [
    "function integrate_trapezoid(lambda, a, b)\n",
    "    delta = b - a\n",
    "    return (delta / 2.0) * (lambda(a) + lambda(a + delta))\n",
    "end\n",
    "\n",
    "function integrate_simpson(lambda, a, b)\n",
    "    delta = (b - a) / 2.0\n",
    "    return (delta / 3.0) * (lambda(a) + 4.0 * lambda((a + b) / 2.0) + lambda(b))\n",
    "end\n",
    "\n",
    "function integrate_three_eights(lambda, a, b)\n",
    "    delta = (b - a) / 3.0\n",
    "    return (3.0 * delta / 8.0) *\n",
    "        (lambda(a) + 3.0 * lambda(a + delta) + 3.0 * lambda(a + 2.0 * delta) + lambda(b))\n",
    "end\n",
    "\n",
    "function integrate_boole(lambda, a, b)\n",
    "    delta = (b - a) / 4.0\n",
    "    return (4.0 * delta / 90.0) *\n",
    "        (7.0 * lambda(a)\n",
    "            + 32.0 * lambda(a + delta)\n",
    "            + 12.0 * lambda(a + 2.0 * delta)\n",
    "            + 32.0 * lambda(a + 3.0 * delta)\n",
    "            + 7.0 * lambda(b))\n",
    "end\n",
    "\n",
    "function integrate_mid_point(lambda, a, b)\n",
    "    return (b - a) * lambda((a + b) / 2.0)\n",
    "end\n",
    "\n",
    "function integrate_i_1_a(lambda, a, b)\n",
    "    delta = (b - a) / 3.0\n",
    "    return (b - a) / 2.0 * (lambda(a + delta) + lambda(a + 2.0 * delta))\n",
    "end\n",
    "\n",
    "function integrate_i_2_a(lambda, a, b)\n",
    "    delta = (b - a) / 4.0\n",
    "    return (b - a) / 3.0 * (2.0 * lambda(a + delta) - lambda(a + 2.0 * delta) + 2.0 * lambda(a + 3.0 * delta))\n",
    "end\n",
    "\n",
    "function integrate_i_3_a(lambda, a, b)\n",
    "    delta = (b - a) / 5.0\n",
    "    return (b - a) / 24.0 *\n",
    "        (11.0 * lambda(a + delta)\n",
    "            + lambda(a + 2.0 * delta)\n",
    "            + lambda(a + 3.0 * delta)\n",
    "            + 11.0 * lambda(a + 4.0 * delta))\n",
    "end"
   ]
  },
  {
   "cell_type": "markdown",
   "metadata": {},
   "source": [
    "Consideremos el problema de efectuar la siguiente integral:\n",
    "$$\n",
    "f(x)=x^2\n",
    "$$\n",
    "Sabemos del cálculo elemental lo siguiente:\n",
    "$$\n",
    "\\int_0^1 x^2 \\, dx = \\left[ \\frac{x^3}{3} \\right]_0^1 = \\frac{1^3}{3} - \\frac{0^3}{3} = \\frac{1}{3}\n",
    "$$\n",
    "Dicha integral se ve representada como sigue geometricamente:"
   ]
  },
  {
   "cell_type": "code",
   "execution_count": 19,
   "metadata": {},
   "outputs": [
    {
     "data": {
      "image/png": "[encoded data removed]",
      "image/svg+xml": [
       "<?xml version=\"1.0\" encoding=\"utf-8\"?>\n",
       "<svg xmlns=\"http://www.w3.org/2000/svg\" xmlns:xlink=\"http://www.w3.org/1999/xlink\" width=\"600\" height=\"400\" viewBox=\"0 0 2400 1600\">\n",
       "<defs>\n",
       "  <clipPath id=\"clip300\">\n",
       "    <rect x=\"0\" y=\"0\" width=\"2400\" height=\"1600\"/>\n",
       "  </clipPath>\n",
       "</defs>\n",
       "<path clip-path=\"url(#clip300)\" d=\"M0 1600 L2400 1600 L2400 0 L0 0  Z\" fill=\"#ffffff\" fill-rule=\"evenodd\" fill-opacity=\"1\"/>\n",
       "<defs>\n",
       "  <clipPath id=\"clip301\">\n",
       "    <rect x=\"480\" y=\"0\" width=\"1681\" height=\"1600\"/>\n",
       "  </clipPath>\n",
       "</defs>\n",
       "<path clip-path=\"url(#clip300)\" d=\"M219.866 1423.18 L2352.76 1423.18 L2352.76 47.2441 L219.866 47.2441  Z\" fill=\"#ffffff\" fill-rule=\"evenodd\" fill-opacity=\"1\"/>\n",
       "<defs>\n",
       "  <clipPath id=\"clip302\">\n",
       "    <rect x=\"219\" y=\"47\" width=\"2134\" height=\"1377\"/>\n",
       "  </clipPath>\n",
       "</defs>\n",
       "<polyline clip-path=\"url(#clip302)\" style=\"stroke:#000000; stroke-linecap:round; stroke-linejoin:round; stroke-width:2; stroke-opacity:0.1; fill:none\" points=\"280.231,1423.18 280.231,47.2441 \"/>\n",
       "<polyline clip-path=\"url(#clip302)\" style=\"stroke:#000000; stroke-linecap:round; stroke-linejoin:round; stroke-width:2; stroke-opacity:0.1; fill:none\" points=\"783.271,1423.18 783.271,47.2441 \"/>\n",
       "<polyline clip-path=\"url(#clip302)\" style=\"stroke:#000000; stroke-linecap:round; stroke-linejoin:round; stroke-width:2; stroke-opacity:0.1; fill:none\" points=\"1286.31,1423.18 1286.31,47.2441 \"/>\n",
       "<polyline clip-path=\"url(#clip302)\" style=\"stroke:#000000; stroke-linecap:round; stroke-linejoin:round; stroke-width:2; stroke-opacity:0.1; fill:none\" points=\"1789.35,1423.18 1789.35,47.2441 \"/>\n",
       "<polyline clip-path=\"url(#clip302)\" style=\"stroke:#000000; stroke-linecap:round; stroke-linejoin:round; stroke-width:2; stroke-opacity:0.1; fill:none\" points=\"2292.39,1423.18 2292.39,47.2441 \"/>\n",
       "<polyline clip-path=\"url(#clip300)\" style=\"stroke:#000000; stroke-linecap:round; stroke-linejoin:round; stroke-width:4; stroke-opacity:1; fill:none\" points=\"219.866,1423.18 2352.76,1423.18 \"/>\n",
       "<polyline clip-path=\"url(#clip300)\" style=\"stroke:#000000; stroke-linecap:round; stroke-linejoin:round; stroke-width:4; stroke-opacity:1; fill:none\" points=\"280.231,1423.18 280.231,1404.28 \"/>\n",
       "<polyline clip-path=\"url(#clip300)\" style=\"stroke:#000000; stroke-linecap:round; stroke-linejoin:round; stroke-width:4; stroke-opacity:1; fill:none\" points=\"783.271,1423.18 783.271,1404.28 \"/>\n",
       "<polyline clip-path=\"url(#clip300)\" style=\"stroke:#000000; stroke-linecap:round; stroke-linejoin:round; stroke-width:4; stroke-opacity:1; fill:none\" points=\"1286.31,1423.18 1286.31,1404.28 \"/>\n",
       "<polyline clip-path=\"url(#clip300)\" style=\"stroke:#000000; stroke-linecap:round; stroke-linejoin:round; stroke-width:4; stroke-opacity:1; fill:none\" points=\"1789.35,1423.18 1789.35,1404.28 \"/>\n",
       "<polyline clip-path=\"url(#clip300)\" style=\"stroke:#000000; stroke-linecap:round; stroke-linejoin:round; stroke-width:4; stroke-opacity:1; fill:none\" points=\"2292.39,1423.18 2292.39,1404.28 \"/>\n",
       "<path clip-path=\"url(#clip300)\" d=\"M242.535 1454.1 Q238.923 1454.1 237.095 1457.66 Q235.289 1461.2 235.289 1468.33 Q235.289 1475.44 237.095 1479.01 Q238.923 1482.55 242.535 1482.55 Q246.169 1482.55 247.974 1479.01 Q249.803 1475.44 249.803 1468.33 Q249.803 1461.2 247.974 1457.66 Q246.169 1454.1 242.535 1454.1 M242.535 1450.39 Q248.345 1450.39 251.4 1455 Q254.479 1459.58 254.479 1468.33 Q254.479 1477.06 251.4 1481.67 Q248.345 1486.25 242.535 1486.25 Q236.724 1486.25 233.646 1481.67 Q230.59 1477.06 230.59 1468.33 Q230.59 1459.58 233.646 1455 Q236.724 1450.39 242.535 1450.39 Z\" fill=\"#000000\" fill-rule=\"nonzero\" fill-opacity=\"1\" /><path clip-path=\"url(#clip300)\" d=\"M262.696 1479.7 L267.581 1479.7 L267.581 1485.58 L262.696 1485.58 L262.696 1479.7 Z\" fill=\"#000000\" fill-rule=\"nonzero\" fill-opacity=\"1\" /><path clip-path=\"url(#clip300)\" d=\"M287.766 1454.1 Q284.155 1454.1 282.326 1457.66 Q280.52 1461.2 280.52 1468.33 Q280.52 1475.44 282.326 1479.01 Q284.155 1482.55 287.766 1482.55 Q291.4 1482.55 293.206 1479.01 Q295.034 1475.44 295.034 1468.33 Q295.034 1461.2 293.206 1457.66 Q291.4 1454.1 287.766 1454.1 M287.766 1450.39 Q293.576 1450.39 296.631 1455 Q299.71 1459.58 299.71 1468.33 Q299.71 1477.06 296.631 1481.67 Q293.576 1486.25 287.766 1486.25 Q281.956 1486.25 278.877 1481.67 Q275.821 1477.06 275.821 1468.33 Q275.821 1459.58 278.877 1455 Q281.956 1450.39 287.766 1450.39 Z\" fill=\"#000000\" fill-rule=\"nonzero\" fill-opacity=\"1\" /><path clip-path=\"url(#clip300)\" d=\"M317.928 1454.1 Q314.317 1454.1 312.488 1457.66 Q310.682 1461.2 310.682 1468.33 Q310.682 1475.44 312.488 1479.01 Q314.317 1482.55 317.928 1482.55 Q321.562 1482.55 323.367 1479.01 Q325.196 1475.44 325.196 1468.33 Q325.196 1461.2 323.367 1457.66 Q321.562 1454.1 317.928 1454.1 M317.928 1450.39 Q323.738 1450.39 326.793 1455 Q329.872 1459.58 329.872 1468.33 Q329.872 1477.06 326.793 1481.67 Q323.738 1486.25 317.928 1486.25 Q312.117 1486.25 309.039 1481.67 Q305.983 1477.06 305.983 1468.33 Q305.983 1459.58 309.039 1455 Q312.117 1450.39 317.928 1450.39 Z\" fill=\"#000000\" fill-rule=\"nonzero\" fill-opacity=\"1\" /><path clip-path=\"url(#clip300)\" d=\"M746.072 1454.1 Q742.461 1454.1 740.632 1457.66 Q738.827 1461.2 738.827 1468.33 Q738.827 1475.44 740.632 1479.01 Q742.461 1482.55 746.072 1482.55 Q749.706 1482.55 751.512 1479.01 Q753.341 1475.44 753.341 1468.33 Q753.341 1461.2 751.512 1457.66 Q749.706 1454.1 746.072 1454.1 M746.072 1450.39 Q751.882 1450.39 754.938 1455 Q758.017 1459.58 758.017 1468.33 Q758.017 1477.06 754.938 1481.67 Q751.882 1486.25 746.072 1486.25 Q740.262 1486.25 737.183 1481.67 Q734.128 1477.06 734.128 1468.33 Q734.128 1459.58 737.183 1455 Q740.262 1450.39 746.072 1450.39 Z\" fill=\"#000000\" fill-rule=\"nonzero\" fill-opacity=\"1\" /><path clip-path=\"url(#clip300)\" d=\"M766.234 1479.7 L771.118 1479.7 L771.118 1485.58 L766.234 1485.58 L766.234 1479.7 Z\" fill=\"#000000\" fill-rule=\"nonzero\" fill-opacity=\"1\" /><path clip-path=\"url(#clip300)\" d=\"M785.331 1481.64 L801.651 1481.64 L801.651 1485.58 L779.706 1485.58 L779.706 1481.64 Q782.368 1478.89 786.952 1474.26 Q791.558 1469.61 792.739 1468.27 Q794.984 1465.74 795.864 1464.01 Q796.766 1462.25 796.766 1460.56 Q796.766 1457.8 794.822 1456.07 Q792.901 1454.33 789.799 1454.33 Q787.6 1454.33 785.146 1455.09 Q782.716 1455.86 779.938 1457.41 L779.938 1452.69 Q782.762 1451.55 785.216 1450.97 Q787.669 1450.39 789.706 1450.39 Q795.077 1450.39 798.271 1453.08 Q801.465 1455.77 801.465 1460.26 Q801.465 1462.39 800.655 1464.31 Q799.868 1466.2 797.762 1468.8 Q797.183 1469.47 794.081 1472.69 Q790.979 1475.88 785.331 1481.64 Z\" fill=\"#000000\" fill-rule=\"nonzero\" fill-opacity=\"1\" /><path clip-path=\"url(#clip300)\" d=\"M811.512 1451.02 L829.868 1451.02 L829.868 1454.96 L815.794 1454.96 L815.794 1463.43 Q816.813 1463.08 817.831 1462.92 Q818.85 1462.73 819.868 1462.73 Q825.655 1462.73 829.035 1465.9 Q832.414 1469.08 832.414 1474.49 Q832.414 1480.07 828.942 1483.17 Q825.47 1486.25 819.151 1486.25 Q816.975 1486.25 814.706 1485.88 Q812.461 1485.51 810.053 1484.77 L810.053 1480.07 Q812.137 1481.2 814.359 1481.76 Q816.581 1482.32 819.058 1482.32 Q823.063 1482.32 825.4 1480.21 Q827.738 1478.1 827.738 1474.49 Q827.738 1470.88 825.4 1468.77 Q823.063 1466.67 819.058 1466.67 Q817.183 1466.67 815.308 1467.08 Q813.456 1467.5 811.512 1468.38 L811.512 1451.02 Z\" fill=\"#000000\" fill-rule=\"nonzero\" fill-opacity=\"1\" /><path clip-path=\"url(#clip300)\" d=\"M1248.61 1454.1 Q1245 1454.1 1243.17 1457.66 Q1241.37 1461.2 1241.37 1468.33 Q1241.37 1475.44 1243.17 1479.01 Q1245 1482.55 1248.61 1482.55 Q1252.25 1482.55 1254.05 1479.01 Q1255.88 1475.44 1255.88 1468.33 Q1255.88 1461.2 1254.05 1457.66 Q1252.25 1454.1 1248.61 1454.1 M1248.61 1450.39 Q1254.42 1450.39 1257.48 1455 Q1260.56 1459.58 1260.56 1468.33 Q1260.56 1477.06 1257.48 1481.67 Q1254.42 1486.25 1248.61 1486.25 Q1242.8 1486.25 1239.73 1481.67 Q1236.67 1477.06 1236.67 1468.33 Q1236.67 1459.58 1239.73 1455 Q1242.8 1450.39 1248.61 1450.39 Z\" fill=\"#000000\" fill-rule=\"nonzero\" fill-opacity=\"1\" /><path clip-path=\"url(#clip300)\" d=\"M1268.78 1479.7 L1273.66 1479.7 L1273.66 1485.58 L1268.78 1485.58 L1268.78 1479.7 Z\" fill=\"#000000\" fill-rule=\"nonzero\" fill-opacity=\"1\" /><path clip-path=\"url(#clip300)\" d=\"M1283.89 1451.02 L1302.25 1451.02 L1302.25 1454.96 L1288.17 1454.96 L1288.17 1463.43 Q1289.19 1463.08 1290.21 1462.92 Q1291.23 1462.73 1292.25 1462.73 Q1298.04 1462.73 1301.42 1465.9 Q1304.79 1469.08 1304.79 1474.49 Q1304.79 1480.07 1301.32 1483.17 Q1297.85 1486.25 1291.53 1486.25 Q1289.36 1486.25 1287.09 1485.88 Q1284.84 1485.51 1282.43 1484.77 L1282.43 1480.07 Q1284.52 1481.2 1286.74 1481.76 Q1288.96 1482.32 1291.44 1482.32 Q1295.44 1482.32 1297.78 1480.21 Q1300.12 1478.1 1300.12 1474.49 Q1300.12 1470.88 1297.78 1468.77 Q1295.44 1466.67 1291.44 1466.67 Q1289.56 1466.67 1287.69 1467.08 Q1285.84 1467.5 1283.89 1468.38 L1283.89 1451.02 Z\" fill=\"#000000\" fill-rule=\"nonzero\" fill-opacity=\"1\" /><path clip-path=\"url(#clip300)\" d=\"M1324.01 1454.1 Q1320.4 1454.1 1318.57 1457.66 Q1316.76 1461.2 1316.76 1468.33 Q1316.76 1475.44 1318.57 1479.01 Q1320.4 1482.55 1324.01 1482.55 Q1327.64 1482.55 1329.45 1479.01 Q1331.28 1475.44 1331.28 1468.33 Q1331.28 1461.2 1329.45 1457.66 Q1327.64 1454.1 1324.01 1454.1 M1324.01 1450.39 Q1329.82 1450.39 1332.87 1455 Q1335.95 1459.58 1335.95 1468.33 Q1335.95 1477.06 1332.87 1481.67 Q1329.82 1486.25 1324.01 1486.25 Q1318.2 1486.25 1315.12 1481.67 Q1312.06 1477.06 1312.06 1468.33 Q1312.06 1459.58 1315.12 1455 Q1318.2 1450.39 1324.01 1450.39 Z\" fill=\"#000000\" fill-rule=\"nonzero\" fill-opacity=\"1\" /><path clip-path=\"url(#clip300)\" d=\"M1752.15 1454.1 Q1748.54 1454.1 1746.71 1457.66 Q1744.91 1461.2 1744.91 1468.33 Q1744.91 1475.44 1746.71 1479.01 Q1748.54 1482.55 1752.15 1482.55 Q1755.79 1482.55 1757.59 1479.01 Q1759.42 1475.44 1759.42 1468.33 Q1759.42 1461.2 1757.59 1457.66 Q1755.79 1454.1 1752.15 1454.1 M1752.15 1450.39 Q1757.96 1450.39 1761.02 1455 Q1764.1 1459.58 1764.1 1468.33 Q1764.1 1477.06 1761.02 1481.67 Q1757.96 1486.25 1752.15 1486.25 Q1746.34 1486.25 1743.26 1481.67 Q1740.21 1477.06 1740.21 1468.33 Q1740.21 1459.58 1743.26 1455 Q1746.34 1450.39 1752.15 1450.39 Z\" fill=\"#000000\" fill-rule=\"nonzero\" fill-opacity=\"1\" /><path clip-path=\"url(#clip300)\" d=\"M1772.31 1479.7 L1777.2 1479.7 L1777.2 1485.58 L1772.31 1485.58 L1772.31 1479.7 Z\" fill=\"#000000\" fill-rule=\"nonzero\" fill-opacity=\"1\" /><path clip-path=\"url(#clip300)\" d=\"M1786.2 1451.02 L1808.43 1451.02 L1808.43 1453.01 L1795.88 1485.58 L1790.99 1485.58 L1802.8 1454.96 L1786.2 1454.96 L1786.2 1451.02 Z\" fill=\"#000000\" fill-rule=\"nonzero\" fill-opacity=\"1\" /><path clip-path=\"url(#clip300)\" d=\"M1817.59 1451.02 L1835.95 1451.02 L1835.95 1454.96 L1821.87 1454.96 L1821.87 1463.43 Q1822.89 1463.08 1823.91 1462.92 Q1824.93 1462.73 1825.95 1462.73 Q1831.74 1462.73 1835.11 1465.9 Q1838.49 1469.08 1838.49 1474.49 Q1838.49 1480.07 1835.02 1483.17 Q1831.55 1486.25 1825.23 1486.25 Q1823.05 1486.25 1820.79 1485.88 Q1818.54 1485.51 1816.13 1484.77 L1816.13 1480.07 Q1818.22 1481.2 1820.44 1481.76 Q1822.66 1482.32 1825.14 1482.32 Q1829.14 1482.32 1831.48 1480.21 Q1833.82 1478.1 1833.82 1474.49 Q1833.82 1470.88 1831.48 1468.77 Q1829.14 1466.67 1825.14 1466.67 Q1823.26 1466.67 1821.39 1467.08 Q1819.54 1467.5 1817.59 1468.38 L1817.59 1451.02 Z\" fill=\"#000000\" fill-rule=\"nonzero\" fill-opacity=\"1\" /><path clip-path=\"url(#clip300)\" d=\"M2244.46 1481.64 L2252.1 1481.64 L2252.1 1455.28 L2243.79 1456.95 L2243.79 1452.69 L2252.06 1451.02 L2256.73 1451.02 L2256.73 1481.64 L2264.37 1481.64 L2264.37 1485.58 L2244.46 1485.58 L2244.46 1481.64 Z\" fill=\"#000000\" fill-rule=\"nonzero\" fill-opacity=\"1\" /><path clip-path=\"url(#clip300)\" d=\"M2273.81 1479.7 L2278.7 1479.7 L2278.7 1485.58 L2273.81 1485.58 L2273.81 1479.7 Z\" fill=\"#000000\" fill-rule=\"nonzero\" fill-opacity=\"1\" /><path clip-path=\"url(#clip300)\" d=\"M2298.88 1454.1 Q2295.27 1454.1 2293.44 1457.66 Q2291.64 1461.2 2291.64 1468.33 Q2291.64 1475.44 2293.44 1479.01 Q2295.27 1482.55 2298.88 1482.55 Q2302.52 1482.55 2304.32 1479.01 Q2306.15 1475.44 2306.15 1468.33 Q2306.15 1461.2 2304.32 1457.66 Q2302.52 1454.1 2298.88 1454.1 M2298.88 1450.39 Q2304.69 1450.39 2307.75 1455 Q2310.83 1459.58 2310.83 1468.33 Q2310.83 1477.06 2307.75 1481.67 Q2304.69 1486.25 2298.88 1486.25 Q2293.07 1486.25 2290 1481.67 Q2286.94 1477.06 2286.94 1468.33 Q2286.94 1459.58 2290 1455 Q2293.07 1450.39 2298.88 1450.39 Z\" fill=\"#000000\" fill-rule=\"nonzero\" fill-opacity=\"1\" /><path clip-path=\"url(#clip300)\" d=\"M2329.05 1454.1 Q2325.43 1454.1 2323.61 1457.66 Q2321.8 1461.2 2321.8 1468.33 Q2321.8 1475.44 2323.61 1479.01 Q2325.43 1482.55 2329.05 1482.55 Q2332.68 1482.55 2334.49 1479.01 Q2336.31 1475.44 2336.31 1468.33 Q2336.31 1461.2 2334.49 1457.66 Q2332.68 1454.1 2329.05 1454.1 M2329.05 1450.39 Q2334.86 1450.39 2337.91 1455 Q2340.99 1459.58 2340.99 1468.33 Q2340.99 1477.06 2337.91 1481.67 Q2334.86 1486.25 2329.05 1486.25 Q2323.24 1486.25 2320.16 1481.67 Q2317.1 1477.06 2317.1 1468.33 Q2317.1 1459.58 2320.16 1455 Q2323.24 1450.39 2329.05 1450.39 Z\" fill=\"#000000\" fill-rule=\"nonzero\" fill-opacity=\"1\" /><path clip-path=\"url(#clip300)\" d=\"M1302.93 1532.4 L1290.04 1549.74 L1303.59 1568.04 L1296.69 1568.04 L1286.31 1554.04 L1275.93 1568.04 L1269.03 1568.04 L1282.87 1549.39 L1270.21 1532.4 L1277.11 1532.4 L1286.57 1545.1 L1296.02 1532.4 L1302.93 1532.4 Z\" fill=\"#000000\" fill-rule=\"nonzero\" fill-opacity=\"1\" /><polyline clip-path=\"url(#clip302)\" style=\"stroke:#000000; stroke-linecap:round; stroke-linejoin:round; stroke-width:2; stroke-opacity:0.1; fill:none\" points=\"219.866,1423.18 2352.76,1423.18 \"/>\n",
       "<polyline clip-path=\"url(#clip302)\" style=\"stroke:#000000; stroke-linecap:round; stroke-linejoin:round; stroke-width:2; stroke-opacity:0.1; fill:none\" points=\"219.866,1147.99 2352.76,1147.99 \"/>\n",
       "<polyline clip-path=\"url(#clip302)\" style=\"stroke:#000000; stroke-linecap:round; stroke-linejoin:round; stroke-width:2; stroke-opacity:0.1; fill:none\" points=\"219.866,872.806 2352.76,872.806 \"/>\n",
       "<polyline clip-path=\"url(#clip302)\" style=\"stroke:#000000; stroke-linecap:round; stroke-linejoin:round; stroke-width:2; stroke-opacity:0.1; fill:none\" points=\"219.866,597.618 2352.76,597.618 \"/>\n",
       "<polyline clip-path=\"url(#clip302)\" style=\"stroke:#000000; stroke-linecap:round; stroke-linejoin:round; stroke-width:2; stroke-opacity:0.1; fill:none\" points=\"219.866,322.431 2352.76,322.431 \"/>\n",
       "<polyline clip-path=\"url(#clip302)\" style=\"stroke:#000000; stroke-linecap:round; stroke-linejoin:round; stroke-width:2; stroke-opacity:0.1; fill:none\" points=\"219.866,47.2441 2352.76,47.2441 \"/>\n",
       "<polyline clip-path=\"url(#clip300)\" style=\"stroke:#000000; stroke-linecap:round; stroke-linejoin:round; stroke-width:4; stroke-opacity:1; fill:none\" points=\"219.866,1423.18 219.866,47.2441 \"/>\n",
       "<polyline clip-path=\"url(#clip300)\" style=\"stroke:#000000; stroke-linecap:round; stroke-linejoin:round; stroke-width:4; stroke-opacity:1; fill:none\" points=\"219.866,1423.18 238.764,1423.18 \"/>\n",
       "<polyline clip-path=\"url(#clip300)\" style=\"stroke:#000000; stroke-linecap:round; stroke-linejoin:round; stroke-width:4; stroke-opacity:1; fill:none\" points=\"219.866,1147.99 238.764,1147.99 \"/>\n",
       "<polyline clip-path=\"url(#clip300)\" style=\"stroke:#000000; stroke-linecap:round; stroke-linejoin:round; stroke-width:4; stroke-opacity:1; fill:none\" points=\"219.866,872.806 238.764,872.806 \"/>\n",
       "<polyline clip-path=\"url(#clip300)\" style=\"stroke:#000000; stroke-linecap:round; stroke-linejoin:round; stroke-width:4; stroke-opacity:1; fill:none\" points=\"219.866,597.618 238.764,597.618 \"/>\n",
       "<polyline clip-path=\"url(#clip300)\" style=\"stroke:#000000; stroke-linecap:round; stroke-linejoin:round; stroke-width:4; stroke-opacity:1; fill:none\" points=\"219.866,322.431 238.764,322.431 \"/>\n",
       "<polyline clip-path=\"url(#clip300)\" style=\"stroke:#000000; stroke-linecap:round; stroke-linejoin:round; stroke-width:4; stroke-opacity:1; fill:none\" points=\"219.866,47.2441 238.764,47.2441 \"/>\n",
       "<path clip-path=\"url(#clip300)\" d=\"M126.691 1408.98 Q123.08 1408.98 121.251 1412.54 Q119.445 1416.08 119.445 1423.21 Q119.445 1430.32 121.251 1433.89 Q123.08 1437.43 126.691 1437.43 Q130.325 1437.43 132.13 1433.89 Q133.959 1430.32 133.959 1423.21 Q133.959 1416.08 132.13 1412.54 Q130.325 1408.98 126.691 1408.98 M126.691 1405.27 Q132.501 1405.27 135.556 1409.88 Q138.635 1414.46 138.635 1423.21 Q138.635 1431.94 135.556 1436.55 Q132.501 1441.13 126.691 1441.13 Q120.88 1441.13 117.802 1436.55 Q114.746 1431.94 114.746 1423.21 Q114.746 1414.46 117.802 1409.88 Q120.88 1405.27 126.691 1405.27 Z\" fill=\"#000000\" fill-rule=\"nonzero\" fill-opacity=\"1\" /><path clip-path=\"url(#clip300)\" d=\"M146.853 1434.58 L151.737 1434.58 L151.737 1440.46 L146.853 1440.46 L146.853 1434.58 Z\" fill=\"#000000\" fill-rule=\"nonzero\" fill-opacity=\"1\" /><path clip-path=\"url(#clip300)\" d=\"M171.922 1408.98 Q168.311 1408.98 166.482 1412.54 Q164.677 1416.08 164.677 1423.21 Q164.677 1430.32 166.482 1433.89 Q168.311 1437.43 171.922 1437.43 Q175.556 1437.43 177.362 1433.89 Q179.19 1430.32 179.19 1423.21 Q179.19 1416.08 177.362 1412.54 Q175.556 1408.98 171.922 1408.98 M171.922 1405.27 Q177.732 1405.27 180.788 1409.88 Q183.866 1414.46 183.866 1423.21 Q183.866 1431.94 180.788 1436.55 Q177.732 1441.13 171.922 1441.13 Q166.112 1441.13 163.033 1436.55 Q159.978 1431.94 159.978 1423.21 Q159.978 1414.46 163.033 1409.88 Q166.112 1405.27 171.922 1405.27 Z\" fill=\"#000000\" fill-rule=\"nonzero\" fill-opacity=\"1\" /><path clip-path=\"url(#clip300)\" d=\"M128.288 1133.79 Q124.677 1133.79 122.848 1137.36 Q121.043 1140.9 121.043 1148.03 Q121.043 1155.13 122.848 1158.7 Q124.677 1162.24 128.288 1162.24 Q131.922 1162.24 133.728 1158.7 Q135.556 1155.13 135.556 1148.03 Q135.556 1140.9 133.728 1137.36 Q131.922 1133.79 128.288 1133.79 M128.288 1130.09 Q134.098 1130.09 137.154 1134.69 Q140.232 1139.28 140.232 1148.03 Q140.232 1156.75 137.154 1161.36 Q134.098 1165.94 128.288 1165.94 Q122.478 1165.94 119.399 1161.36 Q116.343 1156.75 116.343 1148.03 Q116.343 1139.28 119.399 1134.69 Q122.478 1130.09 128.288 1130.09 Z\" fill=\"#000000\" fill-rule=\"nonzero\" fill-opacity=\"1\" /><path clip-path=\"url(#clip300)\" d=\"M148.45 1159.39 L153.334 1159.39 L153.334 1165.27 L148.45 1165.27 L148.45 1159.39 Z\" fill=\"#000000\" fill-rule=\"nonzero\" fill-opacity=\"1\" /><path clip-path=\"url(#clip300)\" d=\"M167.547 1161.34 L183.866 1161.34 L183.866 1165.27 L161.922 1165.27 L161.922 1161.34 Q164.584 1158.58 169.167 1153.95 Q173.774 1149.3 174.954 1147.96 Q177.2 1145.43 178.079 1143.7 Q178.982 1141.94 178.982 1140.25 Q178.982 1137.5 177.038 1135.76 Q175.116 1134.02 172.014 1134.02 Q169.815 1134.02 167.362 1134.79 Q164.931 1135.55 162.153 1137.1 L162.153 1132.38 Q164.977 1131.25 167.431 1130.67 Q169.885 1130.09 171.922 1130.09 Q177.292 1130.09 180.487 1132.77 Q183.681 1135.46 183.681 1139.95 Q183.681 1142.08 182.871 1144 Q182.084 1145.9 179.977 1148.49 Q179.399 1149.16 176.297 1152.38 Q173.195 1155.57 167.547 1161.34 Z\" fill=\"#000000\" fill-rule=\"nonzero\" fill-opacity=\"1\" /><path clip-path=\"url(#clip300)\" d=\"M126.205 858.604 Q122.593 858.604 120.765 862.169 Q118.959 865.711 118.959 872.84 Q118.959 879.947 120.765 883.512 Q122.593 887.053 126.205 887.053 Q129.839 887.053 131.644 883.512 Q133.473 879.947 133.473 872.84 Q133.473 865.711 131.644 862.169 Q129.839 858.604 126.205 858.604 M126.205 854.901 Q132.015 854.901 135.07 859.507 Q138.149 864.09 138.149 872.84 Q138.149 881.567 135.07 886.174 Q132.015 890.757 126.205 890.757 Q120.394 890.757 117.316 886.174 Q114.26 881.567 114.26 872.84 Q114.26 864.09 117.316 859.507 Q120.394 854.901 126.205 854.901 Z\" fill=\"#000000\" fill-rule=\"nonzero\" fill-opacity=\"1\" /><path clip-path=\"url(#clip300)\" d=\"M146.366 884.206 L151.251 884.206 L151.251 890.086 L146.366 890.086 L146.366 884.206 Z\" fill=\"#000000\" fill-rule=\"nonzero\" fill-opacity=\"1\" /><path clip-path=\"url(#clip300)\" d=\"M174.283 859.6 L162.477 878.049 L174.283 878.049 L174.283 859.6 M173.056 855.526 L178.936 855.526 L178.936 878.049 L183.866 878.049 L183.866 881.937 L178.936 881.937 L178.936 890.086 L174.283 890.086 L174.283 881.937 L158.681 881.937 L158.681 877.424 L173.056 855.526 Z\" fill=\"#000000\" fill-rule=\"nonzero\" fill-opacity=\"1\" /><path clip-path=\"url(#clip300)\" d=\"M126.529 583.417 Q122.918 583.417 121.089 586.982 Q119.283 590.524 119.283 597.653 Q119.283 604.76 121.089 608.324 Q122.918 611.866 126.529 611.866 Q130.163 611.866 131.968 608.324 Q133.797 604.76 133.797 597.653 Q133.797 590.524 131.968 586.982 Q130.163 583.417 126.529 583.417 M126.529 579.713 Q132.339 579.713 135.394 584.32 Q138.473 588.903 138.473 597.653 Q138.473 606.38 135.394 610.986 Q132.339 615.57 126.529 615.57 Q120.718 615.57 117.64 610.986 Q114.584 606.38 114.584 597.653 Q114.584 588.903 117.64 584.32 Q120.718 579.713 126.529 579.713 Z\" fill=\"#000000\" fill-rule=\"nonzero\" fill-opacity=\"1\" /><path clip-path=\"url(#clip300)\" d=\"M146.691 609.019 L151.575 609.019 L151.575 614.898 L146.691 614.898 L146.691 609.019 Z\" fill=\"#000000\" fill-rule=\"nonzero\" fill-opacity=\"1\" /><path clip-path=\"url(#clip300)\" d=\"M172.339 595.755 Q169.19 595.755 167.339 597.908 Q165.51 600.061 165.51 603.81 Q165.51 607.537 167.339 609.713 Q169.19 611.866 172.339 611.866 Q175.487 611.866 177.315 609.713 Q179.167 607.537 179.167 603.81 Q179.167 600.061 177.315 597.908 Q175.487 595.755 172.339 595.755 M181.621 581.102 L181.621 585.362 Q179.862 584.528 178.056 584.088 Q176.274 583.649 174.514 583.649 Q169.885 583.649 167.431 586.774 Q165.001 589.899 164.653 596.218 Q166.019 594.204 168.079 593.139 Q170.139 592.051 172.616 592.051 Q177.825 592.051 180.834 595.223 Q183.866 598.371 183.866 603.81 Q183.866 609.135 180.718 612.352 Q177.57 615.57 172.339 615.57 Q166.343 615.57 163.172 610.986 Q160.001 606.38 160.001 597.653 Q160.001 589.459 163.89 584.598 Q167.778 579.713 174.329 579.713 Q176.089 579.713 177.871 580.061 Q179.676 580.408 181.621 581.102 Z\" fill=\"#000000\" fill-rule=\"nonzero\" fill-opacity=\"1\" /><path clip-path=\"url(#clip300)\" d=\"M126.783 308.23 Q123.172 308.23 121.343 311.795 Q119.538 315.336 119.538 322.466 Q119.538 329.572 121.343 333.137 Q123.172 336.679 126.783 336.679 Q130.417 336.679 132.223 333.137 Q134.052 329.572 134.052 322.466 Q134.052 315.336 132.223 311.795 Q130.417 308.23 126.783 308.23 M126.783 304.526 Q132.593 304.526 135.649 309.133 Q138.728 313.716 138.728 322.466 Q138.728 331.193 135.649 335.799 Q132.593 340.383 126.783 340.383 Q120.973 340.383 117.894 335.799 Q114.839 331.193 114.839 322.466 Q114.839 313.716 117.894 309.133 Q120.973 304.526 126.783 304.526 Z\" fill=\"#000000\" fill-rule=\"nonzero\" fill-opacity=\"1\" /><path clip-path=\"url(#clip300)\" d=\"M146.945 333.832 L151.829 333.832 L151.829 339.711 L146.945 339.711 L146.945 333.832 Z\" fill=\"#000000\" fill-rule=\"nonzero\" fill-opacity=\"1\" /><path clip-path=\"url(#clip300)\" d=\"M172.014 323.299 Q168.681 323.299 166.76 325.082 Q164.862 326.864 164.862 329.989 Q164.862 333.114 166.76 334.896 Q168.681 336.679 172.014 336.679 Q175.348 336.679 177.269 334.896 Q179.19 333.091 179.19 329.989 Q179.19 326.864 177.269 325.082 Q175.371 323.299 172.014 323.299 M167.339 321.309 Q164.329 320.568 162.64 318.508 Q160.973 316.447 160.973 313.485 Q160.973 309.341 163.913 306.934 Q166.876 304.526 172.014 304.526 Q177.176 304.526 180.116 306.934 Q183.056 309.341 183.056 313.485 Q183.056 316.447 181.366 318.508 Q179.7 320.568 176.714 321.309 Q180.093 322.096 181.968 324.387 Q183.866 326.679 183.866 329.989 Q183.866 335.012 180.788 337.697 Q177.732 340.383 172.014 340.383 Q166.297 340.383 163.218 337.697 Q160.163 335.012 160.163 329.989 Q160.163 326.679 162.061 324.387 Q163.959 322.096 167.339 321.309 M165.626 313.924 Q165.626 316.61 167.292 318.114 Q168.982 319.619 172.014 319.619 Q175.024 319.619 176.714 318.114 Q178.426 316.61 178.426 313.924 Q178.426 311.239 176.714 309.735 Q175.024 308.23 172.014 308.23 Q168.982 308.23 167.292 309.735 Q165.626 311.239 165.626 313.924 Z\" fill=\"#000000\" fill-rule=\"nonzero\" fill-opacity=\"1\" /><path clip-path=\"url(#clip300)\" d=\"M117.501 60.5889 L125.14 60.5889 L125.14 34.2233 L116.83 35.89 L116.83 31.6308 L125.093 29.9641 L129.769 29.9641 L129.769 60.5889 L137.408 60.5889 L137.408 64.5241 L117.501 64.5241 L117.501 60.5889 Z\" fill=\"#000000\" fill-rule=\"nonzero\" fill-opacity=\"1\" /><path clip-path=\"url(#clip300)\" d=\"M146.853 58.6445 L151.737 58.6445 L151.737 64.5241 L146.853 64.5241 L146.853 58.6445 Z\" fill=\"#000000\" fill-rule=\"nonzero\" fill-opacity=\"1\" /><path clip-path=\"url(#clip300)\" d=\"M171.922 33.0428 Q168.311 33.0428 166.482 36.6076 Q164.677 40.1492 164.677 47.2788 Q164.677 54.3853 166.482 57.9501 Q168.311 61.4917 171.922 61.4917 Q175.556 61.4917 177.362 57.9501 Q179.19 54.3853 179.19 47.2788 Q179.19 40.1492 177.362 36.6076 Q175.556 33.0428 171.922 33.0428 M171.922 29.3391 Q177.732 29.3391 180.788 33.9456 Q183.866 38.5289 183.866 47.2788 Q183.866 56.0056 180.788 60.6121 Q177.732 65.1954 171.922 65.1954 Q166.112 65.1954 163.033 60.6121 Q159.978 56.0056 159.978 47.2788 Q159.978 38.5289 163.033 33.9456 Q166.112 29.3391 171.922 29.3391 Z\" fill=\"#000000\" fill-rule=\"nonzero\" fill-opacity=\"1\" /><path clip-path=\"url(#clip300)\" d=\"M67.3143 733.525 Q73.68 736.008 75.6216 738.363 Q77.5631 740.718 77.5631 744.665 L77.5631 749.344 L72.6615 749.344 L72.6615 745.906 Q72.6615 743.487 71.5157 742.151 Q70.3699 740.814 66.1048 739.191 L63.4312 738.14 L28.3562 752.559 L28.3562 746.352 L56.238 735.212 L28.3562 724.072 L28.3562 717.865 L67.3143 733.525 Z\" fill=\"#000000\" fill-rule=\"nonzero\" fill-opacity=\"1\" /><polyline clip-path=\"url(#clip302)\" style=\"stroke:#009af9; stroke-linecap:round; stroke-linejoin:round; stroke-width:4; stroke-opacity:1; fill:none\" points=\"280.231,1423.18 300.353,1423.04 320.474,1422.63 340.596,1421.94 360.717,1420.98 380.839,1419.74 400.961,1418.23 421.082,1416.44 441.204,1414.37 461.325,1412.03 481.447,1409.42 501.569,1406.53 521.69,1403.37 541.812,1399.93 561.933,1396.21 582.055,1392.22 602.177,1387.96 622.298,1383.42 642.42,1378.6 662.541,1373.51 682.663,1368.14 702.785,1362.5 722.906,1356.58 743.028,1350.39 763.149,1343.93 783.271,1337.18 803.393,1330.17 823.514,1322.87 843.636,1315.31 863.757,1307.46 883.879,1299.35 904.001,1290.95 924.122,1282.28 944.244,1273.34 964.365,1264.12 984.487,1254.63 1004.61,1244.86 1024.73,1234.81 1044.85,1224.49 1064.97,1213.9 1085.1,1203.03 1105.22,1191.89 1125.34,1180.46 1145.46,1168.77 1165.58,1156.8 1185.7,1144.55 1205.82,1132.03 1225.95,1119.24 1246.07,1106.16 1266.19,1092.82 1286.31,1079.2 1306.43,1065.3 1326.55,1051.13 1346.68,1036.68 1366.8,1021.96 1386.92,1006.96 1407.04,991.686 1427.16,976.138 1447.28,960.315 1467.41,944.217 1487.53,927.843 1507.65,911.194 1527.77,894.27 1547.89,877.071 1568.01,859.597 1588.14,841.847 1608.26,823.822 1628.38,805.522 1648.5,786.947 1668.62,768.097 1688.74,748.971 1708.86,729.571 1728.99,709.895 1749.11,689.944 1769.23,669.717 1789.35,649.216 1809.47,628.439 1829.59,607.388 1849.72,586.061 1869.84,564.458 1889.96,542.581 1910.08,520.428 1930.2,498.001 1950.32,475.298 1970.45,452.32 1990.57,429.066 2010.69,405.538 2030.81,381.734 2050.93,357.655 2071.05,333.301 2091.18,308.672 2111.3,283.767 2131.42,258.588 2151.54,233.133 2171.66,207.403 2191.78,181.398 2211.9,155.117 2232.03,128.562 2252.15,101.731 2272.27,74.6252 2292.39,47.2441 \"/>\n",
       "<path clip-path=\"url(#clip302)\" d=\"M280.231 1423.18 L300.353 1423.18 L320.474 1423.18 L340.596 1423.18 L360.717 1423.18 L380.839 1423.18 L400.961 1423.18 L421.082 1423.18 L441.204 1423.18 L461.325 1423.18 L481.447 1423.18 L501.569 1423.18 L521.69 1423.18 L541.812 1423.18 L561.933 1423.18 L582.055 1423.18 L602.177 1423.18 L622.298 1423.18 L642.42 1423.18 L662.541 1423.18 L682.663 1423.18 L702.785 1423.18 L722.906 1423.18 L743.028 1423.18 L763.149 1423.18 L783.271 1423.18 L803.393 1423.18 L823.514 1423.18 L843.636 1423.18 L863.757 1423.18 L883.879 1423.18 L904.001 1423.18 L924.122 1423.18 L944.244 1423.18 L964.365 1423.18 L984.487 1423.18 L1004.61 1423.18 L1024.73 1423.18 L1044.85 1423.18 L1064.97 1423.18 L1085.1 1423.18 L1105.22 1423.18 L1125.34 1423.18 L1145.46 1423.18 L1165.58 1423.18 L1185.7 1423.18 L1205.82 1423.18 L1225.95 1423.18 L1246.07 1423.18 L1266.19 1423.18 L1286.31 1423.18 L1306.43 1423.18 L1326.55 1423.18 L1346.68 1423.18 L1366.8 1423.18 L1386.92 1423.18 L1407.04 1423.18 L1427.16 1423.18 L1447.28 1423.18 L1467.41 1423.18 L1487.53 1423.18 L1507.65 1423.18 L1527.77 1423.18 L1547.89 1423.18 L1568.01 1423.18 L1588.14 1423.18 L1608.26 1423.18 L1628.38 1423.18 L1648.5 1423.18 L1668.62 1423.18 L1688.74 1423.18 L1708.86 1423.18 L1728.99 1423.18 L1749.11 1423.18 L1769.23 1423.18 L1789.35 1423.18 L1809.47 1423.18 L1829.59 1423.18 L1849.72 1423.18 L1869.84 1423.18 L1889.96 1423.18 L1910.08 1423.18 L1930.2 1423.18 L1950.32 1423.18 L1970.45 1423.18 L1990.57 1423.18 L2010.69 1423.18 L2030.81 1423.18 L2050.93 1423.18 L2071.05 1423.18 L2091.18 1423.18 L2111.3 1423.18 L2131.42 1423.18 L2151.54 1423.18 L2171.66 1423.18 L2191.78 1423.18 L2211.9 1423.18 L2232.03 1423.18 L2252.15 1423.18 L2272.27 1423.18 L2292.39 1423.18 L2292.39 47.2441 L2272.27 74.6252 L2252.15 101.731 L2232.03 128.562 L2211.9 155.117 L2191.78 181.398 L2171.66 207.403 L2151.54 233.133 L2131.42 258.588 L2111.3 283.767 L2091.18 308.672 L2071.05 333.301 L2050.93 357.655 L2030.81 381.734 L2010.69 405.538 L1990.57 429.066 L1970.45 452.32 L1950.32 475.298 L1930.2 498.001 L1910.08 520.428 L1889.96 542.581 L1869.84 564.458 L1849.72 586.061 L1829.59 607.388 L1809.47 628.439 L1789.35 649.216 L1769.23 669.717 L1749.11 689.944 L1728.99 709.895 L1708.86 729.571 L1688.74 748.971 L1668.62 768.097 L1648.5 786.947 L1628.38 805.522 L1608.26 823.822 L1588.14 841.847 L1568.01 859.597 L1547.89 877.071 L1527.77 894.27 L1507.65 911.194 L1487.53 927.843 L1467.41 944.217 L1447.28 960.315 L1427.16 976.138 L1407.04 991.686 L1386.92 1006.96 L1366.8 1021.96 L1346.68 1036.68 L1326.55 1051.13 L1306.43 1065.3 L1286.31 1079.2 L1266.19 1092.82 L1246.07 1106.16 L1225.95 1119.24 L1205.82 1132.03 L1185.7 1144.55 L1165.58 1156.8 L1145.46 1168.77 L1125.34 1180.46 L1105.22 1191.89 L1085.1 1203.03 L1064.97 1213.9 L1044.85 1224.49 L1024.73 1234.81 L1004.61 1244.86 L984.487 1254.63 L964.365 1264.12 L944.244 1273.34 L924.122 1282.28 L904.001 1290.95 L883.879 1299.35 L863.757 1307.46 L843.636 1315.31 L823.514 1322.87 L803.393 1330.17 L783.271 1337.18 L763.149 1343.93 L743.028 1350.39 L722.906 1356.58 L702.785 1362.5 L682.663 1368.14 L662.541 1373.51 L642.42 1378.6 L622.298 1383.42 L602.177 1387.96 L582.055 1392.22 L561.933 1396.21 L541.812 1399.93 L521.69 1403.37 L501.569 1406.53 L481.447 1409.42 L461.325 1412.03 L441.204 1414.37 L421.082 1416.44 L400.961 1418.23 L380.839 1419.74 L360.717 1420.98 L340.596 1421.94 L320.474 1422.63 L300.353 1423.04 L280.231 1423.18  Z\" fill=\"#add8e6\" fill-rule=\"evenodd\" fill-opacity=\"0.3\"/>\n",
       "<polyline clip-path=\"url(#clip302)\" style=\"stroke:#e26f46; stroke-linecap:round; stroke-linejoin:round; stroke-width:4; stroke-opacity:1; fill:none\" points=\"280.231,1423.18 300.353,1423.18 320.474,1423.18 340.596,1423.18 360.717,1423.18 380.839,1423.18 400.961,1423.18 421.082,1423.18 441.204,1423.18 461.325,1423.18 481.447,1423.18 501.569,1423.18 521.69,1423.18 541.812,1423.18 561.933,1423.18 582.055,1423.18 602.177,1423.18 622.298,1423.18 642.42,1423.18 662.541,1423.18 682.663,1423.18 702.785,1423.18 722.906,1423.18 743.028,1423.18 763.149,1423.18 783.271,1423.18 803.393,1423.18 823.514,1423.18 843.636,1423.18 863.757,1423.18 883.879,1423.18 904.001,1423.18 924.122,1423.18 944.244,1423.18 964.365,1423.18 984.487,1423.18 1004.61,1423.18 1024.73,1423.18 1044.85,1423.18 1064.97,1423.18 1085.1,1423.18 1105.22,1423.18 1125.34,1423.18 1145.46,1423.18 1165.58,1423.18 1185.7,1423.18 1205.82,1423.18 1225.95,1423.18 1246.07,1423.18 1266.19,1423.18 1286.31,1423.18 1306.43,1423.18 1326.55,1423.18 1346.68,1423.18 1366.8,1423.18 1386.92,1423.18 1407.04,1423.18 1427.16,1423.18 1447.28,1423.18 1467.41,1423.18 1487.53,1423.18 1507.65,1423.18 1527.77,1423.18 1547.89,1423.18 1568.01,1423.18 1588.14,1423.18 1608.26,1423.18 1628.38,1423.18 1648.5,1423.18 1668.62,1423.18 1688.74,1423.18 1708.86,1423.18 1728.99,1423.18 1749.11,1423.18 1769.23,1423.18 1789.35,1423.18 1809.47,1423.18 1829.59,1423.18 1849.72,1423.18 1869.84,1423.18 1889.96,1423.18 1910.08,1423.18 1930.2,1423.18 1950.32,1423.18 1970.45,1423.18 1990.57,1423.18 2010.69,1423.18 2030.81,1423.18 2050.93,1423.18 2071.05,1423.18 2091.18,1423.18 2111.3,1423.18 2131.42,1423.18 2151.54,1423.18 2171.66,1423.18 2191.78,1423.18 2211.9,1423.18 2232.03,1423.18 2252.15,1423.18 2272.27,1423.18 2292.39,1423.18 \"/>\n",
       "<path clip-path=\"url(#clip300)\" d=\"M290.963 248.629 L930.129 248.629 L930.129 93.1086 L290.963 93.1086  Z\" fill=\"#ffffff\" fill-rule=\"evenodd\" fill-opacity=\"1\"/>\n",
       "<polyline clip-path=\"url(#clip300)\" style=\"stroke:#000000; stroke-linecap:round; stroke-linejoin:round; stroke-width:4; stroke-opacity:1; fill:none\" points=\"290.963,248.629 930.129,248.629 930.129,93.1086 290.963,93.1086 290.963,248.629 \"/>\n",
       "<polyline clip-path=\"url(#clip300)\" style=\"stroke:#009af9; stroke-linecap:round; stroke-linejoin:round; stroke-width:4; stroke-opacity:1; fill:none\" points=\"314.661,144.949 456.854,144.949 \"/>\n",
       "<path clip-path=\"url(#clip300)\" d=\"M494.395 164.636 Q492.59 169.266 490.877 170.678 Q489.164 172.09 486.293 172.09 L482.891 172.09 L482.891 168.525 L485.391 168.525 Q487.15 168.525 488.122 167.692 Q489.094 166.858 490.275 163.756 L491.039 161.812 L480.553 136.303 L485.067 136.303 L493.168 156.581 L501.27 136.303 L505.784 136.303 L494.395 164.636 Z\" fill=\"#000000\" fill-rule=\"nonzero\" fill-opacity=\"1\" /><path clip-path=\"url(#clip300)\" d=\"M527.289 140.701 L556.964 140.701 L556.964 144.59 L527.289 144.59 L527.289 140.701 M527.289 150.145 L556.964 150.145 L556.964 154.081 L527.289 154.081 L527.289 150.145 Z\" fill=\"#000000\" fill-rule=\"nonzero\" fill-opacity=\"1\" /><path clip-path=\"url(#clip300)\" d=\"M603.075 136.303 L593.7 148.919 L603.561 162.229 L598.538 162.229 L590.992 152.043 L583.446 162.229 L578.423 162.229 L588.492 148.664 L579.279 136.303 L584.302 136.303 L591.177 145.539 L598.052 136.303 L603.075 136.303 Z\" fill=\"#000000\" fill-rule=\"nonzero\" fill-opacity=\"1\" /><path clip-path=\"url(#clip300)\" d=\"M627.242 127.669 L639.811 140.562 L635.158 140.562 L624.973 131.419 L614.788 140.562 L610.135 140.562 L622.705 127.669 L627.242 127.669 Z\" fill=\"#000000\" fill-rule=\"nonzero\" fill-opacity=\"1\" /><path clip-path=\"url(#clip300)\" d=\"M653.931 158.293 L670.251 158.293 L670.251 162.229 L648.307 162.229 L648.307 158.293 Q650.969 155.539 655.552 150.909 Q660.158 146.256 661.339 144.914 Q663.584 142.391 664.464 140.655 Q665.367 138.895 665.367 137.206 Q665.367 134.451 663.422 132.715 Q661.501 130.979 658.399 130.979 Q656.2 130.979 653.746 131.743 Q651.316 132.507 648.538 134.057 L648.538 129.335 Q651.362 128.201 653.816 127.622 Q656.269 127.044 658.306 127.044 Q663.677 127.044 666.871 129.729 Q670.066 132.414 670.066 136.905 Q670.066 139.034 669.255 140.956 Q668.468 142.854 666.362 145.446 Q665.783 146.118 662.681 149.335 Q659.58 152.53 653.931 158.293 Z\" fill=\"#000000\" fill-rule=\"nonzero\" fill-opacity=\"1\" /><path clip-path=\"url(#clip300)\" d=\"M314.661 217.525 L456.854 217.525 L456.854 176.053 L314.661 176.053 L314.661 217.525  Z\" fill=\"#add8e6\" fill-rule=\"evenodd\" fill-opacity=\"0.3\"/>\n",
       "<polyline clip-path=\"url(#clip300)\" style=\"stroke:#e26f46; stroke-linecap:round; stroke-linejoin:round; stroke-width:4; stroke-opacity:1; fill:none\" points=\"314.661,176.053 456.854,176.053 \"/>\n",
       "<path clip-path=\"url(#clip300)\" d=\"M496.386 184.115 L490.043 201.314 L502.752 201.314 L496.386 184.115 M493.747 179.509 L499.048 179.509 L512.219 214.069 L507.358 214.069 L504.21 205.203 L488.631 205.203 L485.483 214.069 L480.553 214.069 L493.747 179.509 M497.659 170.111 L501.942 170.111 L496.664 176.222 L493.122 176.222 L497.659 170.111 Z\" fill=\"#000000\" fill-rule=\"nonzero\" fill-opacity=\"1\" /><path clip-path=\"url(#clip300)\" d=\"M532.103 192.124 Q531.386 191.708 530.529 191.522 Q529.696 191.314 528.678 191.314 Q525.066 191.314 523.122 193.675 Q521.201 196.013 521.201 200.411 L521.201 214.069 L516.918 214.069 L516.918 188.143 L521.201 188.143 L521.201 192.171 Q522.543 189.809 524.696 188.675 Q526.849 187.518 529.928 187.518 Q530.367 187.518 530.9 187.587 Q531.432 187.634 532.08 187.749 L532.103 192.124 Z\" fill=\"#000000\" fill-rule=\"nonzero\" fill-opacity=\"1\" /><path clip-path=\"url(#clip300)\" d=\"M557.705 200.041 L557.705 202.124 L538.122 202.124 Q538.4 206.522 540.761 208.837 Q543.145 211.129 547.381 211.129 Q549.835 211.129 552.126 210.527 Q554.441 209.925 556.71 208.721 L556.71 212.749 Q554.418 213.721 552.011 214.231 Q549.603 214.74 547.126 214.74 Q540.923 214.74 537.289 211.129 Q533.677 207.518 533.677 201.36 Q533.677 194.995 537.103 191.268 Q540.552 187.518 546.386 187.518 Q551.617 187.518 554.65 190.897 Q557.705 194.254 557.705 200.041 M553.446 198.791 Q553.4 195.296 551.478 193.212 Q549.58 191.129 546.432 191.129 Q542.867 191.129 540.714 193.143 Q538.585 195.157 538.261 198.814 L553.446 198.791 Z\" fill=\"#000000\" fill-rule=\"nonzero\" fill-opacity=\"1\" /><path clip-path=\"url(#clip300)\" d=\"M576.478 201.036 Q571.316 201.036 569.325 202.217 Q567.335 203.397 567.335 206.245 Q567.335 208.513 568.816 209.856 Q570.321 211.175 572.89 211.175 Q576.432 211.175 578.562 208.675 Q580.714 206.152 580.714 201.985 L580.714 201.036 L576.478 201.036 M584.974 199.277 L584.974 214.069 L580.714 214.069 L580.714 210.133 Q579.256 212.495 577.08 213.629 Q574.904 214.74 571.756 214.74 Q567.775 214.74 565.413 212.518 Q563.075 210.272 563.075 206.522 Q563.075 202.147 565.992 199.925 Q568.932 197.703 574.742 197.703 L580.714 197.703 L580.714 197.286 Q580.714 194.347 578.77 192.749 Q576.849 191.129 573.353 191.129 Q571.131 191.129 569.025 191.661 Q566.918 192.194 564.974 193.259 L564.974 189.323 Q567.312 188.421 569.511 187.981 Q571.71 187.518 573.793 187.518 Q579.418 187.518 582.196 190.434 Q584.974 193.351 584.974 199.277 Z\" fill=\"#000000\" fill-rule=\"nonzero\" fill-opacity=\"1\" /><path clip-path=\"url(#clip300)\" d=\"M627.427 201.129 Q627.427 196.43 625.483 193.768 Q623.561 191.083 620.182 191.083 Q616.802 191.083 614.858 193.768 Q612.936 196.43 612.936 201.129 Q612.936 205.828 614.858 208.513 Q616.802 211.175 620.182 211.175 Q623.561 211.175 625.483 208.513 Q627.427 205.828 627.427 201.129 M612.936 192.078 Q614.279 189.763 616.316 188.652 Q618.376 187.518 621.223 187.518 Q625.946 187.518 628.885 191.268 Q631.848 195.018 631.848 201.129 Q631.848 207.24 628.885 210.99 Q625.946 214.74 621.223 214.74 Q618.376 214.74 616.316 213.629 Q614.279 212.495 612.936 210.18 L612.936 214.069 L608.654 214.069 L608.654 178.05 L612.936 178.05 L612.936 192.078 Z\" fill=\"#000000\" fill-rule=\"nonzero\" fill-opacity=\"1\" /><path clip-path=\"url(#clip300)\" d=\"M650.691 201.036 Q645.529 201.036 643.538 202.217 Q641.547 203.397 641.547 206.245 Q641.547 208.513 643.029 209.856 Q644.533 211.175 647.103 211.175 Q650.644 211.175 652.774 208.675 Q654.927 206.152 654.927 201.985 L654.927 201.036 L650.691 201.036 M659.186 199.277 L659.186 214.069 L654.927 214.069 L654.927 210.133 Q653.469 212.495 651.293 213.629 Q649.117 214.74 645.969 214.74 Q641.987 214.74 639.626 212.518 Q637.288 210.272 637.288 206.522 Q637.288 202.147 640.205 199.925 Q643.144 197.703 648.955 197.703 L654.927 197.703 L654.927 197.286 Q654.927 194.347 652.982 192.749 Q651.061 191.129 647.566 191.129 Q645.344 191.129 643.237 191.661 Q641.131 192.194 639.186 193.259 L639.186 189.323 Q641.524 188.421 643.723 187.981 Q645.922 187.518 648.006 187.518 Q653.631 187.518 656.408 190.434 Q659.186 193.351 659.186 199.277 Z\" fill=\"#000000\" fill-rule=\"nonzero\" fill-opacity=\"1\" /><path clip-path=\"url(#clip300)\" d=\"M667.959 188.143 L672.218 188.143 L672.218 214.532 Q672.218 219.485 670.32 221.707 Q668.445 223.93 664.255 223.93 L662.635 223.93 L662.635 220.319 L663.769 220.319 Q666.2 220.319 667.08 219.184 Q667.959 218.073 667.959 214.532 L667.959 188.143 M667.959 178.05 L672.218 178.05 L672.218 183.444 L667.959 183.444 L667.959 178.05 Z\" fill=\"#000000\" fill-rule=\"nonzero\" fill-opacity=\"1\" /><path clip-path=\"url(#clip300)\" d=\"M691.177 191.129 Q687.751 191.129 685.76 193.814 Q683.769 196.476 683.769 201.129 Q683.769 205.782 685.737 208.467 Q687.728 211.129 691.177 211.129 Q694.579 211.129 696.57 208.444 Q698.561 205.758 698.561 201.129 Q698.561 196.522 696.57 193.837 Q694.579 191.129 691.177 191.129 M691.177 187.518 Q696.732 187.518 699.903 191.129 Q703.075 194.74 703.075 201.129 Q703.075 207.495 699.903 211.129 Q696.732 214.74 691.177 214.74 Q685.598 214.74 682.427 211.129 Q679.279 207.495 679.279 201.129 Q679.279 194.74 682.427 191.129 Q685.598 187.518 691.177 187.518 Z\" fill=\"#000000\" fill-rule=\"nonzero\" fill-opacity=\"1\" /><path clip-path=\"url(#clip300)\" d=\"M725.204 178.05 L729.463 178.05 L729.463 214.069 L725.204 214.069 L725.204 178.05 Z\" fill=\"#000000\" fill-rule=\"nonzero\" fill-opacity=\"1\" /><path clip-path=\"url(#clip300)\" d=\"M750.158 201.036 Q744.996 201.036 743.005 202.217 Q741.014 203.397 741.014 206.245 Q741.014 208.513 742.496 209.856 Q744 211.175 746.57 211.175 Q750.112 211.175 752.241 208.675 Q754.394 206.152 754.394 201.985 L754.394 201.036 L750.158 201.036 M758.653 199.277 L758.653 214.069 L754.394 214.069 L754.394 210.133 Q752.936 212.495 750.76 213.629 Q748.584 214.74 745.436 214.74 Q741.454 214.74 739.093 212.518 Q736.755 210.272 736.755 206.522 Q736.755 202.147 739.672 199.925 Q742.612 197.703 748.422 197.703 L754.394 197.703 L754.394 197.286 Q754.394 194.347 752.449 192.749 Q750.528 191.129 747.033 191.129 Q744.811 191.129 742.704 191.661 Q740.598 192.194 738.653 193.259 L738.653 189.323 Q740.991 188.421 743.19 187.981 Q745.389 187.518 747.473 187.518 Q753.098 187.518 755.875 190.434 Q758.653 193.351 758.653 199.277 Z\" fill=\"#000000\" fill-rule=\"nonzero\" fill-opacity=\"1\" /><path clip-path=\"url(#clip300)\" d=\"M801.153 189.138 L801.153 193.12 Q799.347 192.124 797.519 191.638 Q795.713 191.129 793.861 191.129 Q789.718 191.129 787.426 193.768 Q785.134 196.384 785.134 201.129 Q785.134 205.874 787.426 208.513 Q789.718 211.129 793.861 211.129 Q795.713 211.129 797.519 210.643 Q799.347 210.133 801.153 209.138 L801.153 213.073 Q799.371 213.907 797.449 214.323 Q795.551 214.74 793.398 214.74 Q787.542 214.74 784.093 211.059 Q780.644 207.379 780.644 201.129 Q780.644 194.786 784.116 191.152 Q787.611 187.518 793.676 187.518 Q795.644 187.518 797.519 187.935 Q799.394 188.328 801.153 189.138 Z\" fill=\"#000000\" fill-rule=\"nonzero\" fill-opacity=\"1\" /><path clip-path=\"url(#clip300)\" d=\"M808.12 203.837 L808.12 188.143 L812.38 188.143 L812.38 203.675 Q812.38 207.356 813.815 209.208 Q815.25 211.036 818.12 211.036 Q821.569 211.036 823.56 208.837 Q825.574 206.638 825.574 202.842 L825.574 188.143 L829.833 188.143 L829.833 214.069 L825.574 214.069 L825.574 210.087 Q824.023 212.448 821.963 213.606 Q819.926 214.74 817.218 214.74 Q812.75 214.74 810.435 211.962 Q808.12 209.184 808.12 203.837 M818.838 187.518 L818.838 187.518 Z\" fill=\"#000000\" fill-rule=\"nonzero\" fill-opacity=\"1\" /><path clip-path=\"url(#clip300)\" d=\"M853.629 192.124 Q852.912 191.708 852.055 191.522 Q851.222 191.314 850.204 191.314 Q846.592 191.314 844.648 193.675 Q842.727 196.013 842.727 200.411 L842.727 214.069 L838.444 214.069 L838.444 188.143 L842.727 188.143 L842.727 192.171 Q844.069 189.809 846.222 188.675 Q848.375 187.518 851.454 187.518 Q851.893 187.518 852.426 187.587 Q852.958 187.634 853.606 187.749 L853.629 192.124 Z\" fill=\"#000000\" fill-rule=\"nonzero\" fill-opacity=\"1\" /><path clip-path=\"url(#clip300)\" d=\"M855.042 188.143 L859.555 188.143 L867.657 209.902 L875.759 188.143 L880.273 188.143 L870.551 214.069 L864.764 214.069 L855.042 188.143 Z\" fill=\"#000000\" fill-rule=\"nonzero\" fill-opacity=\"1\" /><path clip-path=\"url(#clip300)\" d=\"M897.935 201.036 Q892.773 201.036 890.782 202.217 Q888.791 203.397 888.791 206.245 Q888.791 208.513 890.273 209.856 Q891.777 211.175 894.347 211.175 Q897.889 211.175 900.018 208.675 Q902.171 206.152 902.171 201.985 L902.171 201.036 L897.935 201.036 M906.43 199.277 L906.43 214.069 L902.171 214.069 L902.171 210.133 Q900.713 212.495 898.537 213.629 Q896.361 214.74 893.213 214.74 Q889.231 214.74 886.87 212.518 Q884.532 210.272 884.532 206.522 Q884.532 202.147 887.449 199.925 Q890.389 197.703 896.199 197.703 L902.171 197.703 L902.171 197.286 Q902.171 194.347 900.226 192.749 Q898.305 191.129 894.81 191.129 Q892.588 191.129 890.481 191.661 Q888.375 192.194 886.43 193.259 L886.43 189.323 Q888.768 188.421 890.967 187.981 Q893.166 187.518 895.25 187.518 Q900.875 187.518 903.652 190.434 Q906.43 193.351 906.43 199.277 Z\" fill=\"#000000\" fill-rule=\"nonzero\" fill-opacity=\"1\" /></svg>\n"
      ],
      "text/html": [
       "<?xml version=\"1.0\" encoding=\"utf-8\"?>\n",
       "<svg xmlns=\"http://www.w3.org/2000/svg\" xmlns:xlink=\"http://www.w3.org/1999/xlink\" width=\"600\" height=\"400\" viewBox=\"0 0 2400 1600\">\n",
       "<defs>\n",
       "  <clipPath id=\"clip350\">\n",
       "    <rect x=\"0\" y=\"0\" width=\"2400\" height=\"1600\"/>\n",
       "  </clipPath>\n",
       "</defs>\n",
       "<path clip-path=\"url(#clip350)\" d=\"M0 1600 L2400 1600 L2400 0 L0 0  Z\" fill=\"#ffffff\" fill-rule=\"evenodd\" fill-opacity=\"1\"/>\n",
       "<defs>\n",
       "  <clipPath id=\"clip351\">\n",
       "    <rect x=\"480\" y=\"0\" width=\"1681\" height=\"1600\"/>\n",
       "  </clipPath>\n",
       "</defs>\n",
       "<path clip-path=\"url(#clip350)\" d=\"M219.866 1423.18 L2352.76 1423.18 L2352.76 47.2441 L219.866 47.2441  Z\" fill=\"#ffffff\" fill-rule=\"evenodd\" fill-opacity=\"1\"/>\n",
       "<defs>\n",
       "  <clipPath id=\"clip352\">\n",
       "    <rect x=\"219\" y=\"47\" width=\"2134\" height=\"1377\"/>\n",
       "  </clipPath>\n",
       "</defs>\n",
       "<polyline clip-path=\"url(#clip352)\" style=\"stroke:#000000; stroke-linecap:round; stroke-linejoin:round; stroke-width:2; stroke-opacity:0.1; fill:none\" points=\"280.231,1423.18 280.231,47.2441 \"/>\n",
       "<polyline clip-path=\"url(#clip352)\" style=\"stroke:#000000; stroke-linecap:round; stroke-linejoin:round; stroke-width:2; stroke-opacity:0.1; fill:none\" points=\"783.271,1423.18 783.271,47.2441 \"/>\n",
       "<polyline clip-path=\"url(#clip352)\" style=\"stroke:#000000; stroke-linecap:round; stroke-linejoin:round; stroke-width:2; stroke-opacity:0.1; fill:none\" points=\"1286.31,1423.18 1286.31,47.2441 \"/>\n",
       "<polyline clip-path=\"url(#clip352)\" style=\"stroke:#000000; stroke-linecap:round; stroke-linejoin:round; stroke-width:2; stroke-opacity:0.1; fill:none\" points=\"1789.35,1423.18 1789.35,47.2441 \"/>\n",
       "<polyline clip-path=\"url(#clip352)\" style=\"stroke:#000000; stroke-linecap:round; stroke-linejoin:round; stroke-width:2; stroke-opacity:0.1; fill:none\" points=\"2292.39,1423.18 2292.39,47.2441 \"/>\n",
       "<polyline clip-path=\"url(#clip350)\" style=\"stroke:#000000; stroke-linecap:round; stroke-linejoin:round; stroke-width:4; stroke-opacity:1; fill:none\" points=\"219.866,1423.18 2352.76,1423.18 \"/>\n",
       "<polyline clip-path=\"url(#clip350)\" style=\"stroke:#000000; stroke-linecap:round; stroke-linejoin:round; stroke-width:4; stroke-opacity:1; fill:none\" points=\"280.231,1423.18 280.231,1404.28 \"/>\n",
       "<polyline clip-path=\"url(#clip350)\" style=\"stroke:#000000; stroke-linecap:round; stroke-linejoin:round; stroke-width:4; stroke-opacity:1; fill:none\" points=\"783.271,1423.18 783.271,1404.28 \"/>\n",
       "<polyline clip-path=\"url(#clip350)\" style=\"stroke:#000000; stroke-linecap:round; stroke-linejoin:round; stroke-width:4; stroke-opacity:1; fill:none\" points=\"1286.31,1423.18 1286.31,1404.28 \"/>\n",
       "<polyline clip-path=\"url(#clip350)\" style=\"stroke:#000000; stroke-linecap:round; stroke-linejoin:round; stroke-width:4; stroke-opacity:1; fill:none\" points=\"1789.35,1423.18 1789.35,1404.28 \"/>\n",
       "<polyline clip-path=\"url(#clip350)\" style=\"stroke:#000000; stroke-linecap:round; stroke-linejoin:round; stroke-width:4; stroke-opacity:1; fill:none\" points=\"2292.39,1423.18 2292.39,1404.28 \"/>\n",
       "<path clip-path=\"url(#clip350)\" d=\"M242.535 1454.1 Q238.923 1454.1 237.095 1457.66 Q235.289 1461.2 235.289 1468.33 Q235.289 1475.44 237.095 1479.01 Q238.923 1482.55 242.535 1482.55 Q246.169 1482.55 247.974 1479.01 Q249.803 1475.44 249.803 1468.33 Q249.803 1461.2 247.974 1457.66 Q246.169 1454.1 242.535 1454.1 M242.535 1450.39 Q248.345 1450.39 251.4 1455 Q254.479 1459.58 254.479 1468.33 Q254.479 1477.06 251.4 1481.67 Q248.345 1486.25 242.535 1486.25 Q236.724 1486.25 233.646 1481.67 Q230.59 1477.06 230.59 1468.33 Q230.59 1459.58 233.646 1455 Q236.724 1450.39 242.535 1450.39 Z\" fill=\"#000000\" fill-rule=\"nonzero\" fill-opacity=\"1\" /><path clip-path=\"url(#clip350)\" d=\"M262.696 1479.7 L267.581 1479.7 L267.581 1485.58 L262.696 1485.58 L262.696 1479.7 Z\" fill=\"#000000\" fill-rule=\"nonzero\" fill-opacity=\"1\" /><path clip-path=\"url(#clip350)\" d=\"M287.766 1454.1 Q284.155 1454.1 282.326 1457.66 Q280.52 1461.2 280.52 1468.33 Q280.52 1475.44 282.326 1479.01 Q284.155 1482.55 287.766 1482.55 Q291.4 1482.55 293.206 1479.01 Q295.034 1475.44 295.034 1468.33 Q295.034 1461.2 293.206 1457.66 Q291.4 1454.1 287.766 1454.1 M287.766 1450.39 Q293.576 1450.39 296.631 1455 Q299.71 1459.58 299.71 1468.33 Q299.71 1477.06 296.631 1481.67 Q293.576 1486.25 287.766 1486.25 Q281.956 1486.25 278.877 1481.67 Q275.821 1477.06 275.821 1468.33 Q275.821 1459.58 278.877 1455 Q281.956 1450.39 287.766 1450.39 Z\" fill=\"#000000\" fill-rule=\"nonzero\" fill-opacity=\"1\" /><path clip-path=\"url(#clip350)\" d=\"M317.928 1454.1 Q314.317 1454.1 312.488 1457.66 Q310.682 1461.2 310.682 1468.33 Q310.682 1475.44 312.488 1479.01 Q314.317 1482.55 317.928 1482.55 Q321.562 1482.55 323.367 1479.01 Q325.196 1475.44 325.196 1468.33 Q325.196 1461.2 323.367 1457.66 Q321.562 1454.1 317.928 1454.1 M317.928 1450.39 Q323.738 1450.39 326.793 1455 Q329.872 1459.58 329.872 1468.33 Q329.872 1477.06 326.793 1481.67 Q323.738 1486.25 317.928 1486.25 Q312.117 1486.25 309.039 1481.67 Q305.983 1477.06 305.983 1468.33 Q305.983 1459.58 309.039 1455 Q312.117 1450.39 317.928 1450.39 Z\" fill=\"#000000\" fill-rule=\"nonzero\" fill-opacity=\"1\" /><path clip-path=\"url(#clip350)\" d=\"M746.072 1454.1 Q742.461 1454.1 740.632 1457.66 Q738.827 1461.2 738.827 1468.33 Q738.827 1475.44 740.632 1479.01 Q742.461 1482.55 746.072 1482.55 Q749.706 1482.55 751.512 1479.01 Q753.341 1475.44 753.341 1468.33 Q753.341 1461.2 751.512 1457.66 Q749.706 1454.1 746.072 1454.1 M746.072 1450.39 Q751.882 1450.39 754.938 1455 Q758.017 1459.58 758.017 1468.33 Q758.017 1477.06 754.938 1481.67 Q751.882 1486.25 746.072 1486.25 Q740.262 1486.25 737.183 1481.67 Q734.128 1477.06 734.128 1468.33 Q734.128 1459.58 737.183 1455 Q740.262 1450.39 746.072 1450.39 Z\" fill=\"#000000\" fill-rule=\"nonzero\" fill-opacity=\"1\" /><path clip-path=\"url(#clip350)\" d=\"M766.234 1479.7 L771.118 1479.7 L771.118 1485.58 L766.234 1485.58 L766.234 1479.7 Z\" fill=\"#000000\" fill-rule=\"nonzero\" fill-opacity=\"1\" /><path clip-path=\"url(#clip350)\" d=\"M785.331 1481.64 L801.651 1481.64 L801.651 1485.58 L779.706 1485.58 L779.706 1481.64 Q782.368 1478.89 786.952 1474.26 Q791.558 1469.61 792.739 1468.27 Q794.984 1465.74 795.864 1464.01 Q796.766 1462.25 796.766 1460.56 Q796.766 1457.8 794.822 1456.07 Q792.901 1454.33 789.799 1454.33 Q787.6 1454.33 785.146 1455.09 Q782.716 1455.86 779.938 1457.41 L779.938 1452.69 Q782.762 1451.55 785.216 1450.97 Q787.669 1450.39 789.706 1450.39 Q795.077 1450.39 798.271 1453.08 Q801.465 1455.77 801.465 1460.26 Q801.465 1462.39 800.655 1464.31 Q799.868 1466.2 797.762 1468.8 Q797.183 1469.47 794.081 1472.69 Q790.979 1475.88 785.331 1481.64 Z\" fill=\"#000000\" fill-rule=\"nonzero\" fill-opacity=\"1\" /><path clip-path=\"url(#clip350)\" d=\"M811.512 1451.02 L829.868 1451.02 L829.868 1454.96 L815.794 1454.96 L815.794 1463.43 Q816.813 1463.08 817.831 1462.92 Q818.85 1462.73 819.868 1462.73 Q825.655 1462.73 829.035 1465.9 Q832.414 1469.08 832.414 1474.49 Q832.414 1480.07 828.942 1483.17 Q825.47 1486.25 819.151 1486.25 Q816.975 1486.25 814.706 1485.88 Q812.461 1485.51 810.053 1484.77 L810.053 1480.07 Q812.137 1481.2 814.359 1481.76 Q816.581 1482.32 819.058 1482.32 Q823.063 1482.32 825.4 1480.21 Q827.738 1478.1 827.738 1474.49 Q827.738 1470.88 825.4 1468.77 Q823.063 1466.67 819.058 1466.67 Q817.183 1466.67 815.308 1467.08 Q813.456 1467.5 811.512 1468.38 L811.512 1451.02 Z\" fill=\"#000000\" fill-rule=\"nonzero\" fill-opacity=\"1\" /><path clip-path=\"url(#clip350)\" d=\"M1248.61 1454.1 Q1245 1454.1 1243.17 1457.66 Q1241.37 1461.2 1241.37 1468.33 Q1241.37 1475.44 1243.17 1479.01 Q1245 1482.55 1248.61 1482.55 Q1252.25 1482.55 1254.05 1479.01 Q1255.88 1475.44 1255.88 1468.33 Q1255.88 1461.2 1254.05 1457.66 Q1252.25 1454.1 1248.61 1454.1 M1248.61 1450.39 Q1254.42 1450.39 1257.48 1455 Q1260.56 1459.58 1260.56 1468.33 Q1260.56 1477.06 1257.48 1481.67 Q1254.42 1486.25 1248.61 1486.25 Q1242.8 1486.25 1239.73 1481.67 Q1236.67 1477.06 1236.67 1468.33 Q1236.67 1459.58 1239.73 1455 Q1242.8 1450.39 1248.61 1450.39 Z\" fill=\"#000000\" fill-rule=\"nonzero\" fill-opacity=\"1\" /><path clip-path=\"url(#clip350)\" d=\"M1268.78 1479.7 L1273.66 1479.7 L1273.66 1485.58 L1268.78 1485.58 L1268.78 1479.7 Z\" fill=\"#000000\" fill-rule=\"nonzero\" fill-opacity=\"1\" /><path clip-path=\"url(#clip350)\" d=\"M1283.89 1451.02 L1302.25 1451.02 L1302.25 1454.96 L1288.17 1454.96 L1288.17 1463.43 Q1289.19 1463.08 1290.21 1462.92 Q1291.23 1462.73 1292.25 1462.73 Q1298.04 1462.73 1301.42 1465.9 Q1304.79 1469.08 1304.79 1474.49 Q1304.79 1480.07 1301.32 1483.17 Q1297.85 1486.25 1291.53 1486.25 Q1289.36 1486.25 1287.09 1485.88 Q1284.84 1485.51 1282.43 1484.77 L1282.43 1480.07 Q1284.52 1481.2 1286.74 1481.76 Q1288.96 1482.32 1291.44 1482.32 Q1295.44 1482.32 1297.78 1480.21 Q1300.12 1478.1 1300.12 1474.49 Q1300.12 1470.88 1297.78 1468.77 Q1295.44 1466.67 1291.44 1466.67 Q1289.56 1466.67 1287.69 1467.08 Q1285.84 1467.5 1283.89 1468.38 L1283.89 1451.02 Z\" fill=\"#000000\" fill-rule=\"nonzero\" fill-opacity=\"1\" /><path clip-path=\"url(#clip350)\" d=\"M1324.01 1454.1 Q1320.4 1454.1 1318.57 1457.66 Q1316.76 1461.2 1316.76 1468.33 Q1316.76 1475.44 1318.57 1479.01 Q1320.4 1482.55 1324.01 1482.55 Q1327.64 1482.55 1329.45 1479.01 Q1331.28 1475.44 1331.28 1468.33 Q1331.28 1461.2 1329.45 1457.66 Q1327.64 1454.1 1324.01 1454.1 M1324.01 1450.39 Q1329.82 1450.39 1332.87 1455 Q1335.95 1459.58 1335.95 1468.33 Q1335.95 1477.06 1332.87 1481.67 Q1329.82 1486.25 1324.01 1486.25 Q1318.2 1486.25 1315.12 1481.67 Q1312.06 1477.06 1312.06 1468.33 Q1312.06 1459.58 1315.12 1455 Q1318.2 1450.39 1324.01 1450.39 Z\" fill=\"#000000\" fill-rule=\"nonzero\" fill-opacity=\"1\" /><path clip-path=\"url(#clip350)\" d=\"M1752.15 1454.1 Q1748.54 1454.1 1746.71 1457.66 Q1744.91 1461.2 1744.91 1468.33 Q1744.91 1475.44 1746.71 1479.01 Q1748.54 1482.55 1752.15 1482.55 Q1755.79 1482.55 1757.59 1479.01 Q1759.42 1475.44 1759.42 1468.33 Q1759.42 1461.2 1757.59 1457.66 Q1755.79 1454.1 1752.15 1454.1 M1752.15 1450.39 Q1757.96 1450.39 1761.02 1455 Q1764.1 1459.58 1764.1 1468.33 Q1764.1 1477.06 1761.02 1481.67 Q1757.96 1486.25 1752.15 1486.25 Q1746.34 1486.25 1743.26 1481.67 Q1740.21 1477.06 1740.21 1468.33 Q1740.21 1459.58 1743.26 1455 Q1746.34 1450.39 1752.15 1450.39 Z\" fill=\"#000000\" fill-rule=\"nonzero\" fill-opacity=\"1\" /><path clip-path=\"url(#clip350)\" d=\"M1772.31 1479.7 L1777.2 1479.7 L1777.2 1485.58 L1772.31 1485.58 L1772.31 1479.7 Z\" fill=\"#000000\" fill-rule=\"nonzero\" fill-opacity=\"1\" /><path clip-path=\"url(#clip350)\" d=\"M1786.2 1451.02 L1808.43 1451.02 L1808.43 1453.01 L1795.88 1485.58 L1790.99 1485.58 L1802.8 1454.96 L1786.2 1454.96 L1786.2 1451.02 Z\" fill=\"#000000\" fill-rule=\"nonzero\" fill-opacity=\"1\" /><path clip-path=\"url(#clip350)\" d=\"M1817.59 1451.02 L1835.95 1451.02 L1835.95 1454.96 L1821.87 1454.96 L1821.87 1463.43 Q1822.89 1463.08 1823.91 1462.92 Q1824.93 1462.73 1825.95 1462.73 Q1831.74 1462.73 1835.11 1465.9 Q1838.49 1469.08 1838.49 1474.49 Q1838.49 1480.07 1835.02 1483.17 Q1831.55 1486.25 1825.23 1486.25 Q1823.05 1486.25 1820.79 1485.88 Q1818.54 1485.51 1816.13 1484.77 L1816.13 1480.07 Q1818.22 1481.2 1820.44 1481.76 Q1822.66 1482.32 1825.14 1482.32 Q1829.14 1482.32 1831.48 1480.21 Q1833.82 1478.1 1833.82 1474.49 Q1833.82 1470.88 1831.48 1468.77 Q1829.14 1466.67 1825.14 1466.67 Q1823.26 1466.67 1821.39 1467.08 Q1819.54 1467.5 1817.59 1468.38 L1817.59 1451.02 Z\" fill=\"#000000\" fill-rule=\"nonzero\" fill-opacity=\"1\" /><path clip-path=\"url(#clip350)\" d=\"M2244.46 1481.64 L2252.1 1481.64 L2252.1 1455.28 L2243.79 1456.95 L2243.79 1452.69 L2252.06 1451.02 L2256.73 1451.02 L2256.73 1481.64 L2264.37 1481.64 L2264.37 1485.58 L2244.46 1485.58 L2244.46 1481.64 Z\" fill=\"#000000\" fill-rule=\"nonzero\" fill-opacity=\"1\" /><path clip-path=\"url(#clip350)\" d=\"M2273.81 1479.7 L2278.7 1479.7 L2278.7 1485.58 L2273.81 1485.58 L2273.81 1479.7 Z\" fill=\"#000000\" fill-rule=\"nonzero\" fill-opacity=\"1\" /><path clip-path=\"url(#clip350)\" d=\"M2298.88 1454.1 Q2295.27 1454.1 2293.44 1457.66 Q2291.64 1461.2 2291.64 1468.33 Q2291.64 1475.44 2293.44 1479.01 Q2295.27 1482.55 2298.88 1482.55 Q2302.52 1482.55 2304.32 1479.01 Q2306.15 1475.44 2306.15 1468.33 Q2306.15 1461.2 2304.32 1457.66 Q2302.52 1454.1 2298.88 1454.1 M2298.88 1450.39 Q2304.69 1450.39 2307.75 1455 Q2310.83 1459.58 2310.83 1468.33 Q2310.83 1477.06 2307.75 1481.67 Q2304.69 1486.25 2298.88 1486.25 Q2293.07 1486.25 2290 1481.67 Q2286.94 1477.06 2286.94 1468.33 Q2286.94 1459.58 2290 1455 Q2293.07 1450.39 2298.88 1450.39 Z\" fill=\"#000000\" fill-rule=\"nonzero\" fill-opacity=\"1\" /><path clip-path=\"url(#clip350)\" d=\"M2329.05 1454.1 Q2325.43 1454.1 2323.61 1457.66 Q2321.8 1461.2 2321.8 1468.33 Q2321.8 1475.44 2323.61 1479.01 Q2325.43 1482.55 2329.05 1482.55 Q2332.68 1482.55 2334.49 1479.01 Q2336.31 1475.44 2336.31 1468.33 Q2336.31 1461.2 2334.49 1457.66 Q2332.68 1454.1 2329.05 1454.1 M2329.05 1450.39 Q2334.86 1450.39 2337.91 1455 Q2340.99 1459.58 2340.99 1468.33 Q2340.99 1477.06 2337.91 1481.67 Q2334.86 1486.25 2329.05 1486.25 Q2323.24 1486.25 2320.16 1481.67 Q2317.1 1477.06 2317.1 1468.33 Q2317.1 1459.58 2320.16 1455 Q2323.24 1450.39 2329.05 1450.39 Z\" fill=\"#000000\" fill-rule=\"nonzero\" fill-opacity=\"1\" /><path clip-path=\"url(#clip350)\" d=\"M1302.93 1532.4 L1290.04 1549.74 L1303.59 1568.04 L1296.69 1568.04 L1286.31 1554.04 L1275.93 1568.04 L1269.03 1568.04 L1282.87 1549.39 L1270.21 1532.4 L1277.11 1532.4 L1286.57 1545.1 L1296.02 1532.4 L1302.93 1532.4 Z\" fill=\"#000000\" fill-rule=\"nonzero\" fill-opacity=\"1\" /><polyline clip-path=\"url(#clip352)\" style=\"stroke:#000000; stroke-linecap:round; stroke-linejoin:round; stroke-width:2; stroke-opacity:0.1; fill:none\" points=\"219.866,1423.18 2352.76,1423.18 \"/>\n",
       "<polyline clip-path=\"url(#clip352)\" style=\"stroke:#000000; stroke-linecap:round; stroke-linejoin:round; stroke-width:2; stroke-opacity:0.1; fill:none\" points=\"219.866,1147.99 2352.76,1147.99 \"/>\n",
       "<polyline clip-path=\"url(#clip352)\" style=\"stroke:#000000; stroke-linecap:round; stroke-linejoin:round; stroke-width:2; stroke-opacity:0.1; fill:none\" points=\"219.866,872.806 2352.76,872.806 \"/>\n",
       "<polyline clip-path=\"url(#clip352)\" style=\"stroke:#000000; stroke-linecap:round; stroke-linejoin:round; stroke-width:2; stroke-opacity:0.1; fill:none\" points=\"219.866,597.618 2352.76,597.618 \"/>\n",
       "<polyline clip-path=\"url(#clip352)\" style=\"stroke:#000000; stroke-linecap:round; stroke-linejoin:round; stroke-width:2; stroke-opacity:0.1; fill:none\" points=\"219.866,322.431 2352.76,322.431 \"/>\n",
       "<polyline clip-path=\"url(#clip352)\" style=\"stroke:#000000; stroke-linecap:round; stroke-linejoin:round; stroke-width:2; stroke-opacity:0.1; fill:none\" points=\"219.866,47.2441 2352.76,47.2441 \"/>\n",
       "<polyline clip-path=\"url(#clip350)\" style=\"stroke:#000000; stroke-linecap:round; stroke-linejoin:round; stroke-width:4; stroke-opacity:1; fill:none\" points=\"219.866,1423.18 219.866,47.2441 \"/>\n",
       "<polyline clip-path=\"url(#clip350)\" style=\"stroke:#000000; stroke-linecap:round; stroke-linejoin:round; stroke-width:4; stroke-opacity:1; fill:none\" points=\"219.866,1423.18 238.764,1423.18 \"/>\n",
       "<polyline clip-path=\"url(#clip350)\" style=\"stroke:#000000; stroke-linecap:round; stroke-linejoin:round; stroke-width:4; stroke-opacity:1; fill:none\" points=\"219.866,1147.99 238.764,1147.99 \"/>\n",
       "<polyline clip-path=\"url(#clip350)\" style=\"stroke:#000000; stroke-linecap:round; stroke-linejoin:round; stroke-width:4; stroke-opacity:1; fill:none\" points=\"219.866,872.806 238.764,872.806 \"/>\n",
       "<polyline clip-path=\"url(#clip350)\" style=\"stroke:#000000; stroke-linecap:round; stroke-linejoin:round; stroke-width:4; stroke-opacity:1; fill:none\" points=\"219.866,597.618 238.764,597.618 \"/>\n",
       "<polyline clip-path=\"url(#clip350)\" style=\"stroke:#000000; stroke-linecap:round; stroke-linejoin:round; stroke-width:4; stroke-opacity:1; fill:none\" points=\"219.866,322.431 238.764,322.431 \"/>\n",
       "<polyline clip-path=\"url(#clip350)\" style=\"stroke:#000000; stroke-linecap:round; stroke-linejoin:round; stroke-width:4; stroke-opacity:1; fill:none\" points=\"219.866,47.2441 238.764,47.2441 \"/>\n",
       "<path clip-path=\"url(#clip350)\" d=\"M126.691 1408.98 Q123.08 1408.98 121.251 1412.54 Q119.445 1416.08 119.445 1423.21 Q119.445 1430.32 121.251 1433.89 Q123.08 1437.43 126.691 1437.43 Q130.325 1437.43 132.13 1433.89 Q133.959 1430.32 133.959 1423.21 Q133.959 1416.08 132.13 1412.54 Q130.325 1408.98 126.691 1408.98 M126.691 1405.27 Q132.501 1405.27 135.556 1409.88 Q138.635 1414.46 138.635 1423.21 Q138.635 1431.94 135.556 1436.55 Q132.501 1441.13 126.691 1441.13 Q120.88 1441.13 117.802 1436.55 Q114.746 1431.94 114.746 1423.21 Q114.746 1414.46 117.802 1409.88 Q120.88 1405.27 126.691 1405.27 Z\" fill=\"#000000\" fill-rule=\"nonzero\" fill-opacity=\"1\" /><path clip-path=\"url(#clip350)\" d=\"M146.853 1434.58 L151.737 1434.58 L151.737 1440.46 L146.853 1440.46 L146.853 1434.58 Z\" fill=\"#000000\" fill-rule=\"nonzero\" fill-opacity=\"1\" /><path clip-path=\"url(#clip350)\" d=\"M171.922 1408.98 Q168.311 1408.98 166.482 1412.54 Q164.677 1416.08 164.677 1423.21 Q164.677 1430.32 166.482 1433.89 Q168.311 1437.43 171.922 1437.43 Q175.556 1437.43 177.362 1433.89 Q179.19 1430.32 179.19 1423.21 Q179.19 1416.08 177.362 1412.54 Q175.556 1408.98 171.922 1408.98 M171.922 1405.27 Q177.732 1405.27 180.788 1409.88 Q183.866 1414.46 183.866 1423.21 Q183.866 1431.94 180.788 1436.55 Q177.732 1441.13 171.922 1441.13 Q166.112 1441.13 163.033 1436.55 Q159.978 1431.94 159.978 1423.21 Q159.978 1414.46 163.033 1409.88 Q166.112 1405.27 171.922 1405.27 Z\" fill=\"#000000\" fill-rule=\"nonzero\" fill-opacity=\"1\" /><path clip-path=\"url(#clip350)\" d=\"M128.288 1133.79 Q124.677 1133.79 122.848 1137.36 Q121.043 1140.9 121.043 1148.03 Q121.043 1155.13 122.848 1158.7 Q124.677 1162.24 128.288 1162.24 Q131.922 1162.24 133.728 1158.7 Q135.556 1155.13 135.556 1148.03 Q135.556 1140.9 133.728 1137.36 Q131.922 1133.79 128.288 1133.79 M128.288 1130.09 Q134.098 1130.09 137.154 1134.69 Q140.232 1139.28 140.232 1148.03 Q140.232 1156.75 137.154 1161.36 Q134.098 1165.94 128.288 1165.94 Q122.478 1165.94 119.399 1161.36 Q116.343 1156.75 116.343 1148.03 Q116.343 1139.28 119.399 1134.69 Q122.478 1130.09 128.288 1130.09 Z\" fill=\"#000000\" fill-rule=\"nonzero\" fill-opacity=\"1\" /><path clip-path=\"url(#clip350)\" d=\"M148.45 1159.39 L153.334 1159.39 L153.334 1165.27 L148.45 1165.27 L148.45 1159.39 Z\" fill=\"#000000\" fill-rule=\"nonzero\" fill-opacity=\"1\" /><path clip-path=\"url(#clip350)\" d=\"M167.547 1161.34 L183.866 1161.34 L183.866 1165.27 L161.922 1165.27 L161.922 1161.34 Q164.584 1158.58 169.167 1153.95 Q173.774 1149.3 174.954 1147.96 Q177.2 1145.43 178.079 1143.7 Q178.982 1141.94 178.982 1140.25 Q178.982 1137.5 177.038 1135.76 Q175.116 1134.02 172.014 1134.02 Q169.815 1134.02 167.362 1134.79 Q164.931 1135.55 162.153 1137.1 L162.153 1132.38 Q164.977 1131.25 167.431 1130.67 Q169.885 1130.09 171.922 1130.09 Q177.292 1130.09 180.487 1132.77 Q183.681 1135.46 183.681 1139.95 Q183.681 1142.08 182.871 1144 Q182.084 1145.9 179.977 1148.49 Q179.399 1149.16 176.297 1152.38 Q173.195 1155.57 167.547 1161.34 Z\" fill=\"#000000\" fill-rule=\"nonzero\" fill-opacity=\"1\" /><path clip-path=\"url(#clip350)\" d=\"M126.205 858.604 Q122.593 858.604 120.765 862.169 Q118.959 865.711 118.959 872.84 Q118.959 879.947 120.765 883.512 Q122.593 887.053 126.205 887.053 Q129.839 887.053 131.644 883.512 Q133.473 879.947 133.473 872.84 Q133.473 865.711 131.644 862.169 Q129.839 858.604 126.205 858.604 M126.205 854.901 Q132.015 854.901 135.07 859.507 Q138.149 864.09 138.149 872.84 Q138.149 881.567 135.07 886.174 Q132.015 890.757 126.205 890.757 Q120.394 890.757 117.316 886.174 Q114.26 881.567 114.26 872.84 Q114.26 864.09 117.316 859.507 Q120.394 854.901 126.205 854.901 Z\" fill=\"#000000\" fill-rule=\"nonzero\" fill-opacity=\"1\" /><path clip-path=\"url(#clip350)\" d=\"M146.366 884.206 L151.251 884.206 L151.251 890.086 L146.366 890.086 L146.366 884.206 Z\" fill=\"#000000\" fill-rule=\"nonzero\" fill-opacity=\"1\" /><path clip-path=\"url(#clip350)\" d=\"M174.283 859.6 L162.477 878.049 L174.283 878.049 L174.283 859.6 M173.056 855.526 L178.936 855.526 L178.936 878.049 L183.866 878.049 L183.866 881.937 L178.936 881.937 L178.936 890.086 L174.283 890.086 L174.283 881.937 L158.681 881.937 L158.681 877.424 L173.056 855.526 Z\" fill=\"#000000\" fill-rule=\"nonzero\" fill-opacity=\"1\" /><path clip-path=\"url(#clip350)\" d=\"M126.529 583.417 Q122.918 583.417 121.089 586.982 Q119.283 590.524 119.283 597.653 Q119.283 604.76 121.089 608.324 Q122.918 611.866 126.529 611.866 Q130.163 611.866 131.968 608.324 Q133.797 604.76 133.797 597.653 Q133.797 590.524 131.968 586.982 Q130.163 583.417 126.529 583.417 M126.529 579.713 Q132.339 579.713 135.394 584.32 Q138.473 588.903 138.473 597.653 Q138.473 606.38 135.394 610.986 Q132.339 615.57 126.529 615.57 Q120.718 615.57 117.64 610.986 Q114.584 606.38 114.584 597.653 Q114.584 588.903 117.64 584.32 Q120.718 579.713 126.529 579.713 Z\" fill=\"#000000\" fill-rule=\"nonzero\" fill-opacity=\"1\" /><path clip-path=\"url(#clip350)\" d=\"M146.691 609.019 L151.575 609.019 L151.575 614.898 L146.691 614.898 L146.691 609.019 Z\" fill=\"#000000\" fill-rule=\"nonzero\" fill-opacity=\"1\" /><path clip-path=\"url(#clip350)\" d=\"M172.339 595.755 Q169.19 595.755 167.339 597.908 Q165.51 600.061 165.51 603.81 Q165.51 607.537 167.339 609.713 Q169.19 611.866 172.339 611.866 Q175.487 611.866 177.315 609.713 Q179.167 607.537 179.167 603.81 Q179.167 600.061 177.315 597.908 Q175.487 595.755 172.339 595.755 M181.621 581.102 L181.621 585.362 Q179.862 584.528 178.056 584.088 Q176.274 583.649 174.514 583.649 Q169.885 583.649 167.431 586.774 Q165.001 589.899 164.653 596.218 Q166.019 594.204 168.079 593.139 Q170.139 592.051 172.616 592.051 Q177.825 592.051 180.834 595.223 Q183.866 598.371 183.866 603.81 Q183.866 609.135 180.718 612.352 Q177.57 615.57 172.339 615.57 Q166.343 615.57 163.172 610.986 Q160.001 606.38 160.001 597.653 Q160.001 589.459 163.89 584.598 Q167.778 579.713 174.329 579.713 Q176.089 579.713 177.871 580.061 Q179.676 580.408 181.621 581.102 Z\" fill=\"#000000\" fill-rule=\"nonzero\" fill-opacity=\"1\" /><path clip-path=\"url(#clip350)\" d=\"M126.783 308.23 Q123.172 308.23 121.343 311.795 Q119.538 315.336 119.538 322.466 Q119.538 329.572 121.343 333.137 Q123.172 336.679 126.783 336.679 Q130.417 336.679 132.223 333.137 Q134.052 329.572 134.052 322.466 Q134.052 315.336 132.223 311.795 Q130.417 308.23 126.783 308.23 M126.783 304.526 Q132.593 304.526 135.649 309.133 Q138.728 313.716 138.728 322.466 Q138.728 331.193 135.649 335.799 Q132.593 340.383 126.783 340.383 Q120.973 340.383 117.894 335.799 Q114.839 331.193 114.839 322.466 Q114.839 313.716 117.894 309.133 Q120.973 304.526 126.783 304.526 Z\" fill=\"#000000\" fill-rule=\"nonzero\" fill-opacity=\"1\" /><path clip-path=\"url(#clip350)\" d=\"M146.945 333.832 L151.829 333.832 L151.829 339.711 L146.945 339.711 L146.945 333.832 Z\" fill=\"#000000\" fill-rule=\"nonzero\" fill-opacity=\"1\" /><path clip-path=\"url(#clip350)\" d=\"M172.014 323.299 Q168.681 323.299 166.76 325.082 Q164.862 326.864 164.862 329.989 Q164.862 333.114 166.76 334.896 Q168.681 336.679 172.014 336.679 Q175.348 336.679 177.269 334.896 Q179.19 333.091 179.19 329.989 Q179.19 326.864 177.269 325.082 Q175.371 323.299 172.014 323.299 M167.339 321.309 Q164.329 320.568 162.64 318.508 Q160.973 316.447 160.973 313.485 Q160.973 309.341 163.913 306.934 Q166.876 304.526 172.014 304.526 Q177.176 304.526 180.116 306.934 Q183.056 309.341 183.056 313.485 Q183.056 316.447 181.366 318.508 Q179.7 320.568 176.714 321.309 Q180.093 322.096 181.968 324.387 Q183.866 326.679 183.866 329.989 Q183.866 335.012 180.788 337.697 Q177.732 340.383 172.014 340.383 Q166.297 340.383 163.218 337.697 Q160.163 335.012 160.163 329.989 Q160.163 326.679 162.061 324.387 Q163.959 322.096 167.339 321.309 M165.626 313.924 Q165.626 316.61 167.292 318.114 Q168.982 319.619 172.014 319.619 Q175.024 319.619 176.714 318.114 Q178.426 316.61 178.426 313.924 Q178.426 311.239 176.714 309.735 Q175.024 308.23 172.014 308.23 Q168.982 308.23 167.292 309.735 Q165.626 311.239 165.626 313.924 Z\" fill=\"#000000\" fill-rule=\"nonzero\" fill-opacity=\"1\" /><path clip-path=\"url(#clip350)\" d=\"M117.501 60.5889 L125.14 60.5889 L125.14 34.2233 L116.83 35.89 L116.83 31.6308 L125.093 29.9641 L129.769 29.9641 L129.769 60.5889 L137.408 60.5889 L137.408 64.5241 L117.501 64.5241 L117.501 60.5889 Z\" fill=\"#000000\" fill-rule=\"nonzero\" fill-opacity=\"1\" /><path clip-path=\"url(#clip350)\" d=\"M146.853 58.6445 L151.737 58.6445 L151.737 64.5241 L146.853 64.5241 L146.853 58.6445 Z\" fill=\"#000000\" fill-rule=\"nonzero\" fill-opacity=\"1\" /><path clip-path=\"url(#clip350)\" d=\"M171.922 33.0428 Q168.311 33.0428 166.482 36.6076 Q164.677 40.1492 164.677 47.2788 Q164.677 54.3853 166.482 57.9501 Q168.311 61.4917 171.922 61.4917 Q175.556 61.4917 177.362 57.9501 Q179.19 54.3853 179.19 47.2788 Q179.19 40.1492 177.362 36.6076 Q175.556 33.0428 171.922 33.0428 M171.922 29.3391 Q177.732 29.3391 180.788 33.9456 Q183.866 38.5289 183.866 47.2788 Q183.866 56.0056 180.788 60.6121 Q177.732 65.1954 171.922 65.1954 Q166.112 65.1954 163.033 60.6121 Q159.978 56.0056 159.978 47.2788 Q159.978 38.5289 163.033 33.9456 Q166.112 29.3391 171.922 29.3391 Z\" fill=\"#000000\" fill-rule=\"nonzero\" fill-opacity=\"1\" /><path clip-path=\"url(#clip350)\" d=\"M67.3143 733.525 Q73.68 736.008 75.6216 738.363 Q77.5631 740.718 77.5631 744.665 L77.5631 749.344 L72.6615 749.344 L72.6615 745.906 Q72.6615 743.487 71.5157 742.151 Q70.3699 740.814 66.1048 739.191 L63.4312 738.14 L28.3562 752.559 L28.3562 746.352 L56.238 735.212 L28.3562 724.072 L28.3562 717.865 L67.3143 733.525 Z\" fill=\"#000000\" fill-rule=\"nonzero\" fill-opacity=\"1\" /><polyline clip-path=\"url(#clip352)\" style=\"stroke:#009af9; stroke-linecap:round; stroke-linejoin:round; stroke-width:4; stroke-opacity:1; fill:none\" points=\"280.231,1423.18 300.353,1423.04 320.474,1422.63 340.596,1421.94 360.717,1420.98 380.839,1419.74 400.961,1418.23 421.082,1416.44 441.204,1414.37 461.325,1412.03 481.447,1409.42 501.569,1406.53 521.69,1403.37 541.812,1399.93 561.933,1396.21 582.055,1392.22 602.177,1387.96 622.298,1383.42 642.42,1378.6 662.541,1373.51 682.663,1368.14 702.785,1362.5 722.906,1356.58 743.028,1350.39 763.149,1343.93 783.271,1337.18 803.393,1330.17 823.514,1322.87 843.636,1315.31 863.757,1307.46 883.879,1299.35 904.001,1290.95 924.122,1282.28 944.244,1273.34 964.365,1264.12 984.487,1254.63 1004.61,1244.86 1024.73,1234.81 1044.85,1224.49 1064.97,1213.9 1085.1,1203.03 1105.22,1191.89 1125.34,1180.46 1145.46,1168.77 1165.58,1156.8 1185.7,1144.55 1205.82,1132.03 1225.95,1119.24 1246.07,1106.16 1266.19,1092.82 1286.31,1079.2 1306.43,1065.3 1326.55,1051.13 1346.68,1036.68 1366.8,1021.96 1386.92,1006.96 1407.04,991.686 1427.16,976.138 1447.28,960.315 1467.41,944.217 1487.53,927.843 1507.65,911.194 1527.77,894.27 1547.89,877.071 1568.01,859.597 1588.14,841.847 1608.26,823.822 1628.38,805.522 1648.5,786.947 1668.62,768.097 1688.74,748.971 1708.86,729.571 1728.99,709.895 1749.11,689.944 1769.23,669.717 1789.35,649.216 1809.47,628.439 1829.59,607.388 1849.72,586.061 1869.84,564.458 1889.96,542.581 1910.08,520.428 1930.2,498.001 1950.32,475.298 1970.45,452.32 1990.57,429.066 2010.69,405.538 2030.81,381.734 2050.93,357.655 2071.05,333.301 2091.18,308.672 2111.3,283.767 2131.42,258.588 2151.54,233.133 2171.66,207.403 2191.78,181.398 2211.9,155.117 2232.03,128.562 2252.15,101.731 2272.27,74.6252 2292.39,47.2441 \"/>\n",
       "<path clip-path=\"url(#clip352)\" d=\"M280.231 1423.18 L300.353 1423.18 L320.474 1423.18 L340.596 1423.18 L360.717 1423.18 L380.839 1423.18 L400.961 1423.18 L421.082 1423.18 L441.204 1423.18 L461.325 1423.18 L481.447 1423.18 L501.569 1423.18 L521.69 1423.18 L541.812 1423.18 L561.933 1423.18 L582.055 1423.18 L602.177 1423.18 L622.298 1423.18 L642.42 1423.18 L662.541 1423.18 L682.663 1423.18 L702.785 1423.18 L722.906 1423.18 L743.028 1423.18 L763.149 1423.18 L783.271 1423.18 L803.393 1423.18 L823.514 1423.18 L843.636 1423.18 L863.757 1423.18 L883.879 1423.18 L904.001 1423.18 L924.122 1423.18 L944.244 1423.18 L964.365 1423.18 L984.487 1423.18 L1004.61 1423.18 L1024.73 1423.18 L1044.85 1423.18 L1064.97 1423.18 L1085.1 1423.18 L1105.22 1423.18 L1125.34 1423.18 L1145.46 1423.18 L1165.58 1423.18 L1185.7 1423.18 L1205.82 1423.18 L1225.95 1423.18 L1246.07 1423.18 L1266.19 1423.18 L1286.31 1423.18 L1306.43 1423.18 L1326.55 1423.18 L1346.68 1423.18 L1366.8 1423.18 L1386.92 1423.18 L1407.04 1423.18 L1427.16 1423.18 L1447.28 1423.18 L1467.41 1423.18 L1487.53 1423.18 L1507.65 1423.18 L1527.77 1423.18 L1547.89 1423.18 L1568.01 1423.18 L1588.14 1423.18 L1608.26 1423.18 L1628.38 1423.18 L1648.5 1423.18 L1668.62 1423.18 L1688.74 1423.18 L1708.86 1423.18 L1728.99 1423.18 L1749.11 1423.18 L1769.23 1423.18 L1789.35 1423.18 L1809.47 1423.18 L1829.59 1423.18 L1849.72 1423.18 L1869.84 1423.18 L1889.96 1423.18 L1910.08 1423.18 L1930.2 1423.18 L1950.32 1423.18 L1970.45 1423.18 L1990.57 1423.18 L2010.69 1423.18 L2030.81 1423.18 L2050.93 1423.18 L2071.05 1423.18 L2091.18 1423.18 L2111.3 1423.18 L2131.42 1423.18 L2151.54 1423.18 L2171.66 1423.18 L2191.78 1423.18 L2211.9 1423.18 L2232.03 1423.18 L2252.15 1423.18 L2272.27 1423.18 L2292.39 1423.18 L2292.39 47.2441 L2272.27 74.6252 L2252.15 101.731 L2232.03 128.562 L2211.9 155.117 L2191.78 181.398 L2171.66 207.403 L2151.54 233.133 L2131.42 258.588 L2111.3 283.767 L2091.18 308.672 L2071.05 333.301 L2050.93 357.655 L2030.81 381.734 L2010.69 405.538 L1990.57 429.066 L1970.45 452.32 L1950.32 475.298 L1930.2 498.001 L1910.08 520.428 L1889.96 542.581 L1869.84 564.458 L1849.72 586.061 L1829.59 607.388 L1809.47 628.439 L1789.35 649.216 L1769.23 669.717 L1749.11 689.944 L1728.99 709.895 L1708.86 729.571 L1688.74 748.971 L1668.62 768.097 L1648.5 786.947 L1628.38 805.522 L1608.26 823.822 L1588.14 841.847 L1568.01 859.597 L1547.89 877.071 L1527.77 894.27 L1507.65 911.194 L1487.53 927.843 L1467.41 944.217 L1447.28 960.315 L1427.16 976.138 L1407.04 991.686 L1386.92 1006.96 L1366.8 1021.96 L1346.68 1036.68 L1326.55 1051.13 L1306.43 1065.3 L1286.31 1079.2 L1266.19 1092.82 L1246.07 1106.16 L1225.95 1119.24 L1205.82 1132.03 L1185.7 1144.55 L1165.58 1156.8 L1145.46 1168.77 L1125.34 1180.46 L1105.22 1191.89 L1085.1 1203.03 L1064.97 1213.9 L1044.85 1224.49 L1024.73 1234.81 L1004.61 1244.86 L984.487 1254.63 L964.365 1264.12 L944.244 1273.34 L924.122 1282.28 L904.001 1290.95 L883.879 1299.35 L863.757 1307.46 L843.636 1315.31 L823.514 1322.87 L803.393 1330.17 L783.271 1337.18 L763.149 1343.93 L743.028 1350.39 L722.906 1356.58 L702.785 1362.5 L682.663 1368.14 L662.541 1373.51 L642.42 1378.6 L622.298 1383.42 L602.177 1387.96 L582.055 1392.22 L561.933 1396.21 L541.812 1399.93 L521.69 1403.37 L501.569 1406.53 L481.447 1409.42 L461.325 1412.03 L441.204 1414.37 L421.082 1416.44 L400.961 1418.23 L380.839 1419.74 L360.717 1420.98 L340.596 1421.94 L320.474 1422.63 L300.353 1423.04 L280.231 1423.18  Z\" fill=\"#add8e6\" fill-rule=\"evenodd\" fill-opacity=\"0.3\"/>\n",
       "<polyline clip-path=\"url(#clip352)\" style=\"stroke:#e26f46; stroke-linecap:round; stroke-linejoin:round; stroke-width:4; stroke-opacity:1; fill:none\" points=\"280.231,1423.18 300.353,1423.18 320.474,1423.18 340.596,1423.18 360.717,1423.18 380.839,1423.18 400.961,1423.18 421.082,1423.18 441.204,1423.18 461.325,1423.18 481.447,1423.18 501.569,1423.18 521.69,1423.18 541.812,1423.18 561.933,1423.18 582.055,1423.18 602.177,1423.18 622.298,1423.18 642.42,1423.18 662.541,1423.18 682.663,1423.18 702.785,1423.18 722.906,1423.18 743.028,1423.18 763.149,1423.18 783.271,1423.18 803.393,1423.18 823.514,1423.18 843.636,1423.18 863.757,1423.18 883.879,1423.18 904.001,1423.18 924.122,1423.18 944.244,1423.18 964.365,1423.18 984.487,1423.18 1004.61,1423.18 1024.73,1423.18 1044.85,1423.18 1064.97,1423.18 1085.1,1423.18 1105.22,1423.18 1125.34,1423.18 1145.46,1423.18 1165.58,1423.18 1185.7,1423.18 1205.82,1423.18 1225.95,1423.18 1246.07,1423.18 1266.19,1423.18 1286.31,1423.18 1306.43,1423.18 1326.55,1423.18 1346.68,1423.18 1366.8,1423.18 1386.92,1423.18 1407.04,1423.18 1427.16,1423.18 1447.28,1423.18 1467.41,1423.18 1487.53,1423.18 1507.65,1423.18 1527.77,1423.18 1547.89,1423.18 1568.01,1423.18 1588.14,1423.18 1608.26,1423.18 1628.38,1423.18 1648.5,1423.18 1668.62,1423.18 1688.74,1423.18 1708.86,1423.18 1728.99,1423.18 1749.11,1423.18 1769.23,1423.18 1789.35,1423.18 1809.47,1423.18 1829.59,1423.18 1849.72,1423.18 1869.84,1423.18 1889.96,1423.18 1910.08,1423.18 1930.2,1423.18 1950.32,1423.18 1970.45,1423.18 1990.57,1423.18 2010.69,1423.18 2030.81,1423.18 2050.93,1423.18 2071.05,1423.18 2091.18,1423.18 2111.3,1423.18 2131.42,1423.18 2151.54,1423.18 2171.66,1423.18 2191.78,1423.18 2211.9,1423.18 2232.03,1423.18 2252.15,1423.18 2272.27,1423.18 2292.39,1423.18 \"/>\n",
       "<path clip-path=\"url(#clip350)\" d=\"M290.963 248.629 L930.129 248.629 L930.129 93.1086 L290.963 93.1086  Z\" fill=\"#ffffff\" fill-rule=\"evenodd\" fill-opacity=\"1\"/>\n",
       "<polyline clip-path=\"url(#clip350)\" style=\"stroke:#000000; stroke-linecap:round; stroke-linejoin:round; stroke-width:4; stroke-opacity:1; fill:none\" points=\"290.963,248.629 930.129,248.629 930.129,93.1086 290.963,93.1086 290.963,248.629 \"/>\n",
       "<polyline clip-path=\"url(#clip350)\" style=\"stroke:#009af9; stroke-linecap:round; stroke-linejoin:round; stroke-width:4; stroke-opacity:1; fill:none\" points=\"314.661,144.949 456.854,144.949 \"/>\n",
       "<path clip-path=\"url(#clip350)\" d=\"M494.395 164.636 Q492.59 169.266 490.877 170.678 Q489.164 172.09 486.293 172.09 L482.891 172.09 L482.891 168.525 L485.391 168.525 Q487.15 168.525 488.122 167.692 Q489.094 166.858 490.275 163.756 L491.039 161.812 L480.553 136.303 L485.067 136.303 L493.168 156.581 L501.27 136.303 L505.784 136.303 L494.395 164.636 Z\" fill=\"#000000\" fill-rule=\"nonzero\" fill-opacity=\"1\" /><path clip-path=\"url(#clip350)\" d=\"M527.289 140.701 L556.964 140.701 L556.964 144.59 L527.289 144.59 L527.289 140.701 M527.289 150.145 L556.964 150.145 L556.964 154.081 L527.289 154.081 L527.289 150.145 Z\" fill=\"#000000\" fill-rule=\"nonzero\" fill-opacity=\"1\" /><path clip-path=\"url(#clip350)\" d=\"M603.075 136.303 L593.7 148.919 L603.561 162.229 L598.538 162.229 L590.992 152.043 L583.446 162.229 L578.423 162.229 L588.492 148.664 L579.279 136.303 L584.302 136.303 L591.177 145.539 L598.052 136.303 L603.075 136.303 Z\" fill=\"#000000\" fill-rule=\"nonzero\" fill-opacity=\"1\" /><path clip-path=\"url(#clip350)\" d=\"M627.242 127.669 L639.811 140.562 L635.158 140.562 L624.973 131.419 L614.788 140.562 L610.135 140.562 L622.705 127.669 L627.242 127.669 Z\" fill=\"#000000\" fill-rule=\"nonzero\" fill-opacity=\"1\" /><path clip-path=\"url(#clip350)\" d=\"M653.931 158.293 L670.251 158.293 L670.251 162.229 L648.307 162.229 L648.307 158.293 Q650.969 155.539 655.552 150.909 Q660.158 146.256 661.339 144.914 Q663.584 142.391 664.464 140.655 Q665.367 138.895 665.367 137.206 Q665.367 134.451 663.422 132.715 Q661.501 130.979 658.399 130.979 Q656.2 130.979 653.746 131.743 Q651.316 132.507 648.538 134.057 L648.538 129.335 Q651.362 128.201 653.816 127.622 Q656.269 127.044 658.306 127.044 Q663.677 127.044 666.871 129.729 Q670.066 132.414 670.066 136.905 Q670.066 139.034 669.255 140.956 Q668.468 142.854 666.362 145.446 Q665.783 146.118 662.681 149.335 Q659.58 152.53 653.931 158.293 Z\" fill=\"#000000\" fill-rule=\"nonzero\" fill-opacity=\"1\" /><path clip-path=\"url(#clip350)\" d=\"M314.661 217.525 L456.854 217.525 L456.854 176.053 L314.661 176.053 L314.661 217.525  Z\" fill=\"#add8e6\" fill-rule=\"evenodd\" fill-opacity=\"0.3\"/>\n",
       "<polyline clip-path=\"url(#clip350)\" style=\"stroke:#e26f46; stroke-linecap:round; stroke-linejoin:round; stroke-width:4; stroke-opacity:1; fill:none\" points=\"314.661,176.053 456.854,176.053 \"/>\n",
       "<path clip-path=\"url(#clip350)\" d=\"M496.386 184.115 L490.043 201.314 L502.752 201.314 L496.386 184.115 M493.747 179.509 L499.048 179.509 L512.219 214.069 L507.358 214.069 L504.21 205.203 L488.631 205.203 L485.483 214.069 L480.553 214.069 L493.747 179.509 M497.659 170.111 L501.942 170.111 L496.664 176.222 L493.122 176.222 L497.659 170.111 Z\" fill=\"#000000\" fill-rule=\"nonzero\" fill-opacity=\"1\" /><path clip-path=\"url(#clip350)\" d=\"M532.103 192.124 Q531.386 191.708 530.529 191.522 Q529.696 191.314 528.678 191.314 Q525.066 191.314 523.122 193.675 Q521.201 196.013 521.201 200.411 L521.201 214.069 L516.918 214.069 L516.918 188.143 L521.201 188.143 L521.201 192.171 Q522.543 189.809 524.696 188.675 Q526.849 187.518 529.928 187.518 Q530.367 187.518 530.9 187.587 Q531.432 187.634 532.08 187.749 L532.103 192.124 Z\" fill=\"#000000\" fill-rule=\"nonzero\" fill-opacity=\"1\" /><path clip-path=\"url(#clip350)\" d=\"M557.705 200.041 L557.705 202.124 L538.122 202.124 Q538.4 206.522 540.761 208.837 Q543.145 211.129 547.381 211.129 Q549.835 211.129 552.126 210.527 Q554.441 209.925 556.71 208.721 L556.71 212.749 Q554.418 213.721 552.011 214.231 Q549.603 214.74 547.126 214.74 Q540.923 214.74 537.289 211.129 Q533.677 207.518 533.677 201.36 Q533.677 194.995 537.103 191.268 Q540.552 187.518 546.386 187.518 Q551.617 187.518 554.65 190.897 Q557.705 194.254 557.705 200.041 M553.446 198.791 Q553.4 195.296 551.478 193.212 Q549.58 191.129 546.432 191.129 Q542.867 191.129 540.714 193.143 Q538.585 195.157 538.261 198.814 L553.446 198.791 Z\" fill=\"#000000\" fill-rule=\"nonzero\" fill-opacity=\"1\" /><path clip-path=\"url(#clip350)\" d=\"M576.478 201.036 Q571.316 201.036 569.325 202.217 Q567.335 203.397 567.335 206.245 Q567.335 208.513 568.816 209.856 Q570.321 211.175 572.89 211.175 Q576.432 211.175 578.562 208.675 Q580.714 206.152 580.714 201.985 L580.714 201.036 L576.478 201.036 M584.974 199.277 L584.974 214.069 L580.714 214.069 L580.714 210.133 Q579.256 212.495 577.08 213.629 Q574.904 214.74 571.756 214.74 Q567.775 214.74 565.413 212.518 Q563.075 210.272 563.075 206.522 Q563.075 202.147 565.992 199.925 Q568.932 197.703 574.742 197.703 L580.714 197.703 L580.714 197.286 Q580.714 194.347 578.77 192.749 Q576.849 191.129 573.353 191.129 Q571.131 191.129 569.025 191.661 Q566.918 192.194 564.974 193.259 L564.974 189.323 Q567.312 188.421 569.511 187.981 Q571.71 187.518 573.793 187.518 Q579.418 187.518 582.196 190.434 Q584.974 193.351 584.974 199.277 Z\" fill=\"#000000\" fill-rule=\"nonzero\" fill-opacity=\"1\" /><path clip-path=\"url(#clip350)\" d=\"M627.427 201.129 Q627.427 196.43 625.483 193.768 Q623.561 191.083 620.182 191.083 Q616.802 191.083 614.858 193.768 Q612.936 196.43 612.936 201.129 Q612.936 205.828 614.858 208.513 Q616.802 211.175 620.182 211.175 Q623.561 211.175 625.483 208.513 Q627.427 205.828 627.427 201.129 M612.936 192.078 Q614.279 189.763 616.316 188.652 Q618.376 187.518 621.223 187.518 Q625.946 187.518 628.885 191.268 Q631.848 195.018 631.848 201.129 Q631.848 207.24 628.885 210.99 Q625.946 214.74 621.223 214.74 Q618.376 214.74 616.316 213.629 Q614.279 212.495 612.936 210.18 L612.936 214.069 L608.654 214.069 L608.654 178.05 L612.936 178.05 L612.936 192.078 Z\" fill=\"#000000\" fill-rule=\"nonzero\" fill-opacity=\"1\" /><path clip-path=\"url(#clip350)\" d=\"M650.691 201.036 Q645.529 201.036 643.538 202.217 Q641.547 203.397 641.547 206.245 Q641.547 208.513 643.029 209.856 Q644.533 211.175 647.103 211.175 Q650.644 211.175 652.774 208.675 Q654.927 206.152 654.927 201.985 L654.927 201.036 L650.691 201.036 M659.186 199.277 L659.186 214.069 L654.927 214.069 L654.927 210.133 Q653.469 212.495 651.293 213.629 Q649.117 214.74 645.969 214.74 Q641.987 214.74 639.626 212.518 Q637.288 210.272 637.288 206.522 Q637.288 202.147 640.205 199.925 Q643.144 197.703 648.955 197.703 L654.927 197.703 L654.927 197.286 Q654.927 194.347 652.982 192.749 Q651.061 191.129 647.566 191.129 Q645.344 191.129 643.237 191.661 Q641.131 192.194 639.186 193.259 L639.186 189.323 Q641.524 188.421 643.723 187.981 Q645.922 187.518 648.006 187.518 Q653.631 187.518 656.408 190.434 Q659.186 193.351 659.186 199.277 Z\" fill=\"#000000\" fill-rule=\"nonzero\" fill-opacity=\"1\" /><path clip-path=\"url(#clip350)\" d=\"M667.959 188.143 L672.218 188.143 L672.218 214.532 Q672.218 219.485 670.32 221.707 Q668.445 223.93 664.255 223.93 L662.635 223.93 L662.635 220.319 L663.769 220.319 Q666.2 220.319 667.08 219.184 Q667.959 218.073 667.959 214.532 L667.959 188.143 M667.959 178.05 L672.218 178.05 L672.218 183.444 L667.959 183.444 L667.959 178.05 Z\" fill=\"#000000\" fill-rule=\"nonzero\" fill-opacity=\"1\" /><path clip-path=\"url(#clip350)\" d=\"M691.177 191.129 Q687.751 191.129 685.76 193.814 Q683.769 196.476 683.769 201.129 Q683.769 205.782 685.737 208.467 Q687.728 211.129 691.177 211.129 Q694.579 211.129 696.57 208.444 Q698.561 205.758 698.561 201.129 Q698.561 196.522 696.57 193.837 Q694.579 191.129 691.177 191.129 M691.177 187.518 Q696.732 187.518 699.903 191.129 Q703.075 194.74 703.075 201.129 Q703.075 207.495 699.903 211.129 Q696.732 214.74 691.177 214.74 Q685.598 214.74 682.427 211.129 Q679.279 207.495 679.279 201.129 Q679.279 194.74 682.427 191.129 Q685.598 187.518 691.177 187.518 Z\" fill=\"#000000\" fill-rule=\"nonzero\" fill-opacity=\"1\" /><path clip-path=\"url(#clip350)\" d=\"M725.204 178.05 L729.463 178.05 L729.463 214.069 L725.204 214.069 L725.204 178.05 Z\" fill=\"#000000\" fill-rule=\"nonzero\" fill-opacity=\"1\" /><path clip-path=\"url(#clip350)\" d=\"M750.158 201.036 Q744.996 201.036 743.005 202.217 Q741.014 203.397 741.014 206.245 Q741.014 208.513 742.496 209.856 Q744 211.175 746.57 211.175 Q750.112 211.175 752.241 208.675 Q754.394 206.152 754.394 201.985 L754.394 201.036 L750.158 201.036 M758.653 199.277 L758.653 214.069 L754.394 214.069 L754.394 210.133 Q752.936 212.495 750.76 213.629 Q748.584 214.74 745.436 214.74 Q741.454 214.74 739.093 212.518 Q736.755 210.272 736.755 206.522 Q736.755 202.147 739.672 199.925 Q742.612 197.703 748.422 197.703 L754.394 197.703 L754.394 197.286 Q754.394 194.347 752.449 192.749 Q750.528 191.129 747.033 191.129 Q744.811 191.129 742.704 191.661 Q740.598 192.194 738.653 193.259 L738.653 189.323 Q740.991 188.421 743.19 187.981 Q745.389 187.518 747.473 187.518 Q753.098 187.518 755.875 190.434 Q758.653 193.351 758.653 199.277 Z\" fill=\"#000000\" fill-rule=\"nonzero\" fill-opacity=\"1\" /><path clip-path=\"url(#clip350)\" d=\"M801.153 189.138 L801.153 193.12 Q799.347 192.124 797.519 191.638 Q795.713 191.129 793.861 191.129 Q789.718 191.129 787.426 193.768 Q785.134 196.384 785.134 201.129 Q785.134 205.874 787.426 208.513 Q789.718 211.129 793.861 211.129 Q795.713 211.129 797.519 210.643 Q799.347 210.133 801.153 209.138 L801.153 213.073 Q799.371 213.907 797.449 214.323 Q795.551 214.74 793.398 214.74 Q787.542 214.74 784.093 211.059 Q780.644 207.379 780.644 201.129 Q780.644 194.786 784.116 191.152 Q787.611 187.518 793.676 187.518 Q795.644 187.518 797.519 187.935 Q799.394 188.328 801.153 189.138 Z\" fill=\"#000000\" fill-rule=\"nonzero\" fill-opacity=\"1\" /><path clip-path=\"url(#clip350)\" d=\"M808.12 203.837 L808.12 188.143 L812.38 188.143 L812.38 203.675 Q812.38 207.356 813.815 209.208 Q815.25 211.036 818.12 211.036 Q821.569 211.036 823.56 208.837 Q825.574 206.638 825.574 202.842 L825.574 188.143 L829.833 188.143 L829.833 214.069 L825.574 214.069 L825.574 210.087 Q824.023 212.448 821.963 213.606 Q819.926 214.74 817.218 214.74 Q812.75 214.74 810.435 211.962 Q808.12 209.184 808.12 203.837 M818.838 187.518 L818.838 187.518 Z\" fill=\"#000000\" fill-rule=\"nonzero\" fill-opacity=\"1\" /><path clip-path=\"url(#clip350)\" d=\"M853.629 192.124 Q852.912 191.708 852.055 191.522 Q851.222 191.314 850.204 191.314 Q846.592 191.314 844.648 193.675 Q842.727 196.013 842.727 200.411 L842.727 214.069 L838.444 214.069 L838.444 188.143 L842.727 188.143 L842.727 192.171 Q844.069 189.809 846.222 188.675 Q848.375 187.518 851.454 187.518 Q851.893 187.518 852.426 187.587 Q852.958 187.634 853.606 187.749 L853.629 192.124 Z\" fill=\"#000000\" fill-rule=\"nonzero\" fill-opacity=\"1\" /><path clip-path=\"url(#clip350)\" d=\"M855.042 188.143 L859.555 188.143 L867.657 209.902 L875.759 188.143 L880.273 188.143 L870.551 214.069 L864.764 214.069 L855.042 188.143 Z\" fill=\"#000000\" fill-rule=\"nonzero\" fill-opacity=\"1\" /><path clip-path=\"url(#clip350)\" d=\"M897.935 201.036 Q892.773 201.036 890.782 202.217 Q888.791 203.397 888.791 206.245 Q888.791 208.513 890.273 209.856 Q891.777 211.175 894.347 211.175 Q897.889 211.175 900.018 208.675 Q902.171 206.152 902.171 201.985 L902.171 201.036 L897.935 201.036 M906.43 199.277 L906.43 214.069 L902.171 214.069 L902.171 210.133 Q900.713 212.495 898.537 213.629 Q896.361 214.74 893.213 214.74 Q889.231 214.74 886.87 212.518 Q884.532 210.272 884.532 206.522 Q884.532 202.147 887.449 199.925 Q890.389 197.703 896.199 197.703 L902.171 197.703 L902.171 197.286 Q902.171 194.347 900.226 192.749 Q898.305 191.129 894.81 191.129 Q892.588 191.129 890.481 191.661 Q888.375 192.194 886.43 193.259 L886.43 189.323 Q888.768 188.421 890.967 187.981 Q893.166 187.518 895.25 187.518 Q900.875 187.518 903.652 190.434 Q906.43 193.351 906.43 199.277 Z\" fill=\"#000000\" fill-rule=\"nonzero\" fill-opacity=\"1\" /></svg>\n"
      ]
     },
     "execution_count": 19,
     "metadata": {},
     "output_type": "execute_result"
    }
   ],
   "source": [
    "using Plots\n",
    "f(x) = x^2\n",
    "x_values = 0:0.01:1\n",
    "y_values = f.(x_values)\n",
    "plot(x_values, y_values, label=\"y = x^2\", xlabel=\"x\", ylabel=\"y\", ylims=(0,1), legend=:topleft)\n",
    "plot!(x_values, zeros(length(x_values)), fillrange=y_values, fillalpha=0.3, fillcolor=:lightblue, label=\"Área bajo la curva\")\n",
    "\n"
   ]
  },
  {
   "cell_type": "markdown",
   "metadata": {},
   "source": [
    "Si aplicamos los métodos implementados anteriormente obtenemos los siguientes resultados:"
   ]
  },
  {
   "cell_type": "code",
   "execution_count": 20,
   "metadata": {},
   "outputs": [
    {
     "name": "stdout",
     "output_type": "stream",
     "text": [
      "Trapezoid Rule: 0.5\n",
      "Simpson's Rule: 0.3333333333333333\n",
      "Three-Eighths Rule: 0.3333333333333333\n",
      "Boole's Rule: 0.33333333333333337\n",
      "Mid-Point Rule: 0.25\n",
      "I_1_a Rule: 0.2777777777777778\n",
      "I_2_a Rule: 0.3333333333333333\n",
      "I_3_a Rule: 0.33333333333333337\n"
     ]
    }
   ],
   "source": [
    "f(x) = x^2\n",
    "a = 0\n",
    "b = 1\n",
    "result_trapezoid = integrate_trapezoid(f, a, b)\n",
    "result_simpson = integrate_simpson(f, a, b)\n",
    "result_three_eights = integrate_three_eights(f, a, b)\n",
    "result_boole = integrate_boole(f, a, b)\n",
    "result_mid_point = integrate_mid_point(f, a, b)\n",
    "result_i_1_a = integrate_i_1_a(f, a, b)\n",
    "result_i_2_a = integrate_i_2_a(f, a, b)\n",
    "result_i_3_a = integrate_i_3_a(f, a, b)\n",
    "println(\"Trapezoid Rule: \", result_trapezoid)\n",
    "println(\"Simpson's Rule: \", result_simpson)\n",
    "println(\"Three-Eighths Rule: \", result_three_eights)\n",
    "println(\"Boole's Rule: \", result_boole)\n",
    "println(\"Mid-Point Rule: \", result_mid_point)\n",
    "println(\"I_1_a Rule: \", result_i_1_a)\n",
    "println(\"I_2_a Rule: \", result_i_2_a)\n",
    "println(\"I_3_a Rule: \", result_i_3_a)"
   ]
  },
  {
   "cell_type": "markdown",
   "metadata": {},
   "source": [
    "## Integración compuesta\n",
    "Ahora toca analizar las distintas formulas de integración compuesta,las mostramos a continuación:\n"
   ]
  },
  {
   "cell_type": "code",
   "execution_count": 27,
   "metadata": {},
   "outputs": [
    {
     "data": {
      "text/plain": [
       "generar_tabla_integracion (generic function with 2 methods)"
      ]
     },
     "execution_count": 27,
     "metadata": {},
     "output_type": "execute_result"
    }
   ],
   "source": [
    "function composed_trapezoid(f, a, b, n)\n",
    "    h = (b - a) / n\n",
    "    result = (f(a) + f(b)) / 2\n",
    "    \n",
    "    for i = 1:n-1\n",
    "        result += f(a + i*h)\n",
    "    end\n",
    "    \n",
    "    result *= h\n",
    "    return result\n",
    "end\n",
    "using DataFrames\n",
    "\n",
    "function generar_tabla_integracion(n_values,f,a,b,metodo,integral_value=nothing)\n",
    "    df = DataFrame(n = Int[], h = Float64[], integral_value = Float64[], error = Float64[], error_ratio = Float64[])\n",
    "    \n",
    "    previous_error = nothing\n",
    "\n",
    "    for n in n_values\n",
    "        h = (b-a) / n\n",
    "        integral_approx = metodo(f,a,b,n)\n",
    "        push!(df, (n, h, integral_approx, NaN, NaN))\n",
    "        \n",
    "        if integral_value !== nothing\n",
    "            error = abs(integral_approx - integral_value)\n",
    "            error_ratio = NaN\n",
    "            \n",
    "            if previous_error !== nothing\n",
    "                error_ratio = error/abs(metodo(f,a,b,2*n) - integral_value)\n",
    "            end\n",
    "            \n",
    "            df.error[end] = error\n",
    "            df.error_ratio[end] = error_ratio\n",
    "            \n",
    "            previous_error = error\n",
    "        end\n",
    "    end\n",
    "    \n",
    "    return df\n",
    "end\n"
   ]
  },
  {
   "cell_type": "code",
   "execution_count": 28,
   "metadata": {},
   "outputs": [
    {
     "name": "stdout",
     "output_type": "stream",
     "text": [
      "Approximate integral: 1.5707963267948966\n"
     ]
    }
   ],
   "source": [
    "f(x) = sin(x)\n",
    "a = 0\n",
    "b = pi\n",
    "n = 2\n",
    "result = composed_trapezoid(f, a, b, n)\n",
    "println(\"Approximate integral: \", result)\n"
   ]
  },
  {
   "cell_type": "code",
   "execution_count": 29,
   "metadata": {},
   "outputs": [
    {
     "data": {
      "text/html": [
       "<div><div style = \"float: left;\"><span>10×5 DataFrame</span></div><div style = \"clear: both;\"></div></div><div class = \"data-frame\" style = \"overflow-x: scroll;\"><table class = \"data-frame\" style = \"margin-bottom: 6px;\"><thead><tr class = \"header\"><th class = \"rowNumber\" style = \"font-weight: bold; text-align: right;\">Row</th><th style = \"text-align: left;\">n</th><th style = \"text-align: left;\">h</th><th style = \"text-align: left;\">integral_value</th><th style = \"text-align: left;\">error</th><th style = \"text-align: left;\">error_ratio</th></tr><tr class = \"subheader headerLastRow\"><th class = \"rowNumber\" style = \"font-weight: bold; text-align: right;\"></th><th title = \"Int64\" style = \"text-align: left;\">Int64</th><th title = \"Float64\" style = \"text-align: left;\">Float64</th><th title = \"Float64\" style = \"text-align: left;\">Float64</th><th title = \"Float64\" style = \"text-align: left;\">Float64</th><th title = \"Float64\" style = \"text-align: left;\">Float64</th></tr></thead><tbody><tr><td class = \"rowNumber\" style = \"font-weight: bold; text-align: right;\">1</td><td style = \"text-align: right;\">1</td><td style = \"text-align: right;\">3.14159</td><td style = \"text-align: right;\">0.0</td><td style = \"text-align: right;\">2.0</td><td style = \"text-align: right;\">NaN</td></tr><tr><td class = \"rowNumber\" style = \"font-weight: bold; text-align: right;\">2</td><td style = \"text-align: right;\">2</td><td style = \"text-align: right;\">1.5708</td><td style = \"text-align: right;\">1.5708</td><td style = \"text-align: right;\">0.429204</td><td style = \"text-align: right;\">4.13168</td></tr><tr><td class = \"rowNumber\" style = \"font-weight: bold; text-align: right;\">3</td><td style = \"text-align: right;\">3</td><td style = \"text-align: right;\">1.0472</td><td style = \"text-align: right;\">1.8138</td><td style = \"text-align: right;\">0.186201</td><td style = \"text-align: right;\">4.05641</td></tr><tr><td class = \"rowNumber\" style = \"font-weight: bold; text-align: right;\">4</td><td style = \"text-align: right;\">4</td><td style = \"text-align: right;\">0.785398</td><td style = \"text-align: right;\">1.89612</td><td style = \"text-align: right;\">0.103881</td><td style = \"text-align: right;\">4.03134</td></tr><tr><td class = \"rowNumber\" style = \"font-weight: bold; text-align: right;\">5</td><td style = \"text-align: right;\">5</td><td style = \"text-align: right;\">0.628319</td><td style = \"text-align: right;\">1.93377</td><td style = \"text-align: right;\">0.0662344</td><td style = \"text-align: right;\">4.01994</td></tr><tr><td class = \"rowNumber\" style = \"font-weight: bold; text-align: right;\">6</td><td style = \"text-align: right;\">6</td><td style = \"text-align: right;\">0.523599</td><td style = \"text-align: right;\">1.9541</td><td style = \"text-align: right;\">0.0459028</td><td style = \"text-align: right;\">4.0138</td></tr><tr><td class = \"rowNumber\" style = \"font-weight: bold; text-align: right;\">7</td><td style = \"text-align: right;\">16</td><td style = \"text-align: right;\">0.19635</td><td style = \"text-align: right;\">1.99357</td><td style = \"text-align: right;\">0.00642966</td><td style = \"text-align: right;\">4.00193</td></tr><tr><td class = \"rowNumber\" style = \"font-weight: bold; text-align: right;\">8</td><td style = \"text-align: right;\">32</td><td style = \"text-align: right;\">0.0981748</td><td style = \"text-align: right;\">1.99839</td><td style = \"text-align: right;\">0.00160664</td><td style = \"text-align: right;\">4.00048</td></tr><tr><td class = \"rowNumber\" style = \"font-weight: bold; text-align: right;\">9</td><td style = \"text-align: right;\">64</td><td style = \"text-align: right;\">0.0490874</td><td style = \"text-align: right;\">1.9996</td><td style = \"text-align: right;\">0.000401611</td><td style = \"text-align: right;\">4.00012</td></tr><tr><td class = \"rowNumber\" style = \"font-weight: bold; text-align: right;\">10</td><td style = \"text-align: right;\">128</td><td style = \"text-align: right;\">0.0245437</td><td style = \"text-align: right;\">1.9999</td><td style = \"text-align: right;\">0.0001004</td><td style = \"text-align: right;\">4.00003</td></tr></tbody></table></div>"
      ],
      "text/latex": [
       "\\begin{tabular}{r|ccccc}\n",
       "\t& n & h & integral\\_value & error & error\\_ratio\\\\\n",
       "\t\\hline\n",
       "\t& Int64 & Float64 & Float64 & Float64 & Float64\\\\\n",
       "\t\\hline\n",
       "\t1 & 1 & 3.14159 & 0.0 & 2.0 & NaN \\\\\n",
       "\t2 & 2 & 1.5708 & 1.5708 & 0.429204 & 4.13168 \\\\\n",
       "\t3 & 3 & 1.0472 & 1.8138 & 0.186201 & 4.05641 \\\\\n",
       "\t4 & 4 & 0.785398 & 1.89612 & 0.103881 & 4.03134 \\\\\n",
       "\t5 & 5 & 0.628319 & 1.93377 & 0.0662344 & 4.01994 \\\\\n",
       "\t6 & 6 & 0.523599 & 1.9541 & 0.0459028 & 4.0138 \\\\\n",
       "\t7 & 16 & 0.19635 & 1.99357 & 0.00642966 & 4.00193 \\\\\n",
       "\t8 & 32 & 0.0981748 & 1.99839 & 0.00160664 & 4.00048 \\\\\n",
       "\t9 & 64 & 0.0490874 & 1.9996 & 0.000401611 & 4.00012 \\\\\n",
       "\t10 & 128 & 0.0245437 & 1.9999 & 0.0001004 & 4.00003 \\\\\n",
       "\\end{tabular}\n"
      ],
      "text/plain": [
       "\u001b[1m10×5 DataFrame\u001b[0m\n",
       "\u001b[1m Row \u001b[0m│\u001b[1m n     \u001b[0m\u001b[1m h         \u001b[0m\u001b[1m integral_value \u001b[0m\u001b[1m error       \u001b[0m\u001b[1m error_ratio \u001b[0m\n",
       "     │\u001b[90m Int64 \u001b[0m\u001b[90m Float64   \u001b[0m\u001b[90m Float64        \u001b[0m\u001b[90m Float64     \u001b[0m\u001b[90m Float64     \u001b[0m\n",
       "─────┼────────────────────────────────────────────────────────────\n",
       "   1 │     1  3.14159           0.0      2.0            NaN\n",
       "   2 │     2  1.5708            1.5708   0.429204         4.13168\n",
       "   3 │     3  1.0472            1.8138   0.186201         4.05641\n",
       "   4 │     4  0.785398          1.89612  0.103881         4.03134\n",
       "   5 │     5  0.628319          1.93377  0.0662344        4.01994\n",
       "   6 │     6  0.523599          1.9541   0.0459028        4.0138\n",
       "   7 │    16  0.19635           1.99357  0.00642966       4.00193\n",
       "   8 │    32  0.0981748         1.99839  0.00160664       4.00048\n",
       "   9 │    64  0.0490874         1.9996   0.000401611      4.00012\n",
       "  10 │   128  0.0245437         1.9999   0.0001004        4.00003"
      ]
     },
     "execution_count": 29,
     "metadata": {},
     "output_type": "execute_result"
    }
   ],
   "source": [
    "generar_tabla_integracion([1,2,3,4,5,6,16,32,64,128],f,0,pi,composed_trapezoid,2)"
   ]
  },
  {
   "cell_type": "code",
   "execution_count": 30,
   "metadata": {},
   "outputs": [
    {
     "data": {
      "text/plain": [
       "composed_simpson (generic function with 1 method)"
      ]
     },
     "execution_count": 30,
     "metadata": {},
     "output_type": "execute_result"
    }
   ],
   "source": [
    "function composed_simpson(f, a, b, n)\n",
    "    if n % 2 != 0\n",
    "        error(\"Number of subintervals (n) must be even for Simpson's rule.\")\n",
    "    end\n",
    "    h = (b - a) / n\n",
    "    result = f(a) + f(b)\n",
    "    for i = 1:n-1\n",
    "        x_i = a + i*h\n",
    "        result += 4 * f(x_i) * (i % 2) + 2 * f(x_i) * (1 - i % 2)\n",
    "    end\n",
    "    result *= h / 3\n",
    "    return result\n",
    "end"
   ]
  },
  {
   "cell_type": "code",
   "execution_count": 31,
   "metadata": {},
   "outputs": [
    {
     "data": {
      "text/plain": [
       "2.000000004032258"
      ]
     },
     "execution_count": 31,
     "metadata": {},
     "output_type": "execute_result"
    }
   ],
   "source": [
    "composed_simpson(f,0,pi,128)"
   ]
  },
  {
   "cell_type": "code",
   "execution_count": 51,
   "metadata": {},
   "outputs": [
    {
     "data": {
      "text/html": [
       "<div><div style = \"float: left;\"><span>7×5 DataFrame</span></div><div style = \"clear: both;\"></div></div><div class = \"data-frame\" style = \"overflow-x: scroll;\"><table class = \"data-frame\" style = \"margin-bottom: 6px;\"><thead><tr class = \"header\"><th class = \"rowNumber\" style = \"font-weight: bold; text-align: right;\">Row</th><th style = \"text-align: left;\">n</th><th style = \"text-align: left;\">h</th><th style = \"text-align: left;\">integral_value</th><th style = \"text-align: left;\">error</th><th style = \"text-align: left;\">error_ratio</th></tr><tr class = \"subheader headerLastRow\"><th class = \"rowNumber\" style = \"font-weight: bold; text-align: right;\"></th><th title = \"Int64\" style = \"text-align: left;\">Int64</th><th title = \"Float64\" style = \"text-align: left;\">Float64</th><th title = \"Float64\" style = \"text-align: left;\">Float64</th><th title = \"Float64\" style = \"text-align: left;\">Float64</th><th title = \"Float64\" style = \"text-align: left;\">Float64</th></tr></thead><tbody><tr><td class = \"rowNumber\" style = \"font-weight: bold; text-align: right;\">1</td><td style = \"text-align: right;\">2</td><td style = \"text-align: right;\">1.5708</td><td style = \"text-align: right;\">2.0944</td><td style = \"text-align: right;\">0.0943951</td><td style = \"text-align: right;\">NaN</td></tr><tr><td class = \"rowNumber\" style = \"font-weight: bold; text-align: right;\">2</td><td style = \"text-align: right;\">4</td><td style = \"text-align: right;\">0.785398</td><td style = \"text-align: right;\">2.00456</td><td style = \"text-align: right;\">0.00455975</td><td style = \"text-align: right;\">20.7018</td></tr><tr><td class = \"rowNumber\" style = \"font-weight: bold; text-align: right;\">3</td><td style = \"text-align: right;\">8</td><td style = \"text-align: right;\">0.392699</td><td style = \"text-align: right;\">2.00027</td><td style = \"text-align: right;\">0.00026917</td><td style = \"text-align: right;\">16.9401</td></tr><tr><td class = \"rowNumber\" style = \"font-weight: bold; text-align: right;\">4</td><td style = \"text-align: right;\">16</td><td style = \"text-align: right;\">0.19635</td><td style = \"text-align: right;\">2.00002</td><td style = \"text-align: right;\">1.6591e-5</td><td style = \"text-align: right;\">16.2238</td></tr><tr><td class = \"rowNumber\" style = \"font-weight: bold; text-align: right;\">5</td><td style = \"text-align: right;\">32</td><td style = \"text-align: right;\">0.0981748</td><td style = \"text-align: right;\">2.0</td><td style = \"text-align: right;\">1.03337e-6</td><td style = \"text-align: right;\">16.0553</td></tr><tr><td class = \"rowNumber\" style = \"font-weight: bold; text-align: right;\">6</td><td style = \"text-align: right;\">64</td><td style = \"text-align: right;\">0.0490874</td><td style = \"text-align: right;\">2.0</td><td style = \"text-align: right;\">6.453e-8</td><td style = \"text-align: right;\">16.0138</td></tr><tr><td class = \"rowNumber\" style = \"font-weight: bold; text-align: right;\">7</td><td style = \"text-align: right;\">128</td><td style = \"text-align: right;\">0.0245437</td><td style = \"text-align: right;\">2.0</td><td style = \"text-align: right;\">4.03226e-9</td><td style = \"text-align: right;\">16.0034</td></tr></tbody></table></div>"
      ],
      "text/latex": [
       "\\begin{tabular}{r|ccccc}\n",
       "\t& n & h & integral\\_value & error & error\\_ratio\\\\\n",
       "\t\\hline\n",
       "\t& Int64 & Float64 & Float64 & Float64 & Float64\\\\\n",
       "\t\\hline\n",
       "\t1 & 2 & 1.5708 & 2.0944 & 0.0943951 & NaN \\\\\n",
       "\t2 & 4 & 0.785398 & 2.00456 & 0.00455975 & 20.7018 \\\\\n",
       "\t3 & 8 & 0.392699 & 2.00027 & 0.00026917 & 16.9401 \\\\\n",
       "\t4 & 16 & 0.19635 & 2.00002 & 1.6591e-5 & 16.2238 \\\\\n",
       "\t5 & 32 & 0.0981748 & 2.0 & 1.03337e-6 & 16.0553 \\\\\n",
       "\t6 & 64 & 0.0490874 & 2.0 & 6.453e-8 & 16.0138 \\\\\n",
       "\t7 & 128 & 0.0245437 & 2.0 & 4.03226e-9 & 16.0034 \\\\\n",
       "\\end{tabular}\n"
      ],
      "text/plain": [
       "\u001b[1m7×5 DataFrame\u001b[0m\n",
       "\u001b[1m Row \u001b[0m│\u001b[1m n     \u001b[0m\u001b[1m h         \u001b[0m\u001b[1m integral_value \u001b[0m\u001b[1m error      \u001b[0m\u001b[1m error_ratio \u001b[0m\n",
       "     │\u001b[90m Int64 \u001b[0m\u001b[90m Float64   \u001b[0m\u001b[90m Float64        \u001b[0m\u001b[90m Float64    \u001b[0m\u001b[90m Float64     \u001b[0m\n",
       "─────┼───────────────────────────────────────────────────────────\n",
       "   1 │     2  1.5708            2.0944   0.0943951      NaN\n",
       "   2 │     4  0.785398          2.00456  0.00455975      20.7018\n",
       "   3 │     8  0.392699          2.00027  0.00026917      16.9401\n",
       "   4 │    16  0.19635           2.00002  1.6591e-5       16.2238\n",
       "   5 │    32  0.0981748         2.0      1.03337e-6      16.0553\n",
       "   6 │    64  0.0490874         2.0      6.453e-8        16.0138\n",
       "   7 │   128  0.0245437         2.0      4.03226e-9      16.0034"
      ]
     },
     "execution_count": 51,
     "metadata": {},
     "output_type": "execute_result"
    }
   ],
   "source": [
    "f(x) = sin(x)\n",
    "generar_tabla_integracion([2,4,8,16,32,64,128],f,0,pi,composed_simpson,2)"
   ]
  },
  {
   "cell_type": "code",
   "execution_count": 84,
   "metadata": {},
   "outputs": [
    {
     "data": {
      "text/plain": [
       "composed_midpoint (generic function with 1 method)"
      ]
     },
     "execution_count": 84,
     "metadata": {},
     "output_type": "execute_result"
    }
   ],
   "source": [
    "function composed_midpoint(f, a, b, n)\n",
    "    h = (b - a) / n\n",
    "    result = 0.0\n",
    "    \n",
    "    for i = 0:n-1\n",
    "        x_i = a + (h/2.0) + i * h\n",
    "        result += f(x_i)\n",
    "    end\n",
    "    \n",
    "    result *= h\n",
    "    return result\n",
    "end\n",
    "\n"
   ]
  },
  {
   "cell_type": "code",
   "execution_count": 85,
   "metadata": {},
   "outputs": [
    {
     "data": {
      "text/plain": [
       "2.221441469079183"
      ]
     },
     "execution_count": 85,
     "metadata": {},
     "output_type": "execute_result"
    }
   ],
   "source": [
    "composed_midpoint(f,0,pi,2)"
   ]
  },
  {
   "cell_type": "code",
   "execution_count": 86,
   "metadata": {},
   "outputs": [
    {
     "data": {
      "text/html": [
       "<div><div style = \"float: left;\"><span>7×5 DataFrame</span></div><div style = \"clear: both;\"></div></div><div class = \"data-frame\" style = \"overflow-x: scroll;\"><table class = \"data-frame\" style = \"margin-bottom: 6px;\"><thead><tr class = \"header\"><th class = \"rowNumber\" style = \"font-weight: bold; text-align: right;\">Row</th><th style = \"text-align: left;\">n</th><th style = \"text-align: left;\">h</th><th style = \"text-align: left;\">integral_value</th><th style = \"text-align: left;\">error</th><th style = \"text-align: left;\">error_ratio</th></tr><tr class = \"subheader headerLastRow\"><th class = \"rowNumber\" style = \"font-weight: bold; text-align: right;\"></th><th title = \"Int64\" style = \"text-align: left;\">Int64</th><th title = \"Float64\" style = \"text-align: left;\">Float64</th><th title = \"Float64\" style = \"text-align: left;\">Float64</th><th title = \"Float64\" style = \"text-align: left;\">Float64</th><th title = \"Float64\" style = \"text-align: left;\">Float64</th></tr></thead><tbody><tr><td class = \"rowNumber\" style = \"font-weight: bold; text-align: right;\">1</td><td style = \"text-align: right;\">2</td><td style = \"text-align: right;\">1.5708</td><td style = \"text-align: right;\">2.22144</td><td style = \"text-align: right;\">0.221441</td><td style = \"text-align: right;\">NaN</td></tr><tr><td class = \"rowNumber\" style = \"font-weight: bold; text-align: right;\">2</td><td style = \"text-align: right;\">4</td><td style = \"text-align: right;\">0.785398</td><td style = \"text-align: right;\">2.05234</td><td style = \"text-align: right;\">0.0523443</td><td style = \"text-align: right;\">4.23048</td></tr><tr><td class = \"rowNumber\" style = \"font-weight: bold; text-align: right;\">3</td><td style = \"text-align: right;\">8</td><td style = \"text-align: right;\">0.392699</td><td style = \"text-align: right;\">2.01291</td><td style = \"text-align: right;\">0.0129091</td><td style = \"text-align: right;\">4.05484</td></tr><tr><td class = \"rowNumber\" style = \"font-weight: bold; text-align: right;\">4</td><td style = \"text-align: right;\">16</td><td style = \"text-align: right;\">0.19635</td><td style = \"text-align: right;\">2.00322</td><td style = \"text-align: right;\">0.00321638</td><td style = \"text-align: right;\">4.01355</td></tr><tr><td class = \"rowNumber\" style = \"font-weight: bold; text-align: right;\">5</td><td style = \"text-align: right;\">32</td><td style = \"text-align: right;\">0.0981748</td><td style = \"text-align: right;\">2.0008</td><td style = \"text-align: right;\">0.000803416</td><td style = \"text-align: right;\">4.00338</td></tr><tr><td class = \"rowNumber\" style = \"font-weight: bold; text-align: right;\">6</td><td style = \"text-align: right;\">64</td><td style = \"text-align: right;\">0.0490874</td><td style = \"text-align: right;\">2.0002</td><td style = \"text-align: right;\">0.000200812</td><td style = \"text-align: right;\">4.00084</td></tr><tr><td class = \"rowNumber\" style = \"font-weight: bold; text-align: right;\">7</td><td style = \"text-align: right;\">128</td><td style = \"text-align: right;\">0.0245437</td><td style = \"text-align: right;\">2.00005</td><td style = \"text-align: right;\">5.02003e-5</td><td style = \"text-align: right;\">4.00021</td></tr></tbody></table></div>"
      ],
      "text/latex": [
       "\\begin{tabular}{r|ccccc}\n",
       "\t& n & h & integral\\_value & error & error\\_ratio\\\\\n",
       "\t\\hline\n",
       "\t& Int64 & Float64 & Float64 & Float64 & Float64\\\\\n",
       "\t\\hline\n",
       "\t1 & 2 & 1.5708 & 2.22144 & 0.221441 & NaN \\\\\n",
       "\t2 & 4 & 0.785398 & 2.05234 & 0.0523443 & 4.23048 \\\\\n",
       "\t3 & 8 & 0.392699 & 2.01291 & 0.0129091 & 4.05484 \\\\\n",
       "\t4 & 16 & 0.19635 & 2.00322 & 0.00321638 & 4.01355 \\\\\n",
       "\t5 & 32 & 0.0981748 & 2.0008 & 0.000803416 & 4.00338 \\\\\n",
       "\t6 & 64 & 0.0490874 & 2.0002 & 0.000200812 & 4.00084 \\\\\n",
       "\t7 & 128 & 0.0245437 & 2.00005 & 5.02003e-5 & 4.00021 \\\\\n",
       "\\end{tabular}\n"
      ],
      "text/plain": [
       "\u001b[1m7×5 DataFrame\u001b[0m\n",
       "\u001b[1m Row \u001b[0m│\u001b[1m n     \u001b[0m\u001b[1m h         \u001b[0m\u001b[1m integral_value \u001b[0m\u001b[1m error       \u001b[0m\u001b[1m error_ratio \u001b[0m\n",
       "     │\u001b[90m Int64 \u001b[0m\u001b[90m Float64   \u001b[0m\u001b[90m Float64        \u001b[0m\u001b[90m Float64     \u001b[0m\u001b[90m Float64     \u001b[0m\n",
       "─────┼────────────────────────────────────────────────────────────\n",
       "   1 │     2  1.5708            2.22144  0.221441       NaN\n",
       "   2 │     4  0.785398          2.05234  0.0523443        4.23048\n",
       "   3 │     8  0.392699          2.01291  0.0129091        4.05484\n",
       "   4 │    16  0.19635           2.00322  0.00321638       4.01355\n",
       "   5 │    32  0.0981748         2.0008   0.000803416      4.00338\n",
       "   6 │    64  0.0490874         2.0002   0.000200812      4.00084\n",
       "   7 │   128  0.0245437         2.00005  5.02003e-5       4.00021"
      ]
     },
     "execution_count": 86,
     "metadata": {},
     "output_type": "execute_result"
    }
   ],
   "source": [
    "generar_tabla_integracion([2,4,8,16,32,64,128],f,0,pi,composed_midpoint,2)"
   ]
  },
  {
   "cell_type": "markdown",
   "metadata": {},
   "source": [
    "## Cuadraturas Gaussianas"
   ]
  },
  {
   "cell_type": "code",
   "execution_count": 2,
   "metadata": {},
   "outputs": [
    {
     "name": "stdout",
     "output_type": "stream",
     "text": [
      "Result (Order 1): 0.25\n"
     ]
    }
   ],
   "source": [
    "function gaussian_quadrature_order_1(f, a, b)\n",
    "    t1 = 0\n",
    "    w1 = 2 * (b - a) / 2\n",
    "    \n",
    "    result = w1 * f((b - a)/2 * t1 + (a + b)/2)\n",
    "    return result\n",
    "end\n",
    "\n",
    "a = 0\n",
    "b = 1\n",
    "f(x) = x^2\n",
    "\n",
    "result_order_1 = gaussian_quadrature_order_1(f, a, b)\n",
    "println(\"Result (Order 1): \", result_order_1)\n"
   ]
  },
  {
   "cell_type": "code",
   "execution_count": 6,
   "metadata": {},
   "outputs": [
    {
     "name": "stdout",
     "output_type": "stream",
     "text": [
      "Result (Order 2): 25666.666666666668\n"
     ]
    }
   ],
   "source": [
    "function gaussian_quadrature_order_2(f, a, b)\n",
    "    t1 = -1/sqrt(3)\n",
    "    t2 = 1/sqrt(3)\n",
    "    w1 = w2 = (b - a) / 2\n",
    "    \n",
    "    result = w1 * f((b - a)/2 * t1 + (a + b)/2) + w2 * f((b - a)/2 * t2 + (a + b)/2)\n",
    "    return result\n",
    "end\n",
    "f(x)=10*x^3+2*x^2+x-5\n",
    "a=0\n",
    "b=10\n",
    "result_order_2 = gaussian_quadrature_order_2(f, a, b)\n",
    "println(\"Result (Order 2): \", result_order_2)\n"
   ]
  },
  {
   "cell_type": "code",
   "execution_count": 4,
   "metadata": {},
   "outputs": [
    {
     "name": "stdout",
     "output_type": "stream",
     "text": [
      "Result (Order 3): 0.33333333333333337\n"
     ]
    }
   ],
   "source": [
    "function gaussian_quadrature_order_3(f, a, b)\n",
    "    t1 = -sqrt(3/5)\n",
    "    t2 = 0\n",
    "    t3 = sqrt(3/5)\n",
    "    w1 = w3 = 5/9 * (b - a) / 2\n",
    "    w2 = 8/9 * (b - a) / 2\n",
    "    \n",
    "    result = w1 * f((b - a)/2 * t1 + (a + b)/2) + w2 * f((b - a)/2 * t2 + (a + b)/2) + w3 * f((b - a)/2 * t3 + (a + b)/2)\n",
    "    return result\n",
    "end\n",
    "\n",
    "result_order_3 = gaussian_quadrature_order_3(f, a, b)\n",
    "println(\"Result (Order 3): \", result_order_3)\n"
   ]
  },
  {
   "cell_type": "code",
   "execution_count": 7,
   "metadata": {},
   "outputs": [
    {
     "name": "stdout",
     "output_type": "stream",
     "text": [
      "Result (Order 2): 0.6923076923076923\n"
     ]
    }
   ],
   "source": [
    "f(x)=1/x\n",
    "a=1\n",
    "b=2\n",
    "result_order_2 = gaussian_quadrature_order_2(f, a, b)\n",
    "println(\"Result (Order 2): \", result_order_2)"
   ]
  },
  {
   "cell_type": "code",
   "execution_count": 13,
   "metadata": {},
   "outputs": [
    {
     "name": "stdout",
     "output_type": "stream",
     "text": [
      "Result (Composed Quadrature): 0.7853981704463583\n"
     ]
    }
   ],
   "source": [
    "function composed_quadrature(f, a, b, order, num_subintervals)\n",
    "    subinterval_width = (b - a) / num_subintervals\n",
    "    total_result = 0.0\n",
    "\n",
    "    for i = 1:num_subintervals\n",
    "        subinterval_a = a + (i - 1) * subinterval_width\n",
    "        subinterval_b = a + i * subinterval_width\n",
    "\n",
    "        # Use Gaussian quadrature on the subinterval\n",
    "        if order == 1\n",
    "            result = gaussian_quadrature_order_1(f, subinterval_a, subinterval_b)\n",
    "        elseif order == 2\n",
    "            result = gaussian_quadrature_order_2(f, subinterval_a, subinterval_b)\n",
    "        elseif order == 3\n",
    "            result = gaussian_quadrature_order_3(f, subinterval_a, subinterval_b)\n",
    "        else\n",
    "            error(\"Order not supported. Please choose 1, 2, or 3.\")\n",
    "        end\n",
    "\n",
    "        total_result += result\n",
    "    end\n",
    "\n",
    "    return total_result\n",
    "end\n",
    "\n",
    "a = 0\n",
    "b = 1\n",
    "order = 2\n",
    "num_subintervals = 5\n",
    "f(x) =1/(1+ x^2)\n",
    "\n",
    "result_composed = composed_quadrature(f, a, b, order, num_subintervals)\n",
    "println(\"Result (Composed Quadrature): \", result_composed)\n"
   ]
  }
 ],
 "metadata": {
  "kernelspec": {
   "display_name": "Julia 1.9.3",
   "language": "julia",
   "name": "julia-1.9"
  },
  "language_info": {
   "file_extension": ".jl",
   "mimetype": "application/julia",
   "name": "julia",
   "version": "1.9.3"
  }
 },
 "nbformat": 4,
 "nbformat_minor": 4
}
